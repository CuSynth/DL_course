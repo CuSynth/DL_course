{
 "cells": [
  {
   "cell_type": "markdown",
   "metadata": {
    "colab_type": "text",
    "id": "AbwmoJusmueU",
    "pycharm": {
     "name": "#%% md\n"
    }
   },
   "source": [
    "# Reinforcement Learning"
   ]
  },
  {
   "cell_type": "markdown",
   "metadata": {
    "colab_type": "text",
    "id": "7xcuGNp-mueX",
    "pycharm": {
     "name": "#%% md\n"
    }
   },
   "source": [
    "В этом задании постараемся разобраться в проблеме обучения с подкреплением, реализуем алгоритм REINFORCE и научим агента с помощью этого алгоритма играть в игру Cartpole."
   ]
  },
  {
   "cell_type": "markdown",
   "metadata": {
    "colab_type": "text",
    "id": "4HoHMD_GmueZ",
    "pycharm": {
     "name": "#%% md\n"
    }
   },
   "source": [
    "Установим и импортируем необходимые библиотеки, а также вспомогательные функции для визуализации игры агента."
   ]
  },
  {
   "cell_type": "code",
   "execution_count": 1,
   "metadata": {
    "colab": {},
    "colab_type": "code",
    "id": "kHKfskxa7kaI",
    "pycharm": {
     "name": "#%%\n"
    }
   },
   "outputs": [],
   "source": [
    "# !pip install gym pandas matplotlib pyvirtualdisplay > /dev/null 2>&1 #torch\n",
    "# !apt-get install -y xvfb python-opengl ffmpeg x11-utils > /dev/null 2>&1"
   ]
  },
  {
   "cell_type": "code",
   "execution_count": 2,
   "metadata": {
    "colab": {},
    "colab_type": "code",
    "id": "WiX0JVM3z0Ru",
    "pycharm": {
     "name": "#%%\n"
    }
   },
   "outputs": [],
   "source": [
    "from IPython.display import clear_output, HTML\n",
    "from IPython import display as ipythondisplay\n",
    "import matplotlib.pyplot as plt\n",
    "%matplotlib inline"
   ]
  },
  {
   "cell_type": "code",
   "execution_count": 3,
   "metadata": {
    "colab": {},
    "colab_type": "code",
    "id": "IsjSHknYl1rj",
    "pycharm": {
     "name": "#%%\n"
    }
   },
   "outputs": [
    {
     "name": "stderr",
     "output_type": "stream",
     "text": [
      "\n"
     ]
    }
   ],
   "source": [
    "import numpy as np\n",
    "import glob\n",
    "import time\n",
    "import io\n",
    "import base64\n",
    "import gym\n",
    "from gym.wrappers import Monitor\n",
    "import torch\n",
    "import collections\n",
    "import pandas as pd\n",
    "from torch import nn\n",
    "from torch.optim import Adam\n",
    "from torch.distributions import Categorical"
   ]
  },
  {
   "cell_type": "code",
   "execution_count": 4,
   "metadata": {
    "colab": {},
    "colab_type": "code",
    "id": "b5KfVGq1n_8s",
    "pycharm": {
     "name": "#%%\n"
    }
   },
   "outputs": [
    {
     "data": {
      "text/plain": "<pyvirtualdisplay.display.Display at 0x7fb4984cc670>"
     },
     "execution_count": 4,
     "metadata": {},
     "output_type": "execute_result"
    }
   ],
   "source": [
    "from pyvirtualdisplay import Display\n",
    "display = Display(visible=0, size=(1400, 900))\n",
    "display.start()"
   ]
  },
  {
   "cell_type": "code",
   "execution_count": 5,
   "metadata": {
    "colab": {},
    "colab_type": "code",
    "id": "4xGh4QxDnlFw",
    "pycharm": {
     "name": "#%%\n"
    }
   },
   "outputs": [],
   "source": [
    "\"\"\"\n",
    "Utility functions to enable video recording of gym environment and displaying it\n",
    "To enable video, just do \"env = wrap_env(env)\"\"\n",
    "\"\"\"\n",
    "\n",
    "def show_video():\n",
    "    mp4list = glob.glob('video/*.mp4')\n",
    "    if len(mp4list) > 0:\n",
    "        mp4 = mp4list[0]\n",
    "        video = io.open(mp4, 'r+b').read()\n",
    "        encoded = base64.b64encode(video)\n",
    "        ipythondisplay.display(HTML(data='''<video alt=\"test\" autoplay \n",
    "                loop controls style=\"height: 400px;\">\n",
    "                <source src=\"data:video/mp4;base64,{0}\" type=\"video/mp4\" />\n",
    "             </video>'''.format(encoded.decode('ascii'))))\n",
    "    else: \n",
    "        print(\"Could not find video\")\n",
    "    \n",
    "\n",
    "def wrap_env(env):\n",
    "    env = Monitor(env, './video', force=True)\n",
    "    return env"
   ]
  },
  {
   "cell_type": "code",
   "execution_count": 6,
   "metadata": {
    "colab": {},
    "colab_type": "code",
    "id": "Dfi89tXjmuet",
    "pycharm": {
     "name": "#%%\n"
    }
   },
   "outputs": [
    {
     "name": "stdout",
     "output_type": "stream",
     "text": [
      "Cuda is here\n"
     ]
    }
   ],
   "source": [
    "device = None\n",
    "if torch.cuda.is_available():\n",
    "    device = torch.device('cuda:0') #позволяет перенести тензор на GPU, если он доступен в системе\n",
    "    print('Cuda is here')\n",
    "else:\n",
    "    device = torch.device('cpu')"
   ]
  },
  {
   "cell_type": "markdown",
   "metadata": {
    "colab_type": "text",
    "id": "AhDVTPxymuez",
    "pycharm": {
     "name": "#%% md\n"
    }
   },
   "source": [
    "## OpenAI Gym"
   ]
  },
  {
   "cell_type": "markdown",
   "metadata": {
    "colab_type": "text",
    "id": "VZb-IIq4muez",
    "pycharm": {
     "name": "#%% md\n"
    }
   },
   "source": [
    "[OpenAI Gym](https://gym.openai.com) это набор сред для разработки и сравнения алгоритмов обучения с подкреплением."
   ]
  },
  {
   "cell_type": "markdown",
   "metadata": {
    "colab_type": "text",
    "id": "fFkuRjxNmue2",
    "pycharm": {
     "name": "#%% md\n"
    }
   },
   "source": [
    "OpenAI Gym предоставляет простой и универсальный API ко многим средам с разными свойствами, как простым так и сложным:\n",
    "* Классические задачи управления и игрушечные примеры, которые можно найти в учебниках и на которых демонстрируется работа алгоритмов обучения с подкреплением (одна из этих сред используется в этом задании)\n",
    "* Игры Atari (оказали огромное влияние на достижения в обучении с подкреплением в последние годы)\n",
    "* 2D и 3D среды для контроля роботов в симуляции (используют проприетарный движок [Mojuco](http://www.mujoco.org))"
   ]
  },
  {
   "cell_type": "markdown",
   "metadata": {
    "colab_type": "text",
    "id": "NIu0Uhj7mue5",
    "pycharm": {
     "name": "#%% md\n"
    }
   },
   "source": [
    "Рассмотрим, как устроена среда [CartPole](https://gym.openai.com/envs/CartPole-v0), с которой мы будем работать."
   ]
  },
  {
   "cell_type": "markdown",
   "metadata": {
    "colab_type": "text",
    "id": "KYHUeiMXmue6",
    "pycharm": {
     "name": "#%% md\n"
    }
   },
   "source": [
    "Для этого создадим среду и выведем ее описание."
   ]
  },
  {
   "cell_type": "code",
   "execution_count": 7,
   "metadata": {
    "colab": {},
    "colab_type": "code",
    "id": "b9BRqxoDmue7",
    "pycharm": {
     "name": "#%%\n"
    }
   },
   "outputs": [
    {
     "name": "stdout",
     "output_type": "stream",
     "text": [
      "None\n"
     ]
    },
    {
     "name": "stderr",
     "output_type": "stream",
     "text": [
      "/home/kkorzhanevskii/.local/lib/python3.8/site-packages/gym/envs/registration.py:505: UserWarning: \u001B[33mWARN: The environment CartPole-v0 is out of date. You should consider upgrading to version `v1` with the environment ID `CartPole-v1`.\u001B[0m\n",
      "  logger.warn(\n"
     ]
    }
   ],
   "source": [
    "# import pygame\n",
    "env = gym.make(\"CartPole-v0\") # pygame needed\n",
    "print(env.__doc__)"
   ]
  },
  {
   "cell_type": "markdown",
   "metadata": {
    "colab_type": "text",
    "id": "tovAoT5dmufD",
    "pycharm": {
     "name": "#%% md\n"
    }
   },
   "source": [
    "Из этого описания мы можем узнать, как устроены пространства состояний и действий в этой среды, какие награды получаются на каждом шаге, а также, что нам необходимо сделать, чтобы научиться \"решать\" эту среду, а именно достич средней награды больше 195.0 или больше за 100 последовательных запусков агента в этой среде. Именно такого агента мы и попробуем создать и обучить."
   ]
  },
  {
   "cell_type": "markdown",
   "metadata": {
    "colab_type": "text",
    "id": "hZ98fYaxmufF",
    "pycharm": {
     "name": "#%% md\n"
    }
   },
   "source": [
    "Но для начала напишем вспомогательную функцию, которая будет принимать на вход среду, агента и число эпизодов, и возвращать среднюю награду за 100 эпизодов. С помощью этой функции мы сможем протестировать, насколько хорошо обучился наш агент, а также визуализировать его поведение в среде."
   ]
  },
  {
   "cell_type": "code",
   "execution_count": 8,
   "metadata": {
    "colab": {},
    "colab_type": "code",
    "id": "0jXEOwd7njUm",
    "pycharm": {
     "name": "#%%\n"
    }
   },
   "outputs": [],
   "source": [
    "def test_agent(env, agent=None, n_episodes=100):\n",
    "    \"\"\"Runs agent for n_episodes in environment and calclates mean reward.\n",
    "    \n",
    "    Args:\n",
    "        env: The environment for agent to play in\n",
    "        agent: The agent to play with. Defaults to None - \n",
    "            in this case random agent is used.\n",
    "        n_episodes: Number of episodes to play. Defaults to 100.\n",
    "\n",
    "    Returns:\n",
    "        Mean reward for 100 episodes.\n",
    "    \"\"\"\n",
    "    total_reward = []\n",
    "    for episode in range(n_episodes):\n",
    "        episode_reward = 0\n",
    "        observation = env.reset()\n",
    "        t = 0\n",
    "        while True:\n",
    "            if agent:\n",
    "                with torch.no_grad():\n",
    "                    probs = agent(torch.FloatTensor(observation).to(device))\n",
    "                    dist = Categorical(probs)\n",
    "                    action = dist.sample().item()\n",
    "            else:\n",
    "                action = env.action_space.sample()\n",
    "            observation, reward, done, info = env.step(action)\n",
    "            episode_reward += reward\n",
    "            t += 1\n",
    "            if done:\n",
    "                print(\"Episode {} finished after {} timesteps\".format(episode+1, t+1))\n",
    "                break\n",
    "        total_reward.append(episode_reward)\n",
    "        env.close()\n",
    "                   \n",
    "    return np.mean(total_reward)"
   ]
  },
  {
   "cell_type": "markdown",
   "metadata": {
    "colab_type": "text",
    "id": "TqnYqFVSmufL",
    "pycharm": {
     "name": "#%% md\n"
    }
   },
   "source": [
    "Протестируем и визуализируем случайного агента (параметр ```agent=False```)."
   ]
  },
  {
   "cell_type": "code",
   "execution_count": 9,
   "metadata": {
    "colab": {},
    "colab_type": "code",
    "id": "yqVokBDFmufM",
    "scrolled": true,
    "pycharm": {
     "name": "#%%\n"
    }
   },
   "outputs": [
    {
     "name": "stdout",
     "output_type": "stream",
     "text": [
      "Episode 1 finished after 22 timesteps\n",
      "Episode 2 finished after 18 timesteps\n",
      "Episode 3 finished after 15 timesteps\n",
      "Episode 4 finished after 47 timesteps\n",
      "Episode 5 finished after 15 timesteps\n",
      "Episode 6 finished after 21 timesteps\n",
      "Episode 7 finished after 33 timesteps\n",
      "Episode 8 finished after 19 timesteps\n",
      "Episode 9 finished after 27 timesteps\n",
      "Episode 10 finished after 13 timesteps\n",
      "Episode 11 finished after 14 timesteps\n",
      "Episode 12 finished after 38 timesteps\n",
      "Episode 13 finished after 18 timesteps\n",
      "Episode 14 finished after 18 timesteps\n",
      "Episode 15 finished after 14 timesteps\n",
      "Episode 16 finished after 37 timesteps\n",
      "Episode 17 finished after 16 timesteps\n",
      "Episode 18 finished after 17 timesteps\n",
      "Episode 19 finished after 13 timesteps\n",
      "Episode 20 finished after 20 timesteps\n",
      "Episode 21 finished after 19 timesteps\n",
      "Episode 22 finished after 17 timesteps\n",
      "Episode 23 finished after 28 timesteps\n",
      "Episode 24 finished after 45 timesteps\n",
      "Episode 25 finished after 17 timesteps\n",
      "Episode 26 finished after 13 timesteps\n",
      "Episode 27 finished after 18 timesteps\n",
      "Episode 28 finished after 29 timesteps\n",
      "Episode 29 finished after 50 timesteps\n",
      "Episode 30 finished after 10 timesteps\n",
      "Episode 31 finished after 30 timesteps\n",
      "Episode 32 finished after 17 timesteps\n",
      "Episode 33 finished after 13 timesteps\n",
      "Episode 34 finished after 26 timesteps\n",
      "Episode 35 finished after 21 timesteps\n",
      "Episode 36 finished after 15 timesteps\n",
      "Episode 37 finished after 15 timesteps\n",
      "Episode 38 finished after 20 timesteps\n",
      "Episode 39 finished after 19 timesteps\n",
      "Episode 40 finished after 22 timesteps\n",
      "Episode 41 finished after 26 timesteps\n",
      "Episode 42 finished after 16 timesteps\n",
      "Episode 43 finished after 48 timesteps\n",
      "Episode 44 finished after 23 timesteps\n",
      "Episode 45 finished after 20 timesteps\n",
      "Episode 46 finished after 15 timesteps\n",
      "Episode 47 finished after 23 timesteps\n",
      "Episode 48 finished after 20 timesteps\n",
      "Episode 49 finished after 21 timesteps\n",
      "Episode 50 finished after 27 timesteps\n",
      "Episode 51 finished after 24 timesteps\n",
      "Episode 52 finished after 18 timesteps\n",
      "Episode 53 finished after 25 timesteps\n",
      "Episode 54 finished after 38 timesteps\n",
      "Episode 55 finished after 38 timesteps\n",
      "Episode 56 finished after 47 timesteps\n",
      "Episode 57 finished after 40 timesteps\n",
      "Episode 58 finished after 11 timesteps\n",
      "Episode 59 finished after 28 timesteps\n",
      "Episode 60 finished after 12 timesteps\n",
      "Episode 61 finished after 19 timesteps\n",
      "Episode 62 finished after 41 timesteps\n",
      "Episode 63 finished after 17 timesteps\n",
      "Episode 64 finished after 13 timesteps\n",
      "Episode 65 finished after 34 timesteps\n",
      "Episode 66 finished after 12 timesteps\n",
      "Episode 67 finished after 15 timesteps\n",
      "Episode 68 finished after 15 timesteps\n",
      "Episode 69 finished after 10 timesteps\n",
      "Episode 70 finished after 58 timesteps\n",
      "Episode 71 finished after 25 timesteps\n",
      "Episode 72 finished after 53 timesteps\n",
      "Episode 73 finished after 36 timesteps\n",
      "Episode 74 finished after 21 timesteps\n",
      "Episode 75 finished after 27 timesteps\n",
      "Episode 76 finished after 39 timesteps\n",
      "Episode 77 finished after 34 timesteps\n",
      "Episode 78 finished after 21 timesteps\n",
      "Episode 79 finished after 23 timesteps\n",
      "Episode 80 finished after 34 timesteps\n",
      "Episode 81 finished after 20 timesteps\n",
      "Episode 82 finished after 17 timesteps\n",
      "Episode 83 finished after 13 timesteps\n",
      "Episode 84 finished after 18 timesteps\n",
      "Episode 85 finished after 60 timesteps\n",
      "Episode 86 finished after 13 timesteps\n",
      "Episode 87 finished after 15 timesteps\n",
      "Episode 88 finished after 23 timesteps\n",
      "Episode 89 finished after 13 timesteps\n",
      "Episode 90 finished after 16 timesteps\n",
      "Episode 91 finished after 35 timesteps\n",
      "Episode 92 finished after 23 timesteps\n",
      "Episode 93 finished after 38 timesteps\n",
      "Episode 94 finished after 25 timesteps\n",
      "Episode 95 finished after 83 timesteps\n",
      "Episode 96 finished after 24 timesteps\n",
      "Episode 97 finished after 37 timesteps\n",
      "Episode 98 finished after 19 timesteps\n",
      "Episode 99 finished after 26 timesteps\n",
      "Episode 100 finished after 39 timesteps\n"
     ]
    },
    {
     "data": {
      "text/plain": "24.03"
     },
     "execution_count": 9,
     "metadata": {},
     "output_type": "execute_result"
    }
   ],
   "source": [
    "test_agent(env, agent=False, n_episodes=100)"
   ]
  },
  {
   "cell_type": "markdown",
   "metadata": {
    "colab_type": "text",
    "id": "8bzNtyllmufS",
    "pycharm": {
     "name": "#%% md\n"
    }
   },
   "source": [
    "Как видно, наш случайный агент выступает не очень хорошо и в среднем может удержать шест всего около 20 шагов."
   ]
  },
  {
   "cell_type": "markdown",
   "metadata": {
    "colab_type": "text",
    "id": "BNcZLQpzmufU",
    "pycharm": {
     "name": "#%% md\n"
    }
   },
   "source": [
    "Напишем функцию для визуализации агента и посмотрим на случайного агента."
   ]
  },
  {
   "cell_type": "code",
   "execution_count": 10,
   "metadata": {
    "colab": {},
    "colab_type": "code",
    "id": "GgThoRPgoMcs",
    "pycharm": {
     "name": "#%%\n"
    }
   },
   "outputs": [],
   "source": [
    "def agent_viz(env=\"CartPole-v0\", agent=None):\n",
    "    \"\"\"Visualizes agent play in the given environment.\n",
    "    \n",
    "    Args:\n",
    "        env: The environment for agent to play in. Defaults to CartPole-v0.\n",
    "        agent: The agent to play with. Defaults to None - \n",
    "            in this case random agent is used.\n",
    "\n",
    "    Returns:\n",
    "        Nothing is returned. Visualization is created and can be showed\n",
    "            with show_video() function.\n",
    "    \"\"\"\n",
    "    env = wrap_env(gym.make(env))\n",
    "    observation = env.reset()\n",
    "    while True:\n",
    "        env.render() \n",
    "        if agent:\n",
    "            with torch.no_grad():\n",
    "                probs = agent(torch.FloatTensor(observation).to(device))\n",
    "                dist = Categorical(probs)\n",
    "                action = dist.sample().item()\n",
    "        else:\n",
    "            action = env.action_space.sample()\n",
    "        observation, reward, done, info = env.step(action)\n",
    "        if done:\n",
    "            break\n",
    "            \n",
    "    env.close()"
   ]
  },
  {
   "cell_type": "code",
   "execution_count": 11,
   "metadata": {
    "colab": {},
    "colab_type": "code",
    "id": "b5FLllE_pHSf",
    "pycharm": {
     "name": "#%%\n"
    }
   },
   "outputs": [
    {
     "data": {
      "text/plain": "<IPython.core.display.HTML object>",
      "text/html": "<video alt=\"test\" autoplay \n                loop controls style=\"height: 400px;\">\n                <source src=\"data:video/mp4;base64,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\" type=\"video/mp4\" />\n             </video>"
     },
     "metadata": {},
     "output_type": "display_data"
    }
   ],
   "source": [
    "agent_viz()\n",
    "show_video()"
   ]
  },
  {
   "cell_type": "markdown",
   "metadata": {
    "colab_type": "text",
    "id": "hpQF0xgJmufW",
    "pycharm": {
     "name": "#%% md\n"
    }
   },
   "source": [
    "Попробуем применить обучение с подкреплением и алгоритм REINFORCE для того, чтобы в среднем за 100 эпиздов мы держали шест не менее 195 шагов."
   ]
  },
  {
   "cell_type": "markdown",
   "metadata": {
    "colab_type": "text",
    "id": "M2SkO__WmufX",
    "pycharm": {
     "name": "#%% md\n"
    }
   },
   "source": [
    "## REINFORCE"
   ]
  },
  {
   "cell_type": "markdown",
   "metadata": {
    "colab_type": "text",
    "id": "QW95huRpmufY",
    "pycharm": {
     "name": "#%% md\n"
    }
   },
   "source": [
    "Вспомним, что из себя представляет алгоритм REINFORCE (Sutton & Barto) <img src=\"//i.imgur.com/bnASTrY.png\" width=\"700\">ё"
   ]
  },
  {
   "cell_type": "markdown",
   "metadata": {
    "colab_type": "text",
    "id": "CFD7oH9mmufZ",
    "pycharm": {
     "name": "#%% md\n"
    }
   },
   "source": [
    "1. Инициализуем политику (в качестве политики мы будем использовать глубокую нейронную сеть).\n",
    "2. \"Играем\" в среде эпизод, используя нашу политику, или несколько (мы будем использовать последний вариант) и собираем данные о состояниях, действиях и полученных наградах. \n",
    "3. Для каждого состояния в собранных эпизодах вычисляем сумму дисконтированных наград, полученных из этого состояния, а также логорифм правдоподобия предпринятого действия в этом состоянии для нашей политики.\n",
    "4. Обновляем параметры нашей политики по формуле на схеме."
   ]
  },
  {
   "cell_type": "markdown",
   "metadata": {
    "colab_type": "text",
    "id": "Zjhox1Rdmufa",
    "pycharm": {
     "name": "#%% md\n"
    }
   },
   "source": [
    "### Политика"
   ]
  },
  {
   "cell_type": "markdown",
   "metadata": {
    "colab_type": "text",
    "id": "v5KOdiJrmufb",
    "pycharm": {
     "name": "#%% md\n"
    }
   },
   "source": [
    "Наша политика должна принимать на вход состояние среды, а на выходе выдавать распределение по действиям, которые мы можем осуществлять в среде.\n",
    "\n",
    "**Задание:** Создать класс нейронной сети со следующей архитектурой ```Linear -> ReLU -> Linear -> Softmax```. Параметрами инициализации должны служить размерности пространства состояний, пространства действий и размер скрытого слоя."
   ]
  },
  {
   "cell_type": "code",
   "execution_count": 12,
   "metadata": {
    "colab": {},
    "colab_type": "code",
    "id": "BSbzinGQidFm",
    "pycharm": {
     "name": "#%%\n"
    }
   },
   "outputs": [],
   "source": [
    "class Policy(nn.Module):\n",
    "    \"\"\"Policy to be used by agent.\n",
    "\n",
    "    Attributes:\n",
    "        state_size: Dimention of the state space of the environment.\n",
    "        act_size: Dimention of the action space of the environment.\n",
    "        hidden_size: Dimention of the hidden state of the agent's policy.\n",
    "    \"\"\"\n",
    "    def __init__(self, state_size, act_size, hidden_size):\n",
    "        super(Policy, self).__init__()\n",
    "        self.liner_in = nn.Linear(state_size, hidden_size)\n",
    "        self.relu = nn.ReLU()\n",
    "        self.linear_out = nn.Linear(hidden_size, act_size)\n",
    "        self.softmax = nn.Softmax(dim=0)\n",
    "\n",
    "    def forward(self, state_in):\n",
    "        hidden = self.liner_in(state_in)\n",
    "        out = self.linear_out(self.relu(hidden))\n",
    "\n",
    "        return self.softmax(out)\n",
    "\n",
    "\n",
    "\n"
   ]
  },
  {
   "cell_type": "markdown",
   "metadata": {
    "colab_type": "text",
    "id": "E0bYNhJ_mufh",
    "pycharm": {
     "name": "#%% md\n"
    }
   },
   "source": [
    "### Оценка правдоподобия и расчет суммы дисконтированных наград"
   ]
  },
  {
   "cell_type": "markdown",
   "metadata": {
    "colab_type": "text",
    "id": "QMZIoW8pmufi",
    "pycharm": {
     "name": "#%% md\n"
    }
   },
   "source": [
    "**Задание:** Напишем вспомогательная (not -АЯ, -УЮ needed!) функцию, которая принимает на вход политику, батч траекторий и фактор дисконтирования, и должна вернуть следующие величины:\n",
    "* правдоподобие действия на каждом шаге на траектории посчитанные для всего батча;\n",
    "* дисконтированные суммы наград (reward-to-go) из каждого состояния среды на траектории посчитанные для всего батча;"
   ]
  },
  {
   "cell_type": "markdown",
   "metadata": {
    "colab_type": "text",
    "id": "rcs_Xi-jmufl",
    "pycharm": {
     "name": "#%% md\n"
    }
   },
   "source": [
    "**Hint**: Представим батч траекторий как ```list```, в котром также хранится ```list``` для каждой траектории, в котором каждый шаг хранится, как ```namedtuple```:\n",
    "```transition = collections.namedtuple(\"transition\", [\"state\", \"action\", \"reward\"])```"
   ]
  },
  {
   "cell_type": "code",
   "execution_count": 13,
   "metadata": {
    "colab": {},
    "colab_type": "code",
    "id": "eGHfushNmufl",
    "pycharm": {
     "name": "#%%\n"
    }
   },
   "outputs": [],
   "source": [
    "def process_traj_batch(policy, batch, discount):\n",
    "    \"\"\"Computes log probabilities for each action \n",
    "        and rewards-to-go for each state in the batch of trajectories.\n",
    "    \n",
    "    Args:\n",
    "        policy: Policy of the agent.\n",
    "        batch (list of list of collections.namedtuple): Batch of trajectories.\n",
    "        discount (float): Discount factor for rewards-to-go calculation.\n",
    "\n",
    "    Returns:\n",
    "        log_probs (list of torch.FloatTensor): List of log probabilities for\n",
    "            each action in the batch of trajectories.\n",
    "        returns (list of rewards-to-go): List of rewards-to-go for \n",
    "            each state in the batch of trajectories.\n",
    "    \"\"\"\n",
    "    log_probs = []\n",
    "    returns = []\n",
    "\n",
    "    for trajectories in batch:\n",
    "        for step, (state, action, reward) in enumerate(trajectories):\n",
    "            prob  = policy(state)\n",
    "            action_probe = prob[action]\n",
    "            log_probs.append(torch.log(action_probe))\n",
    "\n",
    "            rew = 0\n",
    "            rew += sum([trajectories[step].reward*discount**i for i  in range( len(trajectories) - step)])\n",
    "\n",
    "            returns.append(rew)\n",
    "\n",
    "    return log_probs, returns"
   ]
  },
  {
   "cell_type": "markdown",
   "metadata": {
    "colab_type": "text",
    "id": "mp6xKRWXmufp",
    "pycharm": {
     "name": "#%% md\n"
    }
   },
   "source": [
    "Ваша реализация функции должна проходить следующий тест."
   ]
  },
  {
   "cell_type": "code",
   "execution_count": 14,
   "metadata": {
    "colab": {},
    "colab_type": "code",
    "id": "qVJnolh-mufq",
    "pycharm": {
     "name": "#%%\n"
    }
   },
   "outputs": [],
   "source": [
    "def test_process_traj_batch(process_traj_batch):\n",
    "    \n",
    "    transition = collections.namedtuple(\"transition\", [\"state\", \"action\", \"reward\"])\n",
    "    \n",
    "    class HelperPolicy(nn.Module):\n",
    "        def __init__(self):\n",
    "            super(HelperPolicy, self).__init__()\n",
    "        \n",
    "            self.act = nn.Sequential(\n",
    "                nn.Linear(4, 2),\n",
    "                nn.Softmax(dim=0),\n",
    "            )\n",
    "        \n",
    "        def forward(self, x):\n",
    "            return self.act(x)\n",
    "        \n",
    "    policy = HelperPolicy()\n",
    "    \n",
    "    for name, param in policy.named_parameters():\n",
    "        if name == \"act.0.weight\":\n",
    "            param.data = torch.tensor([[1.7492, -0.2471, 0.3310, 1.1494],\n",
    "                                       [0.6171, -0.6026, 0.5025, -0.3196]])\n",
    "        else:\n",
    "            param.data = torch.tensor([0.0262, 0.1882])\n",
    "            \n",
    "    batch = [\n",
    "        [\n",
    "            transition(state=torch.tensor([ 0.0462, -0.0018,  0.0372,  0.0063]), action=torch.tensor(0), reward=1.0), \n",
    "            transition(state=torch.tensor([ 0.0462, -0.1975,  0.0373,  0.3105]), action=torch.tensor(1), reward=1.0), \n",
    "            transition(state=torch.tensor([ 0.0422, -0.0029,  0.0435,  0.0298]), action=torch.tensor(0), reward=1.0), \n",
    "            transition(state=torch.tensor([ 0.0422, -0.1986,  0.0441,  0.3359]), action=torch.tensor(0), reward=1.0), \n",
    "        ],\n",
    "        [\n",
    "            transition(state=torch.tensor([ 0.0382, -0.3943,  0.0508,  0.6421]), action=torch.tensor(1), reward=1.0), \n",
    "            transition(state=torch.tensor([ 0.0303, -0.2000,  0.0637,  0.3659]), action=torch.tensor(1), reward=1.0), \n",
    "            transition(state=torch.tensor([ 0.0263, -0.0058,  0.0710,  0.0939]), action=torch.tensor(1), reward=1.0), \n",
    "            transition(state=torch.tensor([ 0.0262,  0.1882,  0.0729, -0.1755]), action=torch.tensor(0), reward=1.0)\n",
    "        ]\n",
    "    ]\n",
    "    \n",
    "    log_probs, returns = process_traj_batch(policy, batch, 0.9)\n",
    "    assert sum(log_probs).item() == -6.3940582275390625, \"Log probabilities calculation is incorrect!!!\"\n",
    "    assert sum(returns) == 18.098, \"Log probabilities calculation is incorrect!!!\"\n",
    "    print(\"Correct!\")"
   ]
  },
  {
   "cell_type": "code",
   "execution_count": 15,
   "metadata": {
    "colab": {},
    "colab_type": "code",
    "id": "_qKrJpyBmufu",
    "pycharm": {
     "name": "#%%\n"
    }
   },
   "outputs": [
    {
     "name": "stdout",
     "output_type": "stream",
     "text": [
      "Correct!\n"
     ]
    }
   ],
   "source": [
    "test_process_traj_batch(process_traj_batch)"
   ]
  },
  {
   "cell_type": "markdown",
   "metadata": {
    "colab_type": "text",
    "id": "7_y4MJPxmufz",
    "pycharm": {
     "name": "#%% md\n"
    }
   },
   "source": [
    "### Вспомогательные функции и гиперпараметры"
   ]
  },
  {
   "cell_type": "markdown",
   "metadata": {
    "colab_type": "text",
    "id": "PKF5itlpmuf0",
    "pycharm": {
     "name": "#%% md\n"
    }
   },
   "source": [
    "Функция для расчета скользящего среднего - ее мы будем использовать для визуализации наград по эпизодам."
   ]
  },
  {
   "cell_type": "code",
   "execution_count": 16,
   "metadata": {
    "colab": {},
    "colab_type": "code",
    "id": "tHgXs9aPmuf2",
    "pycharm": {
     "name": "#%%\n"
    }
   },
   "outputs": [],
   "source": [
    "moving_average = lambda x, **kw: pd.DataFrame({'x':np.asarray(x)}).x.ewm(**kw).mean().values"
   ]
  },
  {
   "cell_type": "markdown",
   "metadata": {
    "colab_type": "text",
    "id": "P3oqmQmxmuf6",
    "pycharm": {
     "name": "#%% md\n"
    }
   },
   "source": [
    "Определим также гиперпараметры."
   ]
  },
  {
   "cell_type": "code",
   "execution_count": 17,
   "metadata": {
    "colab": {},
    "colab_type": "code",
    "id": "cFSLjGjOms0m",
    "pycharm": {
     "name": "#%%\n"
    }
   },
   "outputs": [],
   "source": [
    "STATE_SIZE  = env.observation_space.shape[0] # размерность пространства состояний среды\n",
    "ACT_SIZE = env.action_space.n # размерность пространства действий среды\n",
    "HIDDEN_SIZE = 256 # размер скрытого слоя для политики\n",
    "NUM_EPISODES = 1000 # количество эпиздов, которые будут сыграны для обучения\n",
    "DISCOUNT = 0.99 # фактор дисконтирования\n",
    "TRAIN_EVERY = 20"
   ]
  },
  {
   "cell_type": "markdown",
   "metadata": {
    "colab_type": "text",
    "id": "d1RZfo_1muf-",
    "pycharm": {
     "name": "#%% md\n"
    }
   },
   "source": [
    "Инициализуем политику и алгоритм оптимизации - мы будем использовать Adam c праметрами по умолчанию."
   ]
  },
  {
   "cell_type": "code",
   "execution_count": 18,
   "metadata": {
    "colab": {},
    "colab_type": "code",
    "id": "zEKqg4Ykmuf_",
    "pycharm": {
     "name": "#%%\n"
    }
   },
   "outputs": [],
   "source": [
    "policy = Policy(STATE_SIZE, ACT_SIZE, HIDDEN_SIZE).to(device)\n",
    "optimizer = Adam(policy.parameters())\n",
    "transition = collections.namedtuple(\"transition\", [\"state\", \"action\", \"reward\"])"
   ]
  },
  {
   "cell_type": "markdown",
   "metadata": {
    "colab_type": "text",
    "id": "jRRCJTnimugE",
    "pycharm": {
     "name": "#%% md\n"
    }
   },
   "source": [
    "### Основной цикл обучения"
   ]
  },
  {
   "cell_type": "markdown",
   "metadata": {
    "colab_type": "text",
    "id": "FcQ4-JMymugE",
    "pycharm": {
     "name": "#%% md\n"
    }
   },
   "source": [
    "Теперь, когда мы опредлели вспомогательные функции, то нам следует написать основной цикл обучения агент.\n",
    "В цикле должно происходить следующее:"
   ]
  },
  {
   "cell_type": "markdown",
   "metadata": {
    "colab_type": "text",
    "id": "1wih2vIYmugG",
    "pycharm": {
     "name": "#%% md\n"
    }
   },
   "source": [
    "1. Играем количество эпизодов, определенное в гиперпараметре ```NUM_EPISODES```.\n",
    "2. В каждом эпизоде сохраняем информацию о шагах на траектории - состояние, действие и награду.\n",
    "3. В конце каждого эпизода сохраняем вышеуказанную информацию о траектории. \n",
    "4. Периодически обучаемся на собранных эпизодах каждые ```TRAIN_EVERY``` эпизодов:  \n",
    "    4.1. Считаем для собранного батча для каждого шага на трактории правдоподобие и сумму дисконтированных наград.  \n",
    "    4.2. Обновляем параметры политики агента по формуле, приведенной на схеме."
   ]
  },
  {
   "cell_type": "markdown",
   "metadata": {
    "colab_type": "text",
    "id": "gb1eIuJqmugI",
    "pycharm": {
     "name": "#%% md\n"
    }
   },
   "source": [
    "**Задание:** Реализовать алгоритм обучения, описанный на схеме и в тексте выше. Шаблон кода алгоритма представлен ниже. При этом следует сохранять сумму ревордов для каждого эпизода в переменную ```returns_history```. Алгоритму потребуется около 1000 эпизодов игры, для того чтобы научиться играть в игру (если после 1000 эпизодов агент играет немного хуже, чем для победы в игре, попробуйте обучать его немного дольше или установите критерий останова - когда средняя награда за 100 последних эпизодов превышает значение в ```env.spec.reward_threshold``` )"
   ]
  },
  {
   "cell_type": "code",
   "execution_count": 19,
   "metadata": {
    "colab": {},
    "colab_type": "code",
    "id": "cvEwjezan5tl",
    "pycharm": {
     "name": "#%%\n"
    }
   },
   "outputs": [
    {
     "data": {
      "text/plain": "<Figure size 864x432 with 1 Axes>",
      "image/png": "[encoded data removed]"
     },
     "metadata": {
      "needs_background": "light"
     },
     "output_type": "display_data"
    }
   ],
   "source": [
    "returns_history = []\n",
    "traj_batch = []\n",
    "\n",
    "for i in range(NUM_EPISODES):\n",
    "    episode_reward = 0\n",
    "    observation = env.reset()\n",
    "    t = 0\n",
    "\n",
    "    rew = 1.0\n",
    "    traj = []\n",
    "    while True:\n",
    "        with torch.no_grad():\n",
    "            probs = policy(torch.FloatTensor(observation).to(device))\n",
    "            dist = Categorical(probs)\n",
    "            action = dist.sample().item()\n",
    "\n",
    "        state = torch.from_numpy(observation)\n",
    "        traj.append(transition(torch.tensor(list(state)).to(device), torch.tensor(action).to(device), rew))\n",
    "\n",
    "        observation, rew, done, info = env.step(action)\n",
    "        episode_reward += rew\n",
    "        t += 1\n",
    "        if done:\n",
    "            print(\"Episode {} finished after {} timesteps\".format(i+1, t+1))\n",
    "            break\n",
    "\n",
    "    env.close()\n",
    "    returns_history.append(episode_reward)\n",
    "    traj_batch.append(traj)\n",
    "\n",
    "    policy.train()\n",
    "\n",
    "    if i % TRAIN_EVERY:\n",
    "        log_probs, returns = process_traj_batch(policy, traj_batch, DISCOUNT)\n",
    "        loss = -(torch.stack(log_probs) * torch.FloatTensor(returns).to(device)).sum()\n",
    "        optimizer.zero_grad()\n",
    "        loss.backward()\n",
    "        optimizer.step()\n",
    "\n",
    "        traj_batch = []\n",
    "\n",
    "    if i % 10:\n",
    "        clear_output(True)\n",
    "        plt.figure(figsize=[12, 6])\n",
    "        plt.title('Returns'); plt.grid()\n",
    "        plt.scatter(np.arange(len(returns_history)), returns_history, alpha=0.1)\n",
    "        plt.plot(moving_average(returns_history, span=10, min_periods=10))\n",
    "        plt.show()\n",
    "\n",
    "\n",
    "    # prev_score = np.mean(returns_history[-100:])\n",
    "    # if prev_score >= env.spec.reward_threshold:\n",
    "    #   print(f\"Success score {prev_score} complete on episode {i}!\")\n",
    "    #   break\n"
   ]
  },
  {
   "cell_type": "markdown",
   "metadata": {
    "colab_type": "text",
    "id": "Be9Zh-MamugN",
    "pycharm": {
     "name": "#%% md\n"
    }
   },
   "source": [
    "Протестируем обученного агента."
   ]
  },
  {
   "cell_type": "code",
   "execution_count": 20,
   "metadata": {
    "colab": {},
    "colab_type": "code",
    "id": "-ry9g_aBmugO",
    "pycharm": {
     "name": "#%%\n"
    }
   },
   "outputs": [
    {
     "name": "stdout",
     "output_type": "stream",
     "text": [
      "Episode 1 finished after 201 timesteps\n",
      "Episode 2 finished after 182 timesteps\n",
      "Episode 3 finished after 201 timesteps\n",
      "Episode 4 finished after 201 timesteps\n",
      "Episode 5 finished after 201 timesteps\n",
      "Episode 6 finished after 189 timesteps\n",
      "Episode 7 finished after 201 timesteps\n",
      "Episode 8 finished after 192 timesteps\n",
      "Episode 9 finished after 169 timesteps\n",
      "Episode 10 finished after 201 timesteps\n",
      "Episode 11 finished after 201 timesteps\n",
      "Episode 12 finished after 193 timesteps\n",
      "Episode 13 finished after 179 timesteps\n",
      "Episode 14 finished after 156 timesteps\n",
      "Episode 15 finished after 201 timesteps\n",
      "Episode 16 finished after 201 timesteps\n",
      "Episode 17 finished after 201 timesteps\n",
      "Episode 18 finished after 201 timesteps\n",
      "Episode 19 finished after 175 timesteps\n",
      "Episode 20 finished after 199 timesteps\n",
      "Episode 21 finished after 199 timesteps\n",
      "Episode 22 finished after 201 timesteps\n",
      "Episode 23 finished after 173 timesteps\n",
      "Episode 24 finished after 201 timesteps\n",
      "Episode 25 finished after 201 timesteps\n",
      "Episode 26 finished after 183 timesteps\n",
      "Episode 27 finished after 192 timesteps\n",
      "Episode 28 finished after 201 timesteps\n",
      "Episode 29 finished after 183 timesteps\n",
      "Episode 30 finished after 201 timesteps\n",
      "Episode 31 finished after 152 timesteps\n",
      "Episode 32 finished after 196 timesteps\n",
      "Episode 33 finished after 184 timesteps\n",
      "Episode 34 finished after 186 timesteps\n",
      "Episode 35 finished after 201 timesteps\n",
      "Episode 36 finished after 150 timesteps\n",
      "Episode 37 finished after 168 timesteps\n",
      "Episode 38 finished after 201 timesteps\n",
      "Episode 39 finished after 201 timesteps\n",
      "Episode 40 finished after 188 timesteps\n",
      "Episode 41 finished after 201 timesteps\n",
      "Episode 42 finished after 197 timesteps\n",
      "Episode 43 finished after 171 timesteps\n",
      "Episode 44 finished after 179 timesteps\n",
      "Episode 45 finished after 200 timesteps\n",
      "Episode 46 finished after 179 timesteps\n",
      "Episode 47 finished after 180 timesteps\n",
      "Episode 48 finished after 201 timesteps\n",
      "Episode 49 finished after 201 timesteps\n",
      "Episode 50 finished after 196 timesteps\n",
      "Episode 51 finished after 201 timesteps\n",
      "Episode 52 finished after 161 timesteps\n",
      "Episode 53 finished after 156 timesteps\n",
      "Episode 54 finished after 201 timesteps\n",
      "Episode 55 finished after 185 timesteps\n",
      "Episode 56 finished after 192 timesteps\n",
      "Episode 57 finished after 190 timesteps\n",
      "Episode 58 finished after 170 timesteps\n",
      "Episode 59 finished after 201 timesteps\n",
      "Episode 60 finished after 190 timesteps\n",
      "Episode 61 finished after 149 timesteps\n",
      "Episode 62 finished after 201 timesteps\n",
      "Episode 63 finished after 201 timesteps\n",
      "Episode 64 finished after 171 timesteps\n",
      "Episode 65 finished after 184 timesteps\n",
      "Episode 66 finished after 178 timesteps\n",
      "Episode 67 finished after 201 timesteps\n",
      "Episode 68 finished after 197 timesteps\n",
      "Episode 69 finished after 198 timesteps\n",
      "Episode 70 finished after 201 timesteps\n",
      "Episode 71 finished after 201 timesteps\n",
      "Episode 72 finished after 201 timesteps\n",
      "Episode 73 finished after 201 timesteps\n",
      "Episode 74 finished after 201 timesteps\n",
      "Episode 75 finished after 144 timesteps\n",
      "Episode 76 finished after 199 timesteps\n",
      "Episode 77 finished after 181 timesteps\n",
      "Episode 78 finished after 173 timesteps\n",
      "Episode 79 finished after 166 timesteps\n",
      "Episode 80 finished after 136 timesteps\n",
      "Episode 81 finished after 201 timesteps\n",
      "Episode 82 finished after 171 timesteps\n",
      "Episode 83 finished after 161 timesteps\n",
      "Episode 84 finished after 195 timesteps\n",
      "Episode 85 finished after 201 timesteps\n",
      "Episode 86 finished after 201 timesteps\n",
      "Episode 87 finished after 165 timesteps\n",
      "Episode 88 finished after 181 timesteps\n",
      "Episode 89 finished after 199 timesteps\n",
      "Episode 90 finished after 201 timesteps\n",
      "Episode 91 finished after 138 timesteps\n",
      "Episode 92 finished after 201 timesteps\n",
      "Episode 93 finished after 173 timesteps\n",
      "Episode 94 finished after 201 timesteps\n",
      "Episode 95 finished after 201 timesteps\n",
      "Episode 96 finished after 167 timesteps\n",
      "Episode 97 finished after 183 timesteps\n",
      "Episode 98 finished after 160 timesteps\n",
      "Episode 99 finished after 200 timesteps\n",
      "Episode 100 finished after 201 timesteps\n"
     ]
    },
    {
     "data": {
      "text/plain": "186.44"
     },
     "execution_count": 20,
     "metadata": {},
     "output_type": "execute_result"
    }
   ],
   "source": [
    "test_agent(env, agent=policy, n_episodes=100)"
   ]
  },
  {
   "cell_type": "markdown",
   "metadata": {
    "colab_type": "text",
    "id": "rf18pOwCmugS",
    "pycharm": {
     "name": "#%% md\n"
    }
   },
   "source": [
    "Обученный агент должен приближаться к искомому значению средней награды за 100 эпизодов 195."
   ]
  },
  {
   "cell_type": "markdown",
   "metadata": {
    "colab_type": "text",
    "id": "Gk3bQdF_mugT",
    "pycharm": {
     "name": "#%% md\n"
    }
   },
   "source": [
    "Визуализируем обученного агента."
   ]
  },
  {
   "cell_type": "code",
   "execution_count": 21,
   "metadata": {
    "colab": {},
    "colab_type": "code",
    "id": "c6QvXvwUsct6",
    "pycharm": {
     "name": "#%%\n"
    }
   },
   "outputs": [
    {
     "name": "stderr",
     "output_type": "stream",
     "text": [
      "/home/kkorzhanevskii/.local/lib/python3.8/site-packages/gym/envs/registration.py:505: UserWarning: \u001B[33mWARN: The environment CartPole-v0 is out of date. You should consider upgrading to version `v1` with the environment ID `CartPole-v1`.\u001B[0m\n",
      "  logger.warn(\n"
     ]
    },
    {
     "data": {
      "text/plain": "<IPython.core.display.HTML object>",
      "text/html": "<video alt=\"test\" autoplay \n                loop controls style=\"height: 400px;\">\n                <source src=\"data:video/mp4;base64,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\" type=\"video/mp4\" />\n             </video>"
     },
     "metadata": {},
     "output_type": "display_data"
    }
   ],
   "source": [
    "agent_viz(agent=policy)\n",
    "show_video()"
   ]
  },
  {
   "cell_type": "markdown",
   "metadata": {
    "colab_type": "text",
    "id": "YKkrymnnmugU",
    "pycharm": {
     "name": "#%% md\n"
    }
   },
   "source": [
    "Как видно, агент выучил довольно хорошую стратегию для игры и способен долго удерживать шест."
   ]
  },
  {
   "cell_type": "code",
   "execution_count": 22,
   "outputs": [],
   "source": [
    "# Gym says: \"The environment CartPole-v0 is out of date\". So, let me fun with v1."
   ],
   "metadata": {
    "collapsed": false,
    "pycharm": {
     "name": "#%%\n"
    }
   }
  },
  {
   "cell_type": "code",
   "execution_count": 23,
   "outputs": [],
   "source": [
    "env = gym.make(\"CartPole-v1\")\n",
    "\n",
    "policy = Policy(STATE_SIZE, ACT_SIZE, HIDDEN_SIZE).to(device)\n",
    "optimizer = Adam(policy.parameters())\n",
    "transition = collections.namedtuple(\"transition\", [\"state\", \"action\", \"reward\"])"
   ],
   "metadata": {
    "collapsed": false,
    "pycharm": {
     "name": "#%%\n"
    }
   }
  },
  {
   "cell_type": "code",
   "execution_count": 24,
   "outputs": [
    {
     "data": {
      "text/plain": "<Figure size 864x432 with 1 Axes>",
      "image/png": "[encoded data removed]"
     },
     "metadata": {
      "needs_background": "light"
     },
     "output_type": "display_data"
    }
   ],
   "source": [
    "returns_history = []\n",
    "traj_batch = []\n",
    "\n",
    "for i in range(NUM_EPISODES):\n",
    "    episode_reward = 0\n",
    "    observation = env.reset()\n",
    "    t = 0\n",
    "\n",
    "    rew = 1.0\n",
    "    traj = []\n",
    "    while True:\n",
    "        with torch.no_grad():\n",
    "            probs = policy(torch.FloatTensor(observation).to(device))\n",
    "            dist = Categorical(probs)\n",
    "            action = dist.sample().item()\n",
    "\n",
    "        state = torch.from_numpy(observation)\n",
    "        traj.append(transition(torch.tensor(list(state)).to(device), torch.tensor(action).to(device), rew))\n",
    "\n",
    "        observation, rew, done, info = env.step(action)\n",
    "        episode_reward += rew\n",
    "        t += 1\n",
    "        if done:\n",
    "            print(\"Episode {} finished after {} timesteps\".format(i+1, t+1))\n",
    "            break\n",
    "\n",
    "    env.close()\n",
    "    returns_history.append(episode_reward)\n",
    "    traj_batch.append(traj)\n",
    "\n",
    "    policy.train()\n",
    "\n",
    "    if i % TRAIN_EVERY:\n",
    "        log_probs, returns = process_traj_batch(policy, traj_batch, DISCOUNT)\n",
    "        loss = -(torch.stack(log_probs) * torch.FloatTensor(returns).to(device)).sum()\n",
    "        optimizer.zero_grad()\n",
    "        loss.backward()\n",
    "        optimizer.step()\n",
    "\n",
    "        traj_batch = []\n",
    "\n",
    "    if i % 10:\n",
    "        clear_output(True)\n",
    "        plt.figure(figsize=[12, 6])\n",
    "        plt.title('Returns'); plt.grid()\n",
    "        plt.scatter(np.arange(len(returns_history)), returns_history, alpha=0.1)\n",
    "        plt.plot(moving_average(returns_history, span=10, min_periods=10))\n",
    "        plt.show()\n",
    "\n",
    "\n",
    "    # prev_score = np.mean(returns_history[-100:])\n",
    "    # if prev_score >= env.spec.reward_threshold:\n",
    "    #   print(f\"Success score {prev_score} complete on episode {i}!\")\n",
    "    #   break"
   ],
   "metadata": {
    "collapsed": false,
    "pycharm": {
     "name": "#%%\n"
    }
   }
  },
  {
   "cell_type": "code",
   "execution_count": 26,
   "outputs": [
    {
     "name": "stdout",
     "output_type": "stream",
     "text": [
      "Episode 1 finished after 466 timesteps\n",
      "Episode 2 finished after 501 timesteps\n",
      "Episode 3 finished after 501 timesteps\n",
      "Episode 4 finished after 501 timesteps\n",
      "Episode 5 finished after 501 timesteps\n",
      "Episode 6 finished after 349 timesteps\n",
      "Episode 7 finished after 501 timesteps\n",
      "Episode 8 finished after 501 timesteps\n",
      "Episode 9 finished after 402 timesteps\n",
      "Episode 10 finished after 501 timesteps\n",
      "Episode 11 finished after 433 timesteps\n",
      "Episode 12 finished after 483 timesteps\n",
      "Episode 13 finished after 501 timesteps\n",
      "Episode 14 finished after 501 timesteps\n",
      "Episode 15 finished after 501 timesteps\n",
      "Episode 16 finished after 496 timesteps\n",
      "Episode 17 finished after 489 timesteps\n",
      "Episode 18 finished after 501 timesteps\n",
      "Episode 19 finished after 501 timesteps\n",
      "Episode 20 finished after 501 timesteps\n",
      "Episode 21 finished after 501 timesteps\n",
      "Episode 22 finished after 437 timesteps\n",
      "Episode 23 finished after 403 timesteps\n",
      "Episode 24 finished after 253 timesteps\n",
      "Episode 25 finished after 442 timesteps\n",
      "Episode 26 finished after 501 timesteps\n",
      "Episode 27 finished after 501 timesteps\n",
      "Episode 28 finished after 494 timesteps\n",
      "Episode 29 finished after 501 timesteps\n",
      "Episode 30 finished after 501 timesteps\n",
      "Episode 31 finished after 501 timesteps\n",
      "Episode 32 finished after 501 timesteps\n",
      "Episode 33 finished after 501 timesteps\n",
      "Episode 34 finished after 501 timesteps\n",
      "Episode 35 finished after 400 timesteps\n",
      "Episode 36 finished after 444 timesteps\n",
      "Episode 37 finished after 455 timesteps\n",
      "Episode 38 finished after 501 timesteps\n",
      "Episode 39 finished after 501 timesteps\n",
      "Episode 40 finished after 254 timesteps\n",
      "Episode 41 finished after 373 timesteps\n",
      "Episode 42 finished after 351 timesteps\n",
      "Episode 43 finished after 501 timesteps\n",
      "Episode 44 finished after 466 timesteps\n",
      "Episode 45 finished after 501 timesteps\n",
      "Episode 46 finished after 501 timesteps\n",
      "Episode 47 finished after 501 timesteps\n",
      "Episode 48 finished after 501 timesteps\n",
      "Episode 49 finished after 501 timesteps\n",
      "Episode 50 finished after 501 timesteps\n",
      "Episode 51 finished after 385 timesteps\n",
      "Episode 52 finished after 486 timesteps\n",
      "Episode 53 finished after 501 timesteps\n",
      "Episode 54 finished after 416 timesteps\n",
      "Episode 55 finished after 501 timesteps\n",
      "Episode 56 finished after 501 timesteps\n",
      "Episode 57 finished after 501 timesteps\n",
      "Episode 58 finished after 501 timesteps\n",
      "Episode 59 finished after 501 timesteps\n",
      "Episode 60 finished after 501 timesteps\n",
      "Episode 61 finished after 457 timesteps\n",
      "Episode 62 finished after 501 timesteps\n",
      "Episode 63 finished after 436 timesteps\n",
      "Episode 64 finished after 501 timesteps\n",
      "Episode 65 finished after 449 timesteps\n",
      "Episode 66 finished after 487 timesteps\n",
      "Episode 67 finished after 501 timesteps\n",
      "Episode 68 finished after 501 timesteps\n",
      "Episode 69 finished after 488 timesteps\n",
      "Episode 70 finished after 471 timesteps\n",
      "Episode 71 finished after 501 timesteps\n",
      "Episode 72 finished after 501 timesteps\n",
      "Episode 73 finished after 497 timesteps\n",
      "Episode 74 finished after 501 timesteps\n",
      "Episode 75 finished after 501 timesteps\n",
      "Episode 76 finished after 501 timesteps\n",
      "Episode 77 finished after 501 timesteps\n",
      "Episode 78 finished after 501 timesteps\n",
      "Episode 79 finished after 501 timesteps\n",
      "Episode 80 finished after 501 timesteps\n",
      "Episode 81 finished after 501 timesteps\n",
      "Episode 82 finished after 501 timesteps\n",
      "Episode 83 finished after 496 timesteps\n",
      "Episode 84 finished after 501 timesteps\n",
      "Episode 85 finished after 441 timesteps\n",
      "Episode 86 finished after 501 timesteps\n",
      "Episode 87 finished after 500 timesteps\n",
      "Episode 88 finished after 438 timesteps\n",
      "Episode 89 finished after 388 timesteps\n",
      "Episode 90 finished after 501 timesteps\n",
      "Episode 91 finished after 501 timesteps\n",
      "Episode 92 finished after 501 timesteps\n",
      "Episode 93 finished after 501 timesteps\n",
      "Episode 94 finished after 366 timesteps\n",
      "Episode 95 finished after 424 timesteps\n",
      "Episode 96 finished after 137 timesteps\n",
      "Episode 97 finished after 501 timesteps\n",
      "Episode 98 finished after 501 timesteps\n",
      "Episode 99 finished after 501 timesteps\n",
      "Episode 100 finished after 501 timesteps\n"
     ]
    },
    {
     "data": {
      "text/plain": "<IPython.core.display.HTML object>",
      "text/html": "<video alt=\"test\" autoplay \n                loop controls style=\"height: 400px;\">\n                <source src=\"data:video/mp4;base64,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\" type=\"video/mp4\" />\n             </video>"
     },
     "metadata": {},
     "output_type": "display_data"
    }
   ],
   "source": [
    "test_agent(env, agent=policy, n_episodes=100)\n",
    "agent_viz(env=\"CartPole-v1\", agent=policy)\n",
    "show_video()"
   ],
   "metadata": {
    "collapsed": false,
    "pycharm": {
     "name": "#%%\n"
    }
   }
  },
  {
   "cell_type": "markdown",
   "metadata": {
    "colab_type": "text",
    "id": "NHxdzJsQmugV",
    "pycharm": {
     "name": "#%% md\n"
    }
   },
   "source": [
    "### REINFORCE with baselines (Опционально)"
   ]
  },
  {
   "cell_type": "markdown",
   "metadata": {
    "colab_type": "text",
    "id": "QM0DmpwlmugX",
    "pycharm": {
     "name": "#%% md\n"
    }
   },
   "source": [
    "В лекциях вы слышали, что при расчете градиентов для обновления параметров политики агента мы можем вычесть из суммы дисконтированных наград ```baseline``` для уменьшения дисперсии градиентов и ускорения сходимости обучения - такой алгоритм называется REINFORCE with baselines. В качестве ```baseline``` мы можем использовать другую нейронную сеть, которая будет оценивать сумму дисконтированных наград из данного состояния *V(s)*. "
   ]
  },
  {
   "cell_type": "markdown",
   "metadata": {
    "colab_type": "text",
    "id": "jImFlpefmugX",
    "pycharm": {
     "name": "#%% md\n"
    }
   },
   "source": [
    "Схема алгоритма REINFORCE with baselines (Sutton & Barto) <img src=\"//i.imgur.com/j3BcbHP.png\" width=\"700\">"
   ]
  },
  {
   "cell_type": "markdown",
   "source": [
    "**Задание**: Включите в уже разработанный алгоритм вторую нейронную сеть для оценки суммы дисконтированных наград *V(s)*. Используйте разницу между фактической суммой дисконтированных наград и оценкой в формуле функции потерь политики. В качестве функции потерь для *V(s)* используйте ```MSELoss```. Оцените скорость сходимости нового алгоритма."
   ],
   "metadata": {
    "collapsed": false,
    "pycharm": {
     "name": "#%% md\n"
    }
   }
  },
  {
   "cell_type": "code",
   "execution_count": null,
   "outputs": [],
   "source": [],
   "metadata": {
    "collapsed": false,
    "pycharm": {
     "name": "#%%\n"
    }
   }
  }
 ],
 "metadata": {
  "accelerator": "GPU",
  "colab": {
   "collapsed_sections": [],
   "name": "REINFORCE.ipynb",
   "private_outputs": true,
   "provenance": [],
   "version": "0.3.2"
  },
  "kernelspec": {
   "display_name": "Python 3",
   "language": "python",
   "name": "python3"
  },
  "language_info": {
   "codemirror_mode": {
    "name": "ipython",
    "version": 3
   },
   "file_extension": ".py",
   "mimetype": "text/x-python",
   "name": "python",
   "nbconvert_exporter": "python",
   "pygments_lexer": "ipython3",
   "version": "3.7.0"
  }
 },
 "nbformat": 4,
 "nbformat_minor": 1
}