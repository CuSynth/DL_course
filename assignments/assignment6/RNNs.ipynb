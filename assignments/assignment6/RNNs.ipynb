{
 "cells": [
  {
   "cell_type": "markdown",
   "metadata": {
    "pycharm": {
     "name": "#%% md\n"
    }
   },
   "source": [
    "# Задание 6: Рекуррентные нейронные сети (RNNs)\n",
    "\n",
    "Это задание адаптиповано из Deep NLP Course at ABBYY (https://github.com/DanAnastasyev/DeepNLP-Course) с разрешения автора - Даниила Анастасьева. Спасибо ему огромное!"
   ]
  },
  {
   "cell_type": "code",
   "execution_count": 1,
   "metadata": {
    "colab": {},
    "colab_type": "code",
    "id": "P59NYU98GCb9",
    "pycharm": {
     "name": "#%%\n"
    }
   },
   "outputs": [],
   "source": [
    "# !pip3 -qq install torch==0.4.1\n",
    "# !pip3 -qq install bokeh==0.13.0\n",
    "# !pip3 -qq install gensim==3.6.0\n",
    "# !pip3 -qq install nltk\n",
    "# !pip3 -qq install scikit-learn==0.20.2"
   ]
  },
  {
   "cell_type": "code",
   "execution_count": 2,
   "metadata": {
    "colab": {},
    "colab_type": "code",
    "id": "8sVtGHmA9aBM",
    "pycharm": {
     "name": "#%%\n"
    }
   },
   "outputs": [
    {
     "name": "stdout",
     "output_type": "stream",
     "text": [
      "Cuda is here!\n"
     ]
    }
   ],
   "source": [
    "import numpy as np\n",
    "\n",
    "import torch\n",
    "import torch.nn as nn\n",
    "import torch.nn.functional as F\n",
    "import torch.optim as optim\n",
    "\n",
    "\n",
    "if torch.cuda.is_available():\n",
    "    print(\"Cuda is here!\")\n",
    "    from torch.cuda import FloatTensor, LongTensor\n",
    "else:\n",
    "    from torch import FloatTensor, LongTensor\n",
    "\n",
    "np.random.seed(42)"
   ]
  },
  {
   "cell_type": "markdown",
   "metadata": {
    "colab_type": "text",
    "id": "-6CNKM3b4hT1",
    "pycharm": {
     "name": "#%% md\n"
    }
   },
   "source": [
    "# Рекуррентные нейронные сети (RNNs)"
   ]
  },
  {
   "cell_type": "markdown",
   "metadata": {
    "colab_type": "text",
    "id": "O_XkoGNQUeGm",
    "pycharm": {
     "name": "#%% md\n"
    }
   },
   "source": [
    "## POS Tagging"
   ]
  },
  {
   "cell_type": "markdown",
   "metadata": {
    "colab_type": "text",
    "id": "QFEtWrS_4rUs",
    "pycharm": {
     "name": "#%% md\n"
    }
   },
   "source": [
    "Мы рассмотрим применение рекуррентных сетей к задаче sequence labeling (последняя картинка).\n",
    "\n",
    "![RNN types](http://karpathy.github.io/assets/rnn/diags.jpeg)\n",
    "\n",
    "*From [The Unreasonable Effectiveness of Recurrent Neural Networks](http://karpathy.github.io/2015/05/21/rnn-effectiveness/)*\n",
    "\n",
    "Самые популярные примеры для такой постановки задачи - Part-of-Speech Tagging и Named Entity Recognition.\n",
    "\n",
    "Мы порешаем сейчас POS Tagging для английского.\n",
    "\n",
    "Будем работать с таким набором тегов:\n",
    "- ADJ - adjective (new, good, high, ...)\n",
    "- ADP - adposition (on, of, at, ...)\n",
    "- ADV - adverb (really, already, still, ...)\n",
    "- CONJ - conjunction (and, or, but, ...)\n",
    "- DET - determiner, article (the, a, some, ...)\n",
    "- NOUN - noun (year, home, costs, ...)\n",
    "- NUM - numeral (twenty-four, fourth, 1991, ...)\n",
    "- PRT - particle (at, on, out, ...)\n",
    "- PRON - pronoun (he, their, her, ...)\n",
    "- VERB - verb (is, say, told, ...)\n",
    "- . - punctuation marks (. , ;)\n",
    "- X - other (ersatz, esprit, dunno, ...)"
   ]
  },
  {
   "cell_type": "markdown",
   "metadata": {
    "colab_type": "text",
    "id": "EPIkKdFlHB-X",
    "pycharm": {
     "name": "#%% md\n"
    }
   },
   "source": [
    "Скачаем данные:"
   ]
  },
  {
   "cell_type": "code",
   "execution_count": 3,
   "metadata": {
    "colab": {},
    "colab_type": "code",
    "id": "TiA2dGmgF1rW",
    "pycharm": {
     "name": "#%%\n"
    }
   },
   "outputs": [
    {
     "name": "stderr",
     "output_type": "stream",
     "text": [
      "[nltk_data] Downloading package brown to\n",
      "[nltk_data]     /home/kkorzhanevskii/nltk_data...\n",
      "[nltk_data]   Package brown is already up-to-date!\n",
      "[nltk_data] Downloading package universal_tagset to\n",
      "[nltk_data]     /home/kkorzhanevskii/nltk_data...\n",
      "[nltk_data]   Package universal_tagset is already up-to-date!\n"
     ]
    }
   ],
   "source": [
    "import nltk\n",
    "from sklearn.model_selection import train_test_split\n",
    "\n",
    "nltk.download('brown')\n",
    "nltk.download('universal_tagset')\n",
    "\n",
    "data = nltk.corpus.brown.tagged_sents(tagset='universal')"
   ]
  },
  {
   "cell_type": "markdown",
   "metadata": {
    "colab_type": "text",
    "id": "d93g_swyJA_V",
    "pycharm": {
     "name": "#%% md\n"
    }
   },
   "source": [
    "Пример размеченного предложения"
   ]
  },
  {
   "cell_type": "code",
   "execution_count": 4,
   "metadata": {
    "colab": {},
    "colab_type": "code",
    "id": "QstS4NO0L97c",
    "pycharm": {
     "name": "#%%\n"
    }
   },
   "outputs": [
    {
     "name": "stdout",
     "output_type": "stream",
     "text": [
      "The            \tDET\n",
      "Fulton         \tNOUN\n",
      "County         \tNOUN\n",
      "Grand          \tADJ\n",
      "Jury           \tNOUN\n",
      "said           \tVERB\n",
      "Friday         \tNOUN\n",
      "an             \tDET\n",
      "investigation  \tNOUN\n",
      "of             \tADP\n",
      "Atlanta's      \tNOUN\n",
      "recent         \tADJ\n",
      "primary        \tNOUN\n",
      "election       \tNOUN\n",
      "produced       \tVERB\n",
      "``             \t.\n",
      "no             \tDET\n",
      "evidence       \tNOUN\n",
      "''             \t.\n",
      "that           \tADP\n",
      "any            \tDET\n",
      "irregularities \tNOUN\n",
      "took           \tVERB\n",
      "place          \tNOUN\n",
      ".              \t.\n"
     ]
    }
   ],
   "source": [
    "for word, tag in data[0]:\n",
    "    print('{:15}\\t{}'.format(word, tag))"
   ]
  },
  {
   "cell_type": "markdown",
   "metadata": {
    "colab_type": "text",
    "id": "epdW8u_YXcAv",
    "pycharm": {
     "name": "#%% md\n"
    }
   },
   "source": [
    "Построим разбиение на train/val/test - наконец-то, всё как у нормальных людей.\n",
    "\n",
    "На train будем учиться, по val - подбирать параметры и делать всякие early stopping, а на test - принимать модель по ее финальному качеству."
   ]
  },
  {
   "cell_type": "code",
   "execution_count": 5,
   "metadata": {
    "colab": {},
    "colab_type": "code",
    "id": "xTai8Ta0lgwL",
    "pycharm": {
     "name": "#%%\n"
    }
   },
   "outputs": [
    {
     "name": "stdout",
     "output_type": "stream",
     "text": [
      "Words count in train set: 739769\n",
      "Words count in val set: 130954\n",
      "Words count in test set: 290469\n"
     ]
    }
   ],
   "source": [
    "train_data, test_data = train_test_split(data, test_size=0.25, random_state=42)\n",
    "train_data, val_data = train_test_split(train_data, test_size=0.15, random_state=42)\n",
    "\n",
    "print('Words count in train set:', sum(len(sent) for sent in train_data))\n",
    "print('Words count in val set:', sum(len(sent) for sent in val_data))\n",
    "print('Words count in test set:', sum(len(sent) for sent in test_data))"
   ]
  },
  {
   "cell_type": "markdown",
   "metadata": {
    "colab_type": "text",
    "id": "eChdLNGtXyP0",
    "pycharm": {
     "name": "#%% md\n"
    }
   },
   "source": [
    "Построим маппинги из слов в индекс и из тега в индекс:\n"
   ]
  },
  {
   "cell_type": "code",
   "execution_count": 6,
   "metadata": {
    "colab": {},
    "colab_type": "code",
    "id": "pCjwwDs6Zq9x",
    "pycharm": {
     "name": "#%%\n"
    }
   },
   "outputs": [
    {
     "name": "stdout",
     "output_type": "stream",
     "text": [
      "Unique words in train = 45441. Tags = {'.', 'ADP', 'X', 'PRT', 'VERB', 'CONJ', 'NUM', 'NOUN', 'DET', 'PRON', 'ADV', 'ADJ'}\n"
     ]
    }
   ],
   "source": [
    "words = {word for sample in train_data for word, _ in sample}\n",
    "word2ind = {word: ind + 1 for ind, word in enumerate(words)}\n",
    "word2ind['<pad>'] = 0\n",
    "\n",
    "tags = {tag for sample in train_data for _, tag in sample}\n",
    "tag2ind = {tag: ind + 1 for ind, tag in enumerate(tags)}\n",
    "tag2ind['<pad>'] = 0\n",
    "\n",
    "print('Unique words in train = {}. Tags = {}'.format(len(word2ind), tags))"
   ]
  },
  {
   "cell_type": "code",
   "execution_count": 7,
   "metadata": {
    "colab": {},
    "colab_type": "code",
    "id": "URC1B2nvPGFt",
    "pycharm": {
     "name": "#%%\n"
    }
   },
   "outputs": [
    {
     "data": {
      "text/plain": "<Figure size 720x360 with 1 Axes>",
      "image/png": "[encoded data removed]"
     },
     "metadata": {
      "needs_background": "light"
     },
     "output_type": "display_data"
    }
   ],
   "source": [
    "import matplotlib.pyplot as plt\n",
    "%matplotlib inline\n",
    "\n",
    "from collections import Counter\n",
    "\n",
    "tag_distribution = Counter(tag for sample in train_data for _, tag in sample)\n",
    "tag_distribution = [tag_distribution[tag] for tag in tags]\n",
    "\n",
    "plt.figure(figsize=(10, 5))\n",
    "\n",
    "bar_width = 0.35\n",
    "plt.bar(np.arange(len(tags)), tag_distribution, bar_width, align='center', alpha=0.5)\n",
    "plt.xticks(np.arange(len(tags)), tags)\n",
    "    \n",
    "plt.show()"
   ]
  },
  {
   "cell_type": "markdown",
   "metadata": {
    "colab_type": "text",
    "id": "gArQwbzWWkgi",
    "pycharm": {
     "name": "#%% md\n"
    }
   },
   "source": [
    "## Бейзлайн\n",
    "\n",
    "Какой самый простой теггер можно придумать? Давайте просто запоминать, какие теги самые вероятные для слова (или для последовательности):\n",
    "\n",
    "![tag-context](https://www.nltk.org/images/tag-context.png)  \n",
    "*From [Categorizing and Tagging Words, nltk](https://www.nltk.org/book/ch05.html)*\n",
    "\n",
    "На картинке показано, что для предсказания $t_n$ используются два предыдущих предсказанных тега + текущее слово. По корпусу считаются вероятность для $P(t_n| w_n, t_{n-1}, t_{n-2})$, выбирается тег с максимальной вероятностью.\n",
    "\n",
    "Более аккуратно такая идея реализована в Hidden Markov Models: по тренировочному корпусу вычисляются вероятности $P(w_n| t_n), P(t_n|t_{n-1}, t_{n-2})$ и максимизируется их произведение.\n",
    "\n",
    "Простейший вариант - униграммная модель, учитывающая только слово:"
   ]
  },
  {
   "cell_type": "code",
   "execution_count": 8,
   "metadata": {
    "colab": {},
    "colab_type": "code",
    "id": "5rWmSToIaeAo",
    "pycharm": {
     "name": "#%%\n"
    }
   },
   "outputs": [
    {
     "name": "stdout",
     "output_type": "stream",
     "text": [
      "Accuracy of unigram tagger = 92.62%\n"
     ]
    }
   ],
   "source": [
    "import nltk\n",
    "\n",
    "default_tagger = nltk.DefaultTagger('NN')\n",
    "\n",
    "unigram_tagger = nltk.UnigramTagger(train_data, backoff=default_tagger)\n",
    "print('Accuracy of unigram tagger = {:.2%}'.format(unigram_tagger.accuracy(test_data)))"
   ]
  },
  {
   "cell_type": "markdown",
   "metadata": {
    "colab_type": "text",
    "id": "07Ymb_MkbWsF",
    "pycharm": {
     "name": "#%% md\n"
    }
   },
   "source": [
    "Добавим вероятности переходов:"
   ]
  },
  {
   "cell_type": "code",
   "execution_count": 9,
   "metadata": {
    "colab": {},
    "colab_type": "code",
    "id": "vjz_Rk0bbMyH",
    "pycharm": {
     "name": "#%%\n"
    }
   },
   "outputs": [
    {
     "name": "stdout",
     "output_type": "stream",
     "text": [
      "Accuracy of bigram tagger = 93.42%\n"
     ]
    }
   ],
   "source": [
    "bigram_tagger = nltk.BigramTagger(train_data, backoff=unigram_tagger)\n",
    "print('Accuracy of bigram tagger = {:.2%}'.format(bigram_tagger.accuracy(test_data)))"
   ]
  },
  {
   "cell_type": "markdown",
   "metadata": {
    "colab_type": "text",
    "id": "uWMw6QHvbaDd",
    "pycharm": {
     "name": "#%% md\n"
    }
   },
   "source": [
    "Обратите внимание, что `backoff` важен:"
   ]
  },
  {
   "cell_type": "code",
   "execution_count": 10,
   "metadata": {
    "colab": {},
    "colab_type": "code",
    "id": "8XCuxEBVbOY_",
    "pycharm": {
     "name": "#%%\n"
    }
   },
   "outputs": [
    {
     "name": "stdout",
     "output_type": "stream",
     "text": [
      "Accuracy of trigram tagger = 23.33%\n"
     ]
    }
   ],
   "source": [
    "trigram_tagger = nltk.TrigramTagger(train_data)\n",
    "print('Accuracy of trigram tagger = {:.2%}'.format(trigram_tagger.accuracy(test_data)))"
   ]
  },
  {
   "cell_type": "markdown",
   "metadata": {
    "colab_type": "text",
    "id": "4t3xyYd__8d-",
    "pycharm": {
     "name": "#%% md\n"
    }
   },
   "source": [
    "## Увеличиваем контекст с рекуррентными сетями\n",
    "\n",
    "Униграмная модель работает на удивление хорошо, но мы же собрались учить сеточки.\n",
    "\n",
    "Омонимия - основная причина, почему униграмная модель плоха:  \n",
    "*“he cashed a check at the **bank**”*  \n",
    "vs  \n",
    "*“he sat on the **bank** of the river”*\n",
    "\n",
    "Поэтому нам очень полезно учитывать контекст при предсказании тега.\n",
    "\n",
    "Воспользуемся LSTM - он умеет работать с контекстом очень даже хорошо:\n",
    "\n",
    "![](https://image.ibb.co/kgmoff/Baseline-Tagger.png)\n",
    "\n",
    "Синим показано выделение фичей из слова, LSTM оранжевенький - он строит эмбеддинги слов с учетом контекста, а дальше зелененькая логистическая регрессия делает предсказания тегов."
   ]
  },
  {
   "cell_type": "code",
   "execution_count": 11,
   "metadata": {
    "colab": {},
    "colab_type": "code",
    "id": "RtRbz1SwgEqc",
    "pycharm": {
     "name": "#%%\n"
    }
   },
   "outputs": [],
   "source": [
    "def convert_data(data, word2ind, tag2ind_):\n",
    "    x = [[word2ind.get(word, 0) for word, _ in sample] for sample in data]\n",
    "    y = [[tag2ind_[tag] for _, tag in sample] for sample in data]\n",
    "    \n",
    "    return x, y\n",
    "\n",
    "X_train, y_train = convert_data(train_data, word2ind, tag2ind)\n",
    "X_val, y_val = convert_data(val_data, word2ind, tag2ind)\n",
    "X_test, y_test = convert_data(test_data, word2ind, tag2ind)"
   ]
  },
  {
   "cell_type": "code",
   "execution_count": 12,
   "metadata": {
    "colab": {},
    "colab_type": "code",
    "id": "DhsTKZalfih6",
    "pycharm": {
     "name": "#%%\n"
    }
   },
   "outputs": [],
   "source": [
    "def iterate_batches(data, batch_size):\n",
    "    x, y = data\n",
    "\n",
    "    n_samples = len(x)\n",
    "    indices = np.arange(n_samples)\n",
    "    np.random.shuffle(indices)\n",
    "    \n",
    "    for start in range(0, n_samples, batch_size):\n",
    "        end = min(start + batch_size, n_samples)\n",
    "        \n",
    "        batch_indices = indices[start:end]\n",
    "        \n",
    "        max_sent_len = max(len(x[ind]) for ind in batch_indices)\n",
    "        x_batch = np.zeros((max_sent_len, len(batch_indices)))\n",
    "        y_batch = np.zeros((max_sent_len, len(batch_indices)))\n",
    "        \n",
    "        for batch_ind, sample_ind in enumerate(batch_indices):\n",
    "            x_batch[:len(x[sample_ind]), batch_ind] = x[sample_ind]\n",
    "            y_batch[:len(y[sample_ind]), batch_ind] = y[sample_ind]\n",
    "            \n",
    "        yield x_batch, y_batch"
   ]
  },
  {
   "cell_type": "code",
   "execution_count": 13,
   "metadata": {
    "colab": {},
    "colab_type": "code",
    "id": "l4XsRII5kW5x",
    "pycharm": {
     "name": "#%%\n"
    }
   },
   "outputs": [
    {
     "data": {
      "text/plain": "((32, 4), (32, 4))"
     },
     "execution_count": 13,
     "metadata": {},
     "output_type": "execute_result"
    }
   ],
   "source": [
    "X_batch, y_batch = next(iterate_batches((X_train, y_train), 4))\n",
    "\n",
    "X_batch.shape, y_batch.shape"
   ]
  },
  {
   "cell_type": "markdown",
   "metadata": {
    "colab_type": "text",
    "id": "C5I9E9P6eFYv",
    "pycharm": {
     "name": "#%% md\n"
    }
   },
   "source": [
    "**Задание** Реализуйте `LSTMTagger`:"
   ]
  },
  {
   "cell_type": "code",
   "execution_count": 14,
   "metadata": {
    "colab": {},
    "colab_type": "code",
    "id": "WVEHju54d68T",
    "pycharm": {
     "name": "#%%\n"
    }
   },
   "outputs": [],
   "source": [
    "class LSTMTagger(nn.Module):\n",
    "    def __init__(self, vocab_size, tagset_size, word_emb_dim=100, lstm_hidden_dim=128, lstm_layers_count=1):\n",
    "        super().__init__()\n",
    "\n",
    "        self.embedding = nn.Embedding(vocab_size, word_emb_dim)\n",
    "        self.lstm = nn.LSTM(input_size=word_emb_dim, hidden_size=lstm_hidden_dim, num_layers=lstm_layers_count)\n",
    "        self.linear = nn.Linear(lstm_hidden_dim, tagset_size)\n",
    "\n",
    "    def forward(self, inputs):\n",
    "        out, _ = self.lstm(self.embedding(inputs))\n",
    "        out = self.linear(out)\n",
    "        return out"
   ]
  },
  {
   "cell_type": "markdown",
   "metadata": {
    "colab_type": "text",
    "id": "q_HA8zyheYGH",
    "pycharm": {
     "name": "#%% md\n"
    }
   },
   "source": [
    "**Задание** Научитесь считать accuracy и loss (а заодно проверьте, что модель работает)"
   ]
  },
  {
   "cell_type": "code",
   "execution_count": 15,
   "metadata": {
    "colab": {},
    "colab_type": "code",
    "id": "jbrxsZ2mehWB",
    "pycharm": {
     "name": "#%%\n"
    }
   },
   "outputs": [
    {
     "name": "stdout",
     "output_type": "stream",
     "text": [
      "tensor(0.1304)\n"
     ]
    }
   ],
   "source": [
    "model = LSTMTagger(\n",
    "    vocab_size=len(word2ind),\n",
    "    tagset_size=len(tag2ind)\n",
    ")\n",
    "\n",
    "X_batch, y_batch = torch.LongTensor(X_batch), torch.LongTensor(y_batch)\n",
    "\n",
    "logits = model(X_batch)\n",
    "\n",
    "_, indices = torch.max(logits, dim=2)\n",
    "correct_samples = torch.sum((indices == y_batch) & (y_batch != 0))\n",
    "total_samples = torch.sum(y_batch != 0)\n",
    "accuracy = correct_samples / total_samples\n",
    "print(accuracy)"
   ]
  },
  {
   "cell_type": "code",
   "execution_count": 16,
   "metadata": {
    "colab": {},
    "colab_type": "code",
    "id": "GMUyUm1hgpe3",
    "pycharm": {
     "name": "#%%\n"
    }
   },
   "outputs": [],
   "source": [
    "criterion = nn.CrossEntropyLoss()\n",
    "loss = criterion(logits.transpose(2, 1), y_batch)"
   ]
  },
  {
   "cell_type": "markdown",
   "metadata": {
    "colab_type": "text",
    "id": "nSgV3NPUpcjH",
    "pycharm": {
     "name": "#%% md\n"
    }
   },
   "source": [
    "**Задание** Вставьте эти вычисление в функцию:"
   ]
  },
  {
   "cell_type": "code",
   "execution_count": 56,
   "metadata": {
    "colab": {},
    "colab_type": "code",
    "id": "FprPQ0gllo7b",
    "pycharm": {
     "name": "#%%\n"
    }
   },
   "outputs": [],
   "source": [
    "import math\n",
    "from tqdm import tqdm\n",
    "\n",
    "\n",
    "def do_epoch(model, criterion, data, batch_size, optimizer=None, name=None):\n",
    "    epoch_loss = 0\n",
    "    correct_count = 0\n",
    "    sum_count = 0\n",
    "\n",
    "    is_train = not optimizer is None\n",
    "    name = name or ''\n",
    "    model.train(is_train)\n",
    "\n",
    "    batches_count = math.ceil(len(data[0]) / batch_size)\n",
    "\n",
    "    with torch.autograd.set_grad_enabled(is_train):\n",
    "        with tqdm(total=batches_count) as progress_bar:\n",
    "            for i, (x_batch, y_batch) in enumerate(iterate_batches(data, batch_size)):\n",
    "                x_batch, y_batch = LongTensor(x_batch), LongTensor(y_batch)\n",
    "                logits = model(x_batch)\n",
    "\n",
    "                loss = criterion(logits.transpose(2, 1), y_batch)\n",
    "\n",
    "                epoch_loss += loss.item()\n",
    "\n",
    "                if optimizer:\n",
    "                    optimizer.zero_grad()\n",
    "                    loss.backward()\n",
    "                    optimizer.step()\n",
    "\n",
    "                indices = torch.argmax(logits, dim=-1)\n",
    "                cur_correct_count, cur_sum_count = torch.sum((indices == y_batch) & (y_batch != 0)), torch.sum(y_batch != 0)\n",
    "\n",
    "                correct_count += cur_correct_count\n",
    "                sum_count += cur_sum_count\n",
    "\n",
    "                progress_bar.update()\n",
    "                progress_bar.set_description('{:>5s} Loss = {:.5f}, Accuracy = {:.2%}'.format(\n",
    "                    name, loss.item(), cur_correct_count / cur_sum_count)\n",
    "                )\n",
    "\n",
    "            progress_bar.set_description('{:>5s} Loss = {:.5f}, Accuracy = {:.2%}'.format(\n",
    "                name, epoch_loss / batches_count, correct_count / sum_count)\n",
    "            )\n",
    "\n",
    "    return epoch_loss / batches_count, correct_count / sum_count\n",
    "\n",
    "\n",
    "def fit(model, criterion, optimizer, train_data, epochs_count=1, batch_size=32,\n",
    "        val_data=None, val_batch_size=None, train_hstr=None, val_hstr=None):\n",
    "\n",
    "    if not val_data is None and val_batch_size is None:\n",
    "        val_batch_size = batch_size\n",
    "\n",
    "    for epoch in range(epochs_count):\n",
    "        name_prefix = '[{} / {}] '.format(epoch + 1, epochs_count)\n",
    "        train_loss, train_acc = do_epoch(model, criterion, train_data, batch_size, optimizer, name_prefix + 'Train:')\n",
    "        if not train_hstr is None:\n",
    "            train_hstr.append(train_acc.cpu())\n",
    "\n",
    "        if not val_data is None:\n",
    "            val_loss, val_acc = do_epoch(model, criterion, val_data, val_batch_size, None, name_prefix + '  Val:')\n",
    "            if not val_hstr is None:\n",
    "                val_hstr.append(val_acc.cpu())"
   ]
  },
  {
   "cell_type": "code",
   "execution_count": 44,
   "metadata": {
    "colab": {},
    "colab_type": "code",
    "id": "Pqfbeh1ltEYa",
    "pycharm": {
     "name": "#%%\n"
    }
   },
   "outputs": [
    {
     "name": "stderr",
     "output_type": "stream",
     "text": [
      "[1 / 50] Train: Loss = 0.32296, Accuracy = 90.04%:  84%|████████▍ | 483/572 [00:03<00:00, 134.48it/s]\n"
     ]
    },
    {
     "ename": "KeyboardInterrupt",
     "evalue": "",
     "output_type": "error",
     "traceback": [
      "\u001B[0;31m---------------------------------------------------------------------------\u001B[0m",
      "\u001B[0;31mKeyboardInterrupt\u001B[0m                         Traceback (most recent call last)",
      "Input \u001B[0;32mIn [44]\u001B[0m, in \u001B[0;36m<cell line: 9>\u001B[0;34m()\u001B[0m\n\u001B[1;32m      6\u001B[0m criterion \u001B[38;5;241m=\u001B[39m nn\u001B[38;5;241m.\u001B[39mCrossEntropyLoss(ignore_index\u001B[38;5;241m=\u001B[39m\u001B[38;5;241m0\u001B[39m)\u001B[38;5;241m.\u001B[39mcuda()\n\u001B[1;32m      7\u001B[0m optimizer \u001B[38;5;241m=\u001B[39m optim\u001B[38;5;241m.\u001B[39mAdam(model\u001B[38;5;241m.\u001B[39mparameters())\n\u001B[0;32m----> 9\u001B[0m \u001B[43mfit\u001B[49m\u001B[43m(\u001B[49m\u001B[43mmodel\u001B[49m\u001B[43m,\u001B[49m\u001B[43m \u001B[49m\u001B[43mcriterion\u001B[49m\u001B[43m,\u001B[49m\u001B[43m \u001B[49m\u001B[43moptimizer\u001B[49m\u001B[43m,\u001B[49m\u001B[43m \u001B[49m\u001B[43mtrain_data\u001B[49m\u001B[38;5;241;43m=\u001B[39;49m\u001B[43m(\u001B[49m\u001B[43mX_train\u001B[49m\u001B[43m,\u001B[49m\u001B[43m \u001B[49m\u001B[43my_train\u001B[49m\u001B[43m)\u001B[49m\u001B[43m,\u001B[49m\u001B[43m \u001B[49m\u001B[43mepochs_count\u001B[49m\u001B[38;5;241;43m=\u001B[39;49m\u001B[38;5;241;43m50\u001B[39;49m\u001B[43m,\u001B[49m\n\u001B[1;32m     10\u001B[0m \u001B[43m    \u001B[49m\u001B[43mbatch_size\u001B[49m\u001B[38;5;241;43m=\u001B[39;49m\u001B[38;5;241;43m64\u001B[39;49m\u001B[43m,\u001B[49m\u001B[43m \u001B[49m\u001B[43mval_data\u001B[49m\u001B[38;5;241;43m=\u001B[39;49m\u001B[43m(\u001B[49m\u001B[43mX_val\u001B[49m\u001B[43m,\u001B[49m\u001B[43m \u001B[49m\u001B[43my_val\u001B[49m\u001B[43m)\u001B[49m\u001B[43m,\u001B[49m\u001B[43m \u001B[49m\u001B[43mval_batch_size\u001B[49m\u001B[38;5;241;43m=\u001B[39;49m\u001B[38;5;241;43m512\u001B[39;49m\u001B[43m)\u001B[49m\n",
      "Input \u001B[0;32mIn [43]\u001B[0m, in \u001B[0;36mfit\u001B[0;34m(model, criterion, optimizer, train_data, epochs_count, batch_size, val_data, val_batch_size, train_hstr, val_hstr)\u001B[0m\n\u001B[1;32m     55\u001B[0m \u001B[38;5;28;01mfor\u001B[39;00m epoch \u001B[38;5;129;01min\u001B[39;00m \u001B[38;5;28mrange\u001B[39m(epochs_count):\n\u001B[1;32m     56\u001B[0m     name_prefix \u001B[38;5;241m=\u001B[39m \u001B[38;5;124m'\u001B[39m\u001B[38;5;124m[\u001B[39m\u001B[38;5;132;01m{}\u001B[39;00m\u001B[38;5;124m / \u001B[39m\u001B[38;5;132;01m{}\u001B[39;00m\u001B[38;5;124m] \u001B[39m\u001B[38;5;124m'\u001B[39m\u001B[38;5;241m.\u001B[39mformat(epoch \u001B[38;5;241m+\u001B[39m \u001B[38;5;241m1\u001B[39m, epochs_count)\n\u001B[0;32m---> 57\u001B[0m     train_loss, train_acc \u001B[38;5;241m=\u001B[39m \u001B[43mdo_epoch\u001B[49m\u001B[43m(\u001B[49m\u001B[43mmodel\u001B[49m\u001B[43m,\u001B[49m\u001B[43m \u001B[49m\u001B[43mcriterion\u001B[49m\u001B[43m,\u001B[49m\u001B[43m \u001B[49m\u001B[43mtrain_data\u001B[49m\u001B[43m,\u001B[49m\u001B[43m \u001B[49m\u001B[43mbatch_size\u001B[49m\u001B[43m,\u001B[49m\u001B[43m \u001B[49m\u001B[43moptimizer\u001B[49m\u001B[43m,\u001B[49m\u001B[43m \u001B[49m\u001B[43mname_prefix\u001B[49m\u001B[43m \u001B[49m\u001B[38;5;241;43m+\u001B[39;49m\u001B[43m \u001B[49m\u001B[38;5;124;43m'\u001B[39;49m\u001B[38;5;124;43mTrain:\u001B[39;49m\u001B[38;5;124;43m'\u001B[39;49m\u001B[43m)\u001B[49m\n\u001B[1;32m     58\u001B[0m     \u001B[38;5;28;01mif\u001B[39;00m train_hstr:\n\u001B[1;32m     59\u001B[0m         train_hstr\u001B[38;5;241m.\u001B[39mappend(train_acc)\n",
      "Input \u001B[0;32mIn [43]\u001B[0m, in \u001B[0;36mdo_epoch\u001B[0;34m(model, criterion, data, batch_size, optimizer, name)\u001B[0m\n\u001B[1;32m     17\u001B[0m \u001B[38;5;28;01mwith\u001B[39;00m tqdm(total\u001B[38;5;241m=\u001B[39mbatches_count) \u001B[38;5;28;01mas\u001B[39;00m progress_bar:\n\u001B[1;32m     18\u001B[0m     \u001B[38;5;28;01mfor\u001B[39;00m i, (x_batch, y_batch) \u001B[38;5;129;01min\u001B[39;00m \u001B[38;5;28menumerate\u001B[39m(iterate_batches(data, batch_size)):\n\u001B[0;32m---> 19\u001B[0m         x_batch, y_batch \u001B[38;5;241m=\u001B[39m \u001B[43mLongTensor\u001B[49m\u001B[43m(\u001B[49m\u001B[43mx_batch\u001B[49m\u001B[43m)\u001B[49m, LongTensor(y_batch)\n\u001B[1;32m     20\u001B[0m         logits \u001B[38;5;241m=\u001B[39m model(x_batch)\n\u001B[1;32m     22\u001B[0m         loss \u001B[38;5;241m=\u001B[39m criterion(logits\u001B[38;5;241m.\u001B[39mtranspose(\u001B[38;5;241m2\u001B[39m, \u001B[38;5;241m1\u001B[39m), y_batch)\n",
      "\u001B[0;31mKeyboardInterrupt\u001B[0m: "
     ]
    }
   ],
   "source": [
    "model = LSTMTagger(\n",
    "    vocab_size=len(word2ind),\n",
    "    tagset_size=len(tag2ind)\n",
    ").cuda()\n",
    "\n",
    "criterion = nn.CrossEntropyLoss(ignore_index=0).cuda()\n",
    "optimizer = optim.Adam(model.parameters())\n",
    "\n",
    "fit(model, criterion, optimizer, train_data=(X_train, y_train), epochs_count=50,\n",
    "    batch_size=64, val_data=(X_val, y_val), val_batch_size=512)"
   ]
  },
  {
   "cell_type": "markdown",
   "metadata": {
    "colab_type": "text",
    "id": "m0qGetIhfUE5",
    "pycharm": {
     "name": "#%% md\n"
    }
   },
   "source": [
    "### Masking\n",
    "\n",
    "**Задание** Проверьте себя - не считаете ли вы потери и accuracy на паддингах - очень легко получить высокое качество за счет этого.\n",
    "\n",
    "У функции потерь есть параметр `ignore_index`, для таких целей. Для accuracy нужно использовать маскинг - умножение на маску из нулей и единиц, где нули на позициях паддингов (а потом усреднение по ненулевым позициям в маске)."
   ]
  },
  {
   "cell_type": "markdown",
   "metadata": {
    "colab_type": "text",
    "id": "nAfV2dEOfHo5",
    "pycharm": {
     "name": "#%% md\n"
    }
   },
   "source": [
    "**Задание** Посчитайте качество модели на тесте. Ожидается результат лучше бейзлайна!"
   ]
  },
  {
   "cell_type": "code",
   "execution_count": 19,
   "metadata": {
    "colab": {},
    "colab_type": "code",
    "id": "98wr38_rw55D",
    "pycharm": {
     "name": "#%%\n"
    }
   },
   "outputs": [
    {
     "name": "stderr",
     "output_type": "stream",
     "text": [
      "[1 / 1] Train: Loss = 0.34257, Accuracy = 94.74%: 100%|██████████| 448/448 [00:01<00:00, 390.34it/s]\n"
     ]
    }
   ],
   "source": [
    "fit(model, criterion, None, train_data=(X_test, y_test))"
   ]
  },
  {
   "cell_type": "markdown",
   "metadata": {
    "colab_type": "text",
    "id": "PXUTSFaEHbDG",
    "pycharm": {
     "name": "#%% md\n"
    }
   },
   "source": [
    "### Bidirectional LSTM\n",
    "\n",
    "Благодаря BiLSTM можно использовать сразу оба контеста при предсказании тега слова. Т.е. для каждого токена $w_i$ forward LSTM будет выдавать представление $\\mathbf{f_i} \\sim (w_1, \\ldots, w_i)$ - построенное по всему левому контексту - и $\\mathbf{b_i} \\sim (w_n, \\ldots, w_i)$ - представление правого контекста. Их конкатенация автоматически захватит весь доступный контекст слова: $\\mathbf{h_i} = [\\mathbf{f_i}, \\mathbf{b_i}] \\sim (w_1, \\ldots, w_n)$.\n",
    "\n",
    "![BiLSTM](https://www.researchgate.net/profile/Wang_Ling/publication/280912217/figure/fig2/AS:391505383575555@1470353565299/Illustration-of-our-neural-network-for-POS-tagging.png)  \n",
    "*From [Finding Function in Form: Compositional Character Models for Open Vocabulary Word Representation](https://arxiv.org/abs/1508.02096)*\n",
    "\n",
    "**Задание** Добавьте Bidirectional LSTM."
   ]
  },
  {
   "cell_type": "code",
   "execution_count": 111,
   "metadata": {
    "pycharm": {
     "name": "#%%\n"
    }
   },
   "outputs": [
    {
     "name": "stderr",
     "output_type": "stream",
     "text": [
      "[1 / 50] Train: Loss = 0.55192, Accuracy = 82.59%: 100%|██████████| 572/572 [00:06<00:00, 88.81it/s] \n",
      "[1 / 50]   Val: Loss = 0.26872, Accuracy = 91.32%: 100%|██████████| 13/13 [00:00<00:00, 117.54it/s]\n",
      "[2 / 50] Train: Loss = 0.20366, Accuracy = 93.51%: 100%|██████████| 572/572 [00:06<00:00, 90.28it/s] \n",
      "[2 / 50]   Val: Loss = 0.17456, Accuracy = 94.52%: 100%|██████████| 13/13 [00:00<00:00, 115.30it/s]\n",
      "[3 / 50] Train: Loss = 0.12940, Accuracy = 95.98%: 100%|██████████| 572/572 [00:06<00:00, 88.59it/s] \n",
      "[3 / 50]   Val: Loss = 0.13733, Accuracy = 95.58%: 100%|██████████| 13/13 [00:00<00:00, 111.07it/s]\n",
      "[4 / 50] Train: Loss = 0.08843, Accuracy = 97.30%: 100%|██████████| 572/572 [00:06<00:00, 88.68it/s]\n",
      "[4 / 50]   Val: Loss = 0.12614, Accuracy = 95.86%: 100%|██████████| 13/13 [00:00<00:00, 112.22it/s]\n",
      "[5 / 50] Train: Loss = 0.06117, Accuracy = 98.18%: 100%|██████████| 572/572 [00:06<00:00, 86.25it/s]\n",
      "[5 / 50]   Val: Loss = 0.11634, Accuracy = 96.28%: 100%|██████████| 13/13 [00:00<00:00, 115.29it/s]\n",
      "[6 / 50] Train: Loss = 0.04171, Accuracy = 98.80%: 100%|██████████| 572/572 [00:06<00:00, 87.64it/s]\n",
      "[6 / 50]   Val: Loss = 0.11612, Accuracy = 96.41%: 100%|██████████| 13/13 [00:00<00:00, 111.64it/s]\n",
      "[7 / 50] Train: Loss = 0.02794, Accuracy = 99.24%: 100%|██████████| 572/572 [00:06<00:00, 89.76it/s]\n",
      "[7 / 50]   Val: Loss = 0.11834, Accuracy = 96.47%: 100%|██████████| 13/13 [00:00<00:00, 112.02it/s]\n",
      "[8 / 50] Train: Loss = 0.01831, Accuracy = 99.53%: 100%|██████████| 572/572 [00:06<00:00, 82.55it/s] \n",
      "[8 / 50]   Val: Loss = 0.12376, Accuracy = 96.48%: 100%|██████████| 13/13 [00:00<00:00, 115.69it/s]\n",
      "[9 / 50] Train: Loss = 0.01179, Accuracy = 99.72%: 100%|██████████| 572/572 [00:06<00:00, 89.07it/s]  \n",
      "[9 / 50]   Val: Loss = 0.13079, Accuracy = 96.42%: 100%|██████████| 13/13 [00:00<00:00, 107.36it/s]\n",
      "[10 / 50] Train: Loss = 0.00745, Accuracy = 99.85%: 100%|██████████| 572/572 [00:06<00:00, 85.68it/s] \n",
      "[10 / 50]   Val: Loss = 0.14191, Accuracy = 96.44%: 100%|██████████| 13/13 [00:00<00:00, 106.83it/s]\n",
      "[11 / 50] Train: Loss = 0.00472, Accuracy = 99.92%: 100%|██████████| 572/572 [00:06<00:00, 86.81it/s] \n",
      "[11 / 50]   Val: Loss = 0.15433, Accuracy = 96.27%: 100%|██████████| 13/13 [00:00<00:00, 121.00it/s]\n",
      "[12 / 50] Train: Loss = 0.00301, Accuracy = 99.96%: 100%|██████████| 572/572 [00:06<00:00, 87.63it/s]  \n",
      "[12 / 50]   Val: Loss = 0.15769, Accuracy = 96.41%: 100%|██████████| 13/13 [00:00<00:00, 117.92it/s]\n",
      "[13 / 50] Train: Loss = 0.00179, Accuracy = 99.98%: 100%|██████████| 572/572 [00:06<00:00, 86.30it/s] \n",
      "[13 / 50]   Val: Loss = 0.16433, Accuracy = 96.48%: 100%|██████████| 13/13 [00:00<00:00, 125.94it/s]\n",
      "[14 / 50] Train: Loss = 0.00141, Accuracy = 99.99%: 100%|██████████| 572/572 [00:06<00:00, 86.58it/s] \n",
      "[14 / 50]   Val: Loss = 0.17974, Accuracy = 96.24%: 100%|██████████| 13/13 [00:00<00:00, 124.05it/s]\n",
      "[15 / 50] Train: Loss = 0.00182, Accuracy = 99.97%: 100%|██████████| 572/572 [00:06<00:00, 86.79it/s] \n",
      "[15 / 50]   Val: Loss = 0.19080, Accuracy = 96.21%: 100%|██████████| 13/13 [00:00<00:00, 119.90it/s]\n",
      "[16 / 50] Train: Loss = 0.00279, Accuracy = 99.94%: 100%|██████████| 572/572 [00:06<00:00, 87.68it/s] \n",
      "[16 / 50]   Val: Loss = 0.18914, Accuracy = 96.25%: 100%|██████████| 13/13 [00:00<00:00, 113.56it/s]\n",
      "[17 / 50] Train: Loss = 0.00164, Accuracy = 99.96%: 100%|██████████| 572/572 [00:06<00:00, 90.53it/s]  \n",
      "[17 / 50]   Val: Loss = 0.19079, Accuracy = 96.33%: 100%|██████████| 13/13 [00:00<00:00, 125.34it/s]\n",
      "[18 / 50] Train: Loss = 0.00063, Accuracy = 99.99%: 100%|██████████| 572/572 [00:06<00:00, 89.48it/s]  \n",
      "[18 / 50]   Val: Loss = 0.19622, Accuracy = 96.45%: 100%|██████████| 13/13 [00:00<00:00, 121.58it/s]\n",
      "[19 / 50] Train: Loss = 0.00031, Accuracy = 100.00%: 100%|██████████| 572/572 [00:06<00:00, 84.98it/s]\n",
      "[19 / 50]   Val: Loss = 0.20341, Accuracy = 96.45%: 100%|██████████| 13/13 [00:00<00:00, 113.27it/s]\n",
      "[20 / 50] Train: Loss = 0.00019, Accuracy = 100.00%: 100%|██████████| 572/572 [00:06<00:00, 87.94it/s]\n",
      "[20 / 50]   Val: Loss = 0.20455, Accuracy = 96.44%: 100%|██████████| 13/13 [00:00<00:00, 119.78it/s]\n",
      "[21 / 50] Train: Loss = 0.00030, Accuracy = 100.00%: 100%|██████████| 572/572 [00:06<00:00, 85.76it/s]\n",
      "[21 / 50]   Val: Loss = 0.22645, Accuracy = 96.16%: 100%|██████████| 13/13 [00:00<00:00, 118.95it/s]\n",
      "[22 / 50] Train: Loss = 0.00517, Accuracy = 99.82%: 100%|██████████| 572/572 [00:06<00:00, 84.92it/s] \n",
      "[22 / 50]   Val: Loss = 0.20695, Accuracy = 96.33%: 100%|██████████| 13/13 [00:00<00:00, 121.27it/s]\n",
      "[23 / 50] Train: Loss = 0.00112, Accuracy = 99.97%: 100%|██████████| 572/572 [00:06<00:00, 90.54it/s]  \n",
      "[23 / 50]   Val: Loss = 0.21629, Accuracy = 96.45%: 100%|██████████| 13/13 [00:00<00:00, 118.91it/s]\n",
      "[24 / 50] Train: Loss = 0.00026, Accuracy = 100.00%: 100%|██████████| 572/572 [00:06<00:00, 87.44it/s] \n",
      "[24 / 50]   Val: Loss = 0.21025, Accuracy = 96.50%: 100%|██████████| 13/13 [00:00<00:00, 115.16it/s]\n",
      "[25 / 50] Train: Loss = 0.00013, Accuracy = 100.00%: 100%|██████████| 572/572 [00:06<00:00, 85.66it/s]\n",
      "[25 / 50]   Val: Loss = 0.21123, Accuracy = 96.54%: 100%|██████████| 13/13 [00:00<00:00, 114.27it/s]\n",
      "[26 / 50] Train: Loss = 0.00009, Accuracy = 100.00%: 100%|██████████| 572/572 [00:06<00:00, 87.84it/s] \n",
      "[26 / 50]   Val: Loss = 0.21487, Accuracy = 96.53%: 100%|██████████| 13/13 [00:00<00:00, 129.86it/s]\n",
      "[27 / 50] Train: Loss = 0.00007, Accuracy = 100.00%: 100%|██████████| 572/572 [00:06<00:00, 88.94it/s] \n",
      "[27 / 50]   Val: Loss = 0.21247, Accuracy = 96.59%: 100%|██████████| 13/13 [00:00<00:00, 119.46it/s]\n",
      "[28 / 50] Train: Loss = 0.00011, Accuracy = 100.00%: 100%|██████████| 572/572 [00:06<00:00, 87.13it/s]\n",
      "[28 / 50]   Val: Loss = 0.21731, Accuracy = 96.49%: 100%|██████████| 13/13 [00:00<00:00, 126.07it/s]\n",
      "[29 / 50] Train: Loss = 0.00442, Accuracy = 99.86%: 100%|██████████| 572/572 [00:06<00:00, 88.17it/s]  \n",
      "[29 / 50]   Val: Loss = 0.21805, Accuracy = 96.45%: 100%|██████████| 13/13 [00:00<00:00, 120.38it/s]\n",
      "[30 / 50] Train: Loss = 0.00128, Accuracy = 99.96%: 100%|██████████| 572/572 [00:06<00:00, 87.73it/s] \n",
      "[30 / 50]   Val: Loss = 0.21973, Accuracy = 96.55%: 100%|██████████| 13/13 [00:00<00:00, 119.03it/s]\n",
      "[31 / 50] Train: Loss = 0.00037, Accuracy = 99.99%: 100%|██████████| 572/572 [00:06<00:00, 83.17it/s] \n",
      "[31 / 50]   Val: Loss = 0.21871, Accuracy = 96.62%: 100%|██████████| 13/13 [00:00<00:00, 125.63it/s]\n",
      "[32 / 50] Train: Loss = 0.00011, Accuracy = 100.00%: 100%|██████████| 572/572 [00:06<00:00, 85.50it/s]\n",
      "[32 / 50]   Val: Loss = 0.21737, Accuracy = 96.66%: 100%|██████████| 13/13 [00:00<00:00, 122.86it/s]\n",
      "[33 / 50] Train: Loss = 0.00006, Accuracy = 100.00%: 100%|██████████| 572/572 [00:06<00:00, 89.03it/s]\n",
      "[33 / 50]   Val: Loss = 0.21836, Accuracy = 96.70%: 100%|██████████| 13/13 [00:00<00:00, 117.11it/s]\n",
      "[34 / 50] Train: Loss = 0.00006, Accuracy = 100.00%: 100%|██████████| 572/572 [00:06<00:00, 90.41it/s] \n",
      "[34 / 50]   Val: Loss = 0.22178, Accuracy = 96.69%: 100%|██████████| 13/13 [00:00<00:00, 112.37it/s]\n",
      "[35 / 50] Train: Loss = 0.00006, Accuracy = 100.00%: 100%|██████████| 572/572 [00:06<00:00, 90.85it/s]\n",
      "[35 / 50]   Val: Loss = 0.22161, Accuracy = 96.70%: 100%|██████████| 13/13 [00:00<00:00, 119.73it/s]\n",
      "[36 / 50] Train: Loss = 0.00005, Accuracy = 100.00%: 100%|██████████| 572/572 [00:06<00:00, 86.98it/s] \n",
      "[36 / 50]   Val: Loss = 0.22517, Accuracy = 96.70%: 100%|██████████| 13/13 [00:00<00:00, 116.21it/s]\n",
      "[37 / 50] Train: Loss = 0.00007, Accuracy = 100.00%: 100%|██████████| 572/572 [00:06<00:00, 92.80it/s] \n",
      "[37 / 50]   Val: Loss = 0.22964, Accuracy = 96.68%: 100%|██████████| 13/13 [00:00<00:00, 121.00it/s]\n",
      "[38 / 50] Train: Loss = 0.00464, Accuracy = 99.85%: 100%|██████████| 572/572 [00:06<00:00, 86.30it/s] \n",
      "[38 / 50]   Val: Loss = 0.24300, Accuracy = 96.40%: 100%|██████████| 13/13 [00:00<00:00, 129.25it/s]\n",
      "[39 / 50] Train: Loss = 0.00106, Accuracy = 99.97%: 100%|██████████| 572/572 [00:06<00:00, 88.45it/s] \n",
      "[39 / 50]   Val: Loss = 0.23185, Accuracy = 96.58%: 100%|██████████| 13/13 [00:00<00:00, 121.73it/s]\n",
      "[40 / 50] Train: Loss = 0.00021, Accuracy = 100.00%: 100%|██████████| 572/572 [00:06<00:00, 86.98it/s]\n",
      "[40 / 50]   Val: Loss = 0.22941, Accuracy = 96.63%: 100%|██████████| 13/13 [00:00<00:00, 129.37it/s]\n",
      "[41 / 50] Train: Loss = 0.00007, Accuracy = 100.00%: 100%|██████████| 572/572 [00:06<00:00, 89.54it/s]\n",
      "[41 / 50]   Val: Loss = 0.23201, Accuracy = 96.62%: 100%|██████████| 13/13 [00:00<00:00, 120.20it/s]\n",
      "[42 / 50] Train: Loss = 0.00006, Accuracy = 100.00%: 100%|██████████| 572/572 [00:06<00:00, 87.95it/s] \n",
      "[42 / 50]   Val: Loss = 0.23291, Accuracy = 96.64%: 100%|██████████| 13/13 [00:00<00:00, 118.63it/s]\n",
      "[43 / 50] Train: Loss = 0.00004, Accuracy = 100.00%: 100%|██████████| 572/572 [00:06<00:00, 87.76it/s]\n",
      "[43 / 50]   Val: Loss = 0.23273, Accuracy = 96.64%: 100%|██████████| 13/13 [00:00<00:00, 115.95it/s]\n",
      "[44 / 50] Train: Loss = 0.00004, Accuracy = 100.00%: 100%|██████████| 572/572 [00:06<00:00, 90.35it/s] \n",
      "[44 / 50]   Val: Loss = 0.23590, Accuracy = 96.64%: 100%|██████████| 13/13 [00:00<00:00, 115.32it/s]\n",
      "[45 / 50] Train: Loss = 0.00005, Accuracy = 100.00%: 100%|██████████| 572/572 [00:06<00:00, 86.91it/s] \n",
      "[45 / 50]   Val: Loss = 0.23630, Accuracy = 96.67%: 100%|██████████| 13/13 [00:00<00:00, 117.25it/s]\n",
      "[46 / 50] Train: Loss = 0.00004, Accuracy = 100.00%: 100%|██████████| 572/572 [00:06<00:00, 89.69it/s]\n",
      "[46 / 50]   Val: Loss = 0.23776, Accuracy = 96.68%: 100%|██████████| 13/13 [00:00<00:00, 124.38it/s]\n",
      "[47 / 50] Train: Loss = 0.00003, Accuracy = 100.00%: 100%|██████████| 572/572 [00:06<00:00, 89.74it/s] \n",
      "[47 / 50]   Val: Loss = 0.24186, Accuracy = 96.62%: 100%|██████████| 13/13 [00:00<00:00, 115.63it/s]\n",
      "[48 / 50] Train: Loss = 0.00004, Accuracy = 100.00%: 100%|██████████| 572/572 [00:06<00:00, 92.09it/s] \n",
      "[48 / 50]   Val: Loss = 0.24178, Accuracy = 96.68%: 100%|██████████| 13/13 [00:00<00:00, 122.53it/s]\n",
      "[49 / 50] Train: Loss = 0.00004, Accuracy = 100.00%: 100%|██████████| 572/572 [00:06<00:00, 85.31it/s]\n",
      "[49 / 50]   Val: Loss = 0.24677, Accuracy = 96.71%: 100%|██████████| 13/13 [00:00<00:00, 114.87it/s]\n",
      "[50 / 50] Train: Loss = 0.00009, Accuracy = 100.00%: 100%|██████████| 572/572 [00:06<00:00, 91.36it/s]\n",
      "[50 / 50]   Val: Loss = 0.25986, Accuracy = 96.48%: 100%|██████████| 13/13 [00:00<00:00, 128.32it/s]\n"
     ]
    }
   ],
   "source": [
    "class BILSTMTagger(nn.Module):\n",
    "    def __init__(self, vocab_size, tagset_size, word_emb_dim=100, lstm_hidden_dim=128, lstm_layers_count=1):\n",
    "        super().__init__()\n",
    "\n",
    "        self.embedding = nn.Embedding(vocab_size, word_emb_dim)\n",
    "        self.bilstm = nn.LSTM(input_size=word_emb_dim, hidden_size=lstm_hidden_dim, num_layers=lstm_layers_count, bidirectional=True)\n",
    "        self.linear = nn.Linear(2*lstm_hidden_dim, tagset_size)\n",
    "\n",
    "    def forward(self, inputs):\n",
    "        out, _ = self.bilstm(self.embedding(inputs))\n",
    "        out = self.linear(out)\n",
    "        return out\n",
    "\n",
    "model = BILSTMTagger(\n",
    "    vocab_size=len(word2ind),\n",
    "    tagset_size=len(tag2ind)\n",
    ").cuda()\n",
    "\n",
    "criterion = nn.CrossEntropyLoss(ignore_index=0).cuda()\n",
    "optimizer = optim.Adam(model.parameters())\n",
    "\n",
    "fit(model, criterion, optimizer, train_data=(X_train, y_train), epochs_count=50,\n",
    "    batch_size=64, val_data=(X_val, y_val), val_batch_size=512)"
   ]
  },
  {
   "cell_type": "code",
   "execution_count": 112,
   "outputs": [
    {
     "name": "stderr",
     "output_type": "stream",
     "text": [
      "[1 / 1] Train: Loss = 0.26220, Accuracy = 96.45%: 100%|██████████| 448/448 [00:01<00:00, 306.32it/s]\n"
     ]
    }
   ],
   "source": [
    "fit(model, criterion, None, train_data=(X_test, y_test))"
   ],
   "metadata": {
    "collapsed": false,
    "pycharm": {
     "name": "#%%\n"
    }
   }
  },
  {
   "cell_type": "markdown",
   "metadata": {
    "colab_type": "text",
    "id": "ZTXmYGD_ANhm",
    "pycharm": {
     "name": "#%% md\n"
    }
   },
   "source": [
    "### Предобученные эмбеддинги\n",
    "\n",
    "Мы знаем, какая клёвая вещь - предобученные эмбеддинги. При текущем размере обучающей выборки еще можно было учить их и с нуля - с меньшей было бы совсем плохо.\n",
    "\n",
    "Поэтому стандартный пайплайн - скачать эмбеддинги, засунуть их в сеточку. Запустим его:"
   ]
  },
  {
   "cell_type": "code",
   "execution_count": 22,
   "metadata": {
    "colab": {},
    "colab_type": "code",
    "id": "uZpY_Q1xZ18h",
    "pycharm": {
     "name": "#%%\n"
    }
   },
   "outputs": [],
   "source": [
    "import gensim.downloader as api\n",
    "\n",
    "w2v_model = api.load('glove-wiki-gigaword-100')"
   ]
  },
  {
   "cell_type": "markdown",
   "metadata": {
    "colab_type": "text",
    "id": "KYogOoKlgtcf",
    "pycharm": {
     "name": "#%% md\n"
    }
   },
   "source": [
    "Построим подматрицу для слов из нашей тренировочной выборки:"
   ]
  },
  {
   "cell_type": "code",
   "execution_count": 24,
   "metadata": {
    "colab": {},
    "colab_type": "code",
    "id": "VsCstxiO03oT",
    "pycharm": {
     "name": "#%%\n"
    }
   },
   "outputs": [
    {
     "name": "stdout",
     "output_type": "stream",
     "text": [
      "Know 38736 out of 45441 word embeddings\n"
     ]
    }
   ],
   "source": [
    "known_count = 0\n",
    "embeddings = np.zeros((len(word2ind), w2v_model.vectors.shape[1]))\n",
    "for word, ind in word2ind.items():\n",
    "    word = word.lower()\n",
    "    if word in w2v_model.vocab:\n",
    "        embeddings[ind] = w2v_model.get_vector(word)\n",
    "        known_count += 1\n",
    "        \n",
    "print('Know {} out of {} word embeddings'.format(known_count, len(word2ind)))"
   ]
  },
  {
   "cell_type": "markdown",
   "metadata": {
    "colab_type": "text",
    "id": "HcG7i-R8hbY3",
    "pycharm": {
     "name": "#%% md\n"
    }
   },
   "source": [
    "**Задание** Сделайте модель с предобученной матрицей. Используйте `nn.Embedding.from_pretrained`."
   ]
  },
  {
   "cell_type": "code",
   "execution_count": 99,
   "metadata": {
    "colab": {},
    "colab_type": "code",
    "id": "LxaRBpQd0pat",
    "pycharm": {
     "name": "#%%\n"
    }
   },
   "outputs": [],
   "source": [
    "class LSTMTaggerWithPretrainedEmbs(nn.Module):\n",
    "    def __init__(self, embeddings, tagset_size, lstm_hidden_dim=64, lstm_layers_count=1):\n",
    "        super().__init__()\n",
    "        \n",
    "        self.embedding = nn.Embedding.from_pretrained(torch.FloatTensor(embeddings))\n",
    "        self.lstm = nn.LSTM(input_size=embeddings.shape[1], hidden_size=lstm_hidden_dim, num_layers=lstm_layers_count, bidirectional=True)\n",
    "        self.linear = nn.Linear(2*lstm_hidden_dim, tagset_size)\n",
    "\n",
    "    def forward(self, inputs):\n",
    "        out, _ = self.lstm(self.embedding(inputs))\n",
    "        out = self.linear(out)\n",
    "        return out\n"
   ]
  },
  {
   "cell_type": "code",
   "execution_count": 113,
   "metadata": {
    "colab": {},
    "colab_type": "code",
    "id": "EBtI6BDE-Fc7",
    "pycharm": {
     "name": "#%%\n"
    }
   },
   "outputs": [
    {
     "name": "stderr",
     "output_type": "stream",
     "text": [
      "[1 / 50] Train: Loss = 0.56073, Accuracy = 83.77%: 100%|██████████| 572/572 [00:04<00:00, 141.38it/s]\n",
      "[1 / 50]   Val: Loss = 0.25646, Accuracy = 92.42%: 100%|██████████| 13/13 [00:00<00:00, 141.40it/s]\n",
      "[2 / 50] Train: Loss = 0.18824, Accuracy = 94.42%: 100%|██████████| 572/572 [00:04<00:00, 139.57it/s]\n",
      "[2 / 50]   Val: Loss = 0.17398, Accuracy = 94.78%: 100%|██████████| 13/13 [00:00<00:00, 148.33it/s]\n",
      "[3 / 50] Train: Loss = 0.13355, Accuracy = 96.03%: 100%|██████████| 572/572 [00:04<00:00, 138.46it/s]\n",
      "[3 / 50]   Val: Loss = 0.14167, Accuracy = 95.69%: 100%|██████████| 13/13 [00:00<00:00, 146.73it/s]\n",
      "[4 / 50] Train: Loss = 0.10750, Accuracy = 96.74%: 100%|██████████| 572/572 [00:04<00:00, 140.78it/s]\n",
      "[4 / 50]   Val: Loss = 0.12268, Accuracy = 96.24%: 100%|██████████| 13/13 [00:00<00:00, 142.50it/s]\n",
      "[5 / 50] Train: Loss = 0.09210, Accuracy = 97.20%: 100%|██████████| 572/572 [00:04<00:00, 141.04it/s]\n",
      "[5 / 50]   Val: Loss = 0.11329, Accuracy = 96.49%: 100%|██████████| 13/13 [00:00<00:00, 150.19it/s]\n",
      "[6 / 50] Train: Loss = 0.08180, Accuracy = 97.51%: 100%|██████████| 572/572 [00:04<00:00, 141.53it/s]\n",
      "[6 / 50]   Val: Loss = 0.10636, Accuracy = 96.66%: 100%|██████████| 13/13 [00:00<00:00, 140.18it/s]\n",
      "[7 / 50] Train: Loss = 0.07433, Accuracy = 97.71%: 100%|██████████| 572/572 [00:03<00:00, 143.15it/s]\n",
      "[7 / 50]   Val: Loss = 0.10229, Accuracy = 96.78%: 100%|██████████| 13/13 [00:00<00:00, 141.89it/s]\n",
      "[8 / 50] Train: Loss = 0.06837, Accuracy = 97.90%: 100%|██████████| 572/572 [00:04<00:00, 142.89it/s]\n",
      "[8 / 50]   Val: Loss = 0.10062, Accuracy = 96.85%: 100%|██████████| 13/13 [00:00<00:00, 140.74it/s]\n",
      "[9 / 50] Train: Loss = 0.06335, Accuracy = 98.03%: 100%|██████████| 572/572 [00:04<00:00, 142.20it/s]\n",
      "[9 / 50]   Val: Loss = 0.09732, Accuracy = 96.93%: 100%|██████████| 13/13 [00:00<00:00, 139.98it/s]\n",
      "[10 / 50] Train: Loss = 0.05942, Accuracy = 98.17%: 100%|██████████| 572/572 [00:04<00:00, 140.85it/s]\n",
      "[10 / 50]   Val: Loss = 0.09479, Accuracy = 97.00%: 100%|██████████| 13/13 [00:00<00:00, 147.16it/s]\n",
      "[11 / 50] Train: Loss = 0.05574, Accuracy = 98.27%: 100%|██████████| 572/572 [00:03<00:00, 144.46it/s]\n",
      "[11 / 50]   Val: Loss = 0.09462, Accuracy = 97.04%: 100%|██████████| 13/13 [00:00<00:00, 143.05it/s]\n",
      "[12 / 50] Train: Loss = 0.05280, Accuracy = 98.36%: 100%|██████████| 572/572 [00:03<00:00, 144.30it/s]\n",
      "[12 / 50]   Val: Loss = 0.09546, Accuracy = 97.01%: 100%|██████████| 13/13 [00:00<00:00, 157.71it/s]\n",
      "[13 / 50] Train: Loss = 0.04984, Accuracy = 98.45%: 100%|██████████| 572/572 [00:04<00:00, 141.03it/s]\n",
      "[13 / 50]   Val: Loss = 0.09572, Accuracy = 97.01%: 100%|██████████| 13/13 [00:00<00:00, 148.38it/s]\n",
      "[14 / 50] Train: Loss = 0.04742, Accuracy = 98.53%: 100%|██████████| 572/572 [00:04<00:00, 141.58it/s]\n",
      "[14 / 50]   Val: Loss = 0.09491, Accuracy = 97.02%: 100%|██████████| 13/13 [00:00<00:00, 149.65it/s]\n",
      "[15 / 50] Train: Loss = 0.04507, Accuracy = 98.60%: 100%|██████████| 572/572 [00:04<00:00, 142.48it/s]\n",
      "[15 / 50]   Val: Loss = 0.09850, Accuracy = 96.97%: 100%|██████████| 13/13 [00:00<00:00, 147.49it/s]\n",
      "[16 / 50] Train: Loss = 0.04293, Accuracy = 98.67%: 100%|██████████| 572/572 [00:04<00:00, 136.80it/s]\n",
      "[16 / 50]   Val: Loss = 0.09819, Accuracy = 97.00%: 100%|██████████| 13/13 [00:00<00:00, 152.12it/s]\n",
      "[17 / 50] Train: Loss = 0.04107, Accuracy = 98.72%: 100%|██████████| 572/572 [00:03<00:00, 143.63it/s]\n",
      "[17 / 50]   Val: Loss = 0.09623, Accuracy = 96.99%: 100%|██████████| 13/13 [00:00<00:00, 161.91it/s]\n",
      "[18 / 50] Train: Loss = 0.03923, Accuracy = 98.78%: 100%|██████████| 572/572 [00:03<00:00, 145.67it/s]\n",
      "[18 / 50]   Val: Loss = 0.09734, Accuracy = 97.02%: 100%|██████████| 13/13 [00:00<00:00, 151.66it/s]\n",
      "[19 / 50] Train: Loss = 0.03763, Accuracy = 98.84%: 100%|██████████| 572/572 [00:04<00:00, 140.17it/s]\n",
      "[19 / 50]   Val: Loss = 0.09534, Accuracy = 97.05%: 100%|██████████| 13/13 [00:00<00:00, 165.66it/s]\n",
      "[20 / 50] Train: Loss = 0.03569, Accuracy = 98.90%: 100%|██████████| 572/572 [00:03<00:00, 146.77it/s]\n",
      "[20 / 50]   Val: Loss = 0.09966, Accuracy = 97.02%: 100%|██████████| 13/13 [00:00<00:00, 164.49it/s]\n",
      "[21 / 50] Train: Loss = 0.03440, Accuracy = 98.95%: 100%|██████████| 572/572 [00:04<00:00, 142.23it/s]\n",
      "[21 / 50]   Val: Loss = 0.09707, Accuracy = 97.04%: 100%|██████████| 13/13 [00:00<00:00, 148.02it/s]\n",
      "[22 / 50] Train: Loss = 0.03273, Accuracy = 99.00%: 100%|██████████| 572/572 [00:03<00:00, 145.06it/s] \n",
      "[22 / 50]   Val: Loss = 0.10058, Accuracy = 97.00%: 100%|██████████| 13/13 [00:00<00:00, 148.08it/s]\n",
      "[23 / 50] Train: Loss = 0.03132, Accuracy = 99.05%: 100%|██████████| 572/572 [00:03<00:00, 143.02it/s]\n",
      "[23 / 50]   Val: Loss = 0.10380, Accuracy = 96.96%: 100%|██████████| 13/13 [00:00<00:00, 147.58it/s]\n",
      "[24 / 50] Train: Loss = 0.03007, Accuracy = 99.09%: 100%|██████████| 572/572 [00:04<00:00, 138.97it/s]\n",
      "[24 / 50]   Val: Loss = 0.10148, Accuracy = 96.97%: 100%|██████████| 13/13 [00:00<00:00, 150.98it/s]\n",
      "[25 / 50] Train: Loss = 0.02852, Accuracy = 99.14%: 100%|██████████| 572/572 [00:04<00:00, 141.65it/s]\n",
      "[25 / 50]   Val: Loss = 0.10464, Accuracy = 97.00%: 100%|██████████| 13/13 [00:00<00:00, 146.50it/s]\n",
      "[26 / 50] Train: Loss = 0.02738, Accuracy = 99.18%: 100%|██████████| 572/572 [00:04<00:00, 142.58it/s]\n",
      "[26 / 50]   Val: Loss = 0.10557, Accuracy = 96.95%: 100%|██████████| 13/13 [00:00<00:00, 155.46it/s]\n",
      "[27 / 50] Train: Loss = 0.02624, Accuracy = 99.22%: 100%|██████████| 572/572 [00:03<00:00, 145.37it/s]\n",
      "[27 / 50]   Val: Loss = 0.11050, Accuracy = 96.91%: 100%|██████████| 13/13 [00:00<00:00, 166.83it/s]\n",
      "[28 / 50] Train: Loss = 0.02502, Accuracy = 99.25%: 100%|██████████| 572/572 [00:04<00:00, 138.95it/s]\n",
      "[28 / 50]   Val: Loss = 0.11014, Accuracy = 96.95%: 100%|██████████| 13/13 [00:00<00:00, 155.28it/s]\n",
      "[29 / 50] Train: Loss = 0.02379, Accuracy = 99.30%: 100%|██████████| 572/572 [00:04<00:00, 141.54it/s]\n",
      "[29 / 50]   Val: Loss = 0.11136, Accuracy = 96.90%: 100%|██████████| 13/13 [00:00<00:00, 156.54it/s]\n",
      "[30 / 50] Train: Loss = 0.02297, Accuracy = 99.34%: 100%|██████████| 572/572 [00:04<00:00, 140.19it/s] \n",
      "[30 / 50]   Val: Loss = 0.11542, Accuracy = 96.92%: 100%|██████████| 13/13 [00:00<00:00, 137.47it/s]\n",
      "[31 / 50] Train: Loss = 0.02180, Accuracy = 99.36%: 100%|██████████| 572/572 [00:04<00:00, 140.27it/s]\n",
      "[31 / 50]   Val: Loss = 0.11499, Accuracy = 96.87%: 100%|██████████| 13/13 [00:00<00:00, 153.94it/s]\n",
      "[32 / 50] Train: Loss = 0.02064, Accuracy = 99.41%: 100%|██████████| 572/572 [00:04<00:00, 142.12it/s] \n",
      "[32 / 50]   Val: Loss = 0.11743, Accuracy = 96.92%: 100%|██████████| 13/13 [00:00<00:00, 170.25it/s]\n",
      "[33 / 50] Train: Loss = 0.01977, Accuracy = 99.44%: 100%|██████████| 572/572 [00:03<00:00, 146.03it/s]\n",
      "[33 / 50]   Val: Loss = 0.12059, Accuracy = 96.85%: 100%|██████████| 13/13 [00:00<00:00, 146.66it/s]\n",
      "[34 / 50] Train: Loss = 0.01882, Accuracy = 99.47%: 100%|██████████| 572/572 [00:04<00:00, 141.26it/s] \n",
      "[34 / 50]   Val: Loss = 0.12166, Accuracy = 96.86%: 100%|██████████| 13/13 [00:00<00:00, 158.28it/s]\n",
      "[35 / 50] Train: Loss = 0.01809, Accuracy = 99.50%: 100%|██████████| 572/572 [00:04<00:00, 136.78it/s] \n",
      "[35 / 50]   Val: Loss = 0.12244, Accuracy = 96.81%: 100%|██████████| 13/13 [00:00<00:00, 160.09it/s]\n",
      "[36 / 50] Train: Loss = 0.01698, Accuracy = 99.53%: 100%|██████████| 572/572 [00:03<00:00, 145.55it/s] \n",
      "[36 / 50]   Val: Loss = 0.12475, Accuracy = 96.87%: 100%|██████████| 13/13 [00:00<00:00, 154.42it/s]\n",
      "[37 / 50] Train: Loss = 0.01622, Accuracy = 99.56%: 100%|██████████| 572/572 [00:04<00:00, 136.32it/s] \n",
      "[37 / 50]   Val: Loss = 0.12731, Accuracy = 96.79%: 100%|██████████| 13/13 [00:00<00:00, 151.92it/s]\n",
      "[38 / 50] Train: Loss = 0.01534, Accuracy = 99.60%: 100%|██████████| 572/572 [00:04<00:00, 130.29it/s] \n",
      "[38 / 50]   Val: Loss = 0.13129, Accuracy = 96.74%: 100%|██████████| 13/13 [00:00<00:00, 149.70it/s]\n",
      "[39 / 50] Train: Loss = 0.01463, Accuracy = 99.62%: 100%|██████████| 572/572 [00:04<00:00, 136.37it/s] \n",
      "[39 / 50]   Val: Loss = 0.13120, Accuracy = 96.77%: 100%|██████████| 13/13 [00:00<00:00, 150.78it/s]\n",
      "[40 / 50] Train: Loss = 0.01380, Accuracy = 99.64%: 100%|██████████| 572/572 [00:04<00:00, 137.14it/s] \n",
      "[40 / 50]   Val: Loss = 0.13645, Accuracy = 96.65%: 100%|██████████| 13/13 [00:00<00:00, 141.17it/s]\n",
      "[41 / 50] Train: Loss = 0.01311, Accuracy = 99.67%: 100%|██████████| 572/572 [00:04<00:00, 136.52it/s] \n",
      "[41 / 50]   Val: Loss = 0.13788, Accuracy = 96.72%: 100%|██████████| 13/13 [00:00<00:00, 143.93it/s]\n",
      "[42 / 50] Train: Loss = 0.01236, Accuracy = 99.68%: 100%|██████████| 572/572 [00:04<00:00, 136.11it/s] \n",
      "[42 / 50]   Val: Loss = 0.13990, Accuracy = 96.70%: 100%|██████████| 13/13 [00:00<00:00, 164.13it/s]\n",
      "[43 / 50] Train: Loss = 0.01182, Accuracy = 99.71%: 100%|██████████| 572/572 [00:04<00:00, 142.34it/s] \n",
      "[43 / 50]   Val: Loss = 0.14211, Accuracy = 96.72%: 100%|██████████| 13/13 [00:00<00:00, 137.88it/s]\n",
      "[44 / 50] Train: Loss = 0.01115, Accuracy = 99.73%: 100%|██████████| 572/572 [00:04<00:00, 136.96it/s] \n",
      "[44 / 50]   Val: Loss = 0.14413, Accuracy = 96.70%: 100%|██████████| 13/13 [00:00<00:00, 148.97it/s]\n",
      "[45 / 50] Train: Loss = 0.01049, Accuracy = 99.76%: 100%|██████████| 572/572 [00:04<00:00, 135.24it/s] \n",
      "[45 / 50]   Val: Loss = 0.14993, Accuracy = 96.66%: 100%|██████████| 13/13 [00:00<00:00, 157.30it/s]\n",
      "[46 / 50] Train: Loss = 0.00993, Accuracy = 99.77%: 100%|██████████| 572/572 [00:04<00:00, 137.52it/s] \n",
      "[46 / 50]   Val: Loss = 0.14844, Accuracy = 96.64%: 100%|██████████| 13/13 [00:00<00:00, 157.48it/s]\n",
      "[47 / 50] Train: Loss = 0.00925, Accuracy = 99.79%: 100%|██████████| 572/572 [00:04<00:00, 136.60it/s] \n",
      "[47 / 50]   Val: Loss = 0.15197, Accuracy = 96.63%: 100%|██████████| 13/13 [00:00<00:00, 143.98it/s]\n",
      "[48 / 50] Train: Loss = 0.00880, Accuracy = 99.80%: 100%|██████████| 572/572 [00:04<00:00, 134.47it/s] \n",
      "[48 / 50]   Val: Loss = 0.15727, Accuracy = 96.59%: 100%|██████████| 13/13 [00:00<00:00, 146.97it/s]\n",
      "[49 / 50] Train: Loss = 0.00857, Accuracy = 99.81%: 100%|██████████| 572/572 [00:04<00:00, 127.14it/s] \n",
      "[49 / 50]   Val: Loss = 0.16048, Accuracy = 96.57%: 100%|██████████| 13/13 [00:00<00:00, 129.96it/s]\n",
      "[50 / 50] Train: Loss = 0.00777, Accuracy = 99.84%: 100%|██████████| 572/572 [00:04<00:00, 130.33it/s] \n",
      "[50 / 50]   Val: Loss = 0.16232, Accuracy = 96.59%: 100%|██████████| 13/13 [00:00<00:00, 159.64it/s]\n"
     ]
    }
   ],
   "source": [
    "model = LSTMTaggerWithPretrainedEmbs(\n",
    "    embeddings=embeddings,\n",
    "    tagset_size=len(tag2ind)\n",
    ").cuda()\n",
    "\n",
    "criterion = nn.CrossEntropyLoss(ignore_index=0)\n",
    "optimizer = optim.Adam(model.parameters())\n",
    "\n",
    "train_history = []\n",
    "val_history = []\n",
    "\n",
    "fit(model, criterion, optimizer, train_data=(X_train, y_train), epochs_count=50,\n",
    "    batch_size=64, val_data=(X_val, y_val), val_batch_size=512, train_hstr=train_history, val_hstr=val_history)\n"
   ]
  },
  {
   "cell_type": "markdown",
   "metadata": {
    "colab_type": "text",
    "id": "2Ne_8f24h8kg",
    "pycharm": {
     "name": "#%% md\n"
    }
   },
   "source": [
    "**Задание** Оцените качество модели на тестовой выборке. Обратите внимание, вовсе не обязательно ограничиваться векторами из урезанной матрицы - вполне могут найтись слова в тесте, которых не было в трейне и для которых есть эмбеддинги.\n",
    "\n",
    "Добейтесь качества лучше прошлых моделей."
   ]
  },
  {
   "cell_type": "code",
   "execution_count": 114,
   "outputs": [
    {
     "name": "stderr",
     "output_type": "stream",
     "text": [
      "[1 / 1] Train: Loss = 0.16288, Accuracy = 96.70%: 100%|██████████| 448/448 [00:01<00:00, 343.64it/s]\n"
     ]
    }
   ],
   "source": [
    "fit(model, criterion, None, train_data=(X_test, y_test))"
   ],
   "metadata": {
    "collapsed": false,
    "pycharm": {
     "name": "#%%\n"
    }
   }
  },
  {
   "cell_type": "code",
   "execution_count": 115,
   "outputs": [
    {
     "data": {
      "text/plain": "<Figure size 432x288 with 1 Axes>",
      "image/png": "[encoded data removed]"
     },
     "metadata": {
      "needs_background": "light"
     },
     "output_type": "display_data"
    }
   ],
   "source": [
    "plt.plot(train_history)\n",
    "plt.plot(val_history)\n",
    "plt.gca().legend(('train_hstr', 'val_hstr'))\n",
    "plt.show()\n"
   ],
   "metadata": {
    "collapsed": false,
    "pycharm": {
     "name": "#%%\n"
    }
   }
  },
  {
   "cell_type": "code",
   "execution_count": null,
   "outputs": [],
   "source": [],
   "metadata": {
    "collapsed": false,
    "pycharm": {
     "name": "#%%\n"
    }
   }
  }
 ],
 "metadata": {
  "accelerator": "GPU",
  "colab": {
   "collapsed_sections": [],
   "name": "Week 06 - RNNs, part 2.ipynb",
   "provenance": [],
   "version": "0.3.2"
  },
  "kernelspec": {
   "display_name": "Python 3",
   "language": "python",
   "name": "python3"
  },
  "language_info": {
   "codemirror_mode": {
    "name": "ipython",
    "version": 3
   },
   "file_extension": ".py",
   "mimetype": "text/x-python",
   "name": "python",
   "nbconvert_exporter": "python",
   "pygments_lexer": "ipython3",
   "version": "3.7.0"
  }
 },
 "nbformat": 4,
 "nbformat_minor": 1
}