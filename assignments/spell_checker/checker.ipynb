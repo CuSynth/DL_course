{
 "cells": [
  {
   "cell_type": "code",
   "execution_count": 1,
   "outputs": [],
   "source": [
    "import pandas as pd\n",
    "import numpy as np\n",
    "import os\n",
    "from os import listdir\n",
    "from os.path import isfile, join\n",
    "import time\n",
    "import random\n",
    "import re\n",
    "from sklearn.model_selection import train_test_split\n",
    "from tqdm.notebook import tqdm\n",
    "import matplotlib.pyplot as plt\n",
    "\n",
    "import torch\n",
    "import torch.nn as nn\n",
    "import torch.optim as optim\n",
    "from torch.utils.data import Dataset\n",
    "\n",
    "SEED = 1234\n",
    "\n",
    "random.seed(SEED)\n",
    "np.random.seed(SEED)\n",
    "torch.manual_seed(SEED)\n",
    "torch.cuda.manual_seed(SEED)\n",
    "# torch.backends.cudnn.deterministic = True"
   ],
   "metadata": {
    "collapsed": false,
    "pycharm": {
     "name": "#%%\n"
    }
   }
  },
  {
   "cell_type": "code",
   "execution_count": 2,
   "outputs": [
    {
     "name": "stdout",
     "output_type": "stream",
     "text": [
      "Cuda is here\n",
      "True\n"
     ]
    }
   ],
   "source": [
    "if torch.cuda.is_available():\n",
    "    device = torch.device('cuda:0')\n",
    "    print('Cuda is here')\n",
    "else:\n",
    "    device = torch.device('cpu')\n",
    "print(torch.cuda.is_available())\n"
   ],
   "metadata": {
    "collapsed": false,
    "pycharm": {
     "name": "#%%\n"
    }
   }
  },
  {
   "cell_type": "markdown",
   "source": [
    "## Loading the Data"
   ],
   "metadata": {
    "collapsed": false,
    "pycharm": {
     "name": "#%% md\n"
    }
   }
  },
  {
   "cell_type": "code",
   "execution_count": 3,
   "outputs": [],
   "source": [
    "def book_loader(path):\n",
    "    \"\"\"Load a book from its file\"\"\"\n",
    "    input_file = os.path.join(path)\n",
    "    with open(input_file) as f:\n",
    "        book = f.read()\n",
    "    return book"
   ],
   "metadata": {
    "collapsed": false,
    "pycharm": {
     "name": "#%%\n"
    }
   }
  },
  {
   "cell_type": "code",
   "execution_count": 4,
   "outputs": [
    {
     "name": "stdout",
     "output_type": "stream",
     "text": [
      "There are 20 books: \n",
      "Alices_Adventures_in_Wonderland_by_Lewis_Carroll.rtf\n",
      "Anna_Karenina_by_Leo_Tolstoy.rtf\n",
      "David_Copperfield_by_Charles_Dickens.rtf\n",
      "Don_Quixote_by_Miguel_de_Cervantes.rtf\n",
      "Dracula_by_Bram_Stoker.rtf\n",
      "Emma_by_Jane_Austen.rtf\n",
      "Frankenstein_by_Mary_Shelley.rtf\n",
      "Great_Expectations_by_Charles_Dickens.rtf\n",
      "Grimms_Fairy_Tales_by_The_Brothers_Grimm.rtf\n",
      "Metamorphosis_by_Franz_Kafka.rtf\n",
      "Oliver_Twist_by_Charles_Dickens.rtf\n",
      "Pride_and_Prejudice_by_Jane_Austen.rtf\n",
      "The_Adventures_of_Sherlock_Holmes_by_Arthur_Conan_Doyle.rtf\n",
      "The_Adventures_of_Tom_Sawyer_by_Mark_Twain.rtf\n",
      "The_Count_of_Monte_Cristo_by_Alexandre_Dumas.rtf\n",
      "The_Picture_of_Dorian_Gray_by_Oscar_Wilde.rtf\n",
      "The_Prince_by_Nicolo_Machiavelli.rtf\n",
      "The_Romance_of_Lust_by_Anonymous.rtf\n",
      "The_Yellow_Wallpaper_by_Charlotte_Perkins_Gilman.rtf\n",
      "Through_the_Looking_Glass_by_Lewis_Carroll.rtf\n"
     ]
    }
   ],
   "source": [
    "path = './books/'\n",
    "book_files = [f for f in listdir(path) if isfile(join(path, f))]\n",
    "\n",
    "print('There are {} books: '.format(len(book_files)))\n",
    "for elem in book_files:\n",
    "    print(elem)"
   ],
   "metadata": {
    "collapsed": false,
    "pycharm": {
     "name": "#%%\n"
    }
   }
  },
  {
   "cell_type": "code",
   "execution_count": 5,
   "outputs": [],
   "source": [
    "books = []\n",
    "for book in book_files:\n",
    "    books.append(book_loader(path+book))"
   ],
   "metadata": {
    "collapsed": false,
    "pycharm": {
     "name": "#%%\n"
    }
   }
  },
  {
   "cell_type": "code",
   "execution_count": 6,
   "outputs": [
    {
     "name": "stdout",
     "output_type": "stream",
     "text": [
      "There are 9463 words in The_Yellow_Wallpaper_by_Charlotte_Perkins_Gilman.rtf.\n",
      "There are 25395 words in Metamorphosis_by_Franz_Kafka.rtf.\n",
      "There are 30423 words in Alices_Adventures_in_Wonderland_by_Lewis_Carroll.rtf.\n",
      "There are 33464 words in Through_the_Looking_Glass_by_Lewis_Carroll.rtf.\n",
      "There are 53211 words in The_Prince_by_Nicolo_Machiavelli.rtf.\n",
      "There are 78912 words in Frankenstein_by_Mary_Shelley.rtf.\n",
      "There are 83657 words in The_Picture_of_Dorian_Gray_by_Oscar_Wilde.rtf.\n",
      "There are 96185 words in The_Adventures_of_Tom_Sawyer_by_Mark_Twain.rtf.\n",
      "There are 105428 words in Grimms_Fairy_Tales_by_The_Brothers_Grimm.rtf.\n",
      "There are 110213 words in The_Adventures_of_Sherlock_Holmes_by_Arthur_Conan_Doyle.rtf.\n",
      "There are 113452 words in David_Copperfield_by_Charles_Dickens.rtf.\n",
      "There are 126999 words in Pride_and_Prejudice_by_Jane_Austen.rtf.\n",
      "There are 163109 words in Emma_by_Jane_Austen.rtf.\n",
      "There are 165188 words in Oliver_Twist_by_Charles_Dickens.rtf.\n",
      "There are 166996 words in Dracula_by_Bram_Stoker.rtf.\n",
      "There are 191598 words in Great_Expectations_by_Charles_Dickens.rtf.\n",
      "There are 194282 words in The_Romance_of_Lust_by_Anonymous.rtf.\n",
      "There are 361612 words in Anna_Karenina_by_Leo_Tolstoy.rtf.\n",
      "There are 433993 words in Don_Quixote_by_Miguel_de_Cervantes.rtf.\n",
      "There are 480495 words in The_Count_of_Monte_Cristo_by_Alexandre_Dumas.rtf.\n"
     ]
    }
   ],
   "source": [
    "lens = [(len(books[i].split()), book_files[i]) for i in range(len(books))]\n",
    "lens.sort()\n",
    "for elem in lens:\n",
    "    print(\"There are {} words in {}.\".format(elem[0], elem[1]))"
   ],
   "metadata": {
    "collapsed": false,
    "pycharm": {
     "name": "#%%\n"
    }
   }
  },
  {
   "cell_type": "markdown",
   "source": [
    "### Let's check for text existence."
   ],
   "metadata": {
    "collapsed": false,
    "pycharm": {
     "name": "#%% md\n"
    }
   }
  },
  {
   "cell_type": "code",
   "execution_count": 7,
   "outputs": [
    {
     "data": {
      "text/plain": "\"{\\\\rtf1\\\\ansi\\\\ansicpg1252\\\\cocoartf1404\\\\cocoasubrtf470\\n{\\\\fonttbl\\\\f0\\\\fmodern\\\\fcharset0 Courier;}\\n{\\\\colortbl;\\\\red255\\\\green255\\\\blue255;\\\\red0\\\\green0\\\\blue0;}\\n\\\\margl1440\\\\margr1440\\\\vieww10800\\\\viewh8400\\\\viewkind0\\n\\\\deftab720\\n\\\\pard\\\\pardeftab720\\\\sl280\\\\partightenfactor0\\n\\n\\\\f0\\\\fs24 \\\\cf2 \\\\expnd0\\\\expndtw0\\\\kerning0\\n\\\\outl0\\\\strokewidth0 \\\\strokec2 Project Gutenberg\\\\'92s Alice\\\\'92s Adventures in Wonderland, by Lewis Carroll\\\\\\n\\\\\\nThis eBook is for the use of anyone anywhere at no cost and with\\\\\\nalmost no restrictions what\""
     },
     "execution_count": 7,
     "metadata": {},
     "output_type": "execute_result"
    }
   ],
   "source": [
    "books[0][:500]"
   ],
   "metadata": {
    "collapsed": false,
    "pycharm": {
     "name": "#%%\n"
    }
   }
  },
  {
   "cell_type": "markdown",
   "source": [
    "### There are a lot of trash in *.rtf."
   ],
   "metadata": {
    "collapsed": false,
    "pycharm": {
     "name": "#%% md\n"
    }
   }
  },
  {
   "cell_type": "code",
   "execution_count": 8,
   "outputs": [],
   "source": [
    "def clean_text(text):\n",
    "    '''Remove unwanted characters and extra spaces from the text'''\n",
    "    text = text[326:-1] # Header removing.\n",
    "    # text = re.sub('www.gutenberg.(net|org)', '.', text)\n",
    "    # text = re.sub(' www.gutenberg.org', '.', text)\n",
    "    text = re.sub('www.gutenberg.(net|org)(\\/license)*(\\.)*', 'our website.', text)\n",
    "    text = re.sub(r'\\n', ' ', text)\n",
    "    text = re.sub(r'[{}@_*>()\\\\#%+=\\[\\]]', '', text)\n",
    "    text = re.sub('a0', '', text)\n",
    "    text = re.sub('\\'92t', '\\'t', text)\n",
    "    text = re.sub('\\'92s', '\\'s', text)\n",
    "    text = re.sub('\\'92m', '\\'m', text)\n",
    "    text = re.sub('\\'92ll', '\\'ll', text)\n",
    "    text = re.sub('\\'91', '', text)\n",
    "    text = re.sub('\\'92', '', text)\n",
    "    text = re.sub('\\'93', '', text)\n",
    "    text = re.sub('\\'94', '', text)\n",
    "    text = re.sub('\\.', '. ', text)\n",
    "    text = re.sub('\\!', '! ', text)\n",
    "    text = re.sub('\\?', '? ', text)\n",
    "    text = re.sub(' +', ' ', text)\n",
    "    text = re.sub('\"', ' ', text)\n",
    "    return text"
   ],
   "metadata": {
    "collapsed": false,
    "pycharm": {
     "name": "#%%\n"
    }
   }
  },
  {
   "cell_type": "code",
   "execution_count": 9,
   "outputs": [],
   "source": [
    "clean_books = []\n",
    "for book in books:\n",
    "    clean_books.append(clean_text(book))\n",
    "# clean_books.append(clean_text(books[0]))"
   ],
   "metadata": {
    "collapsed": false,
    "pycharm": {
     "name": "#%%\n"
    }
   }
  },
  {
   "cell_type": "markdown",
   "source": [
    "### Let's check."
   ],
   "metadata": {
    "collapsed": false,
    "pycharm": {
     "name": "#%% md\n"
    }
   }
  },
  {
   "cell_type": "code",
   "execution_count": 10,
   "outputs": [
    {
     "data": {
      "text/plain": "' The Project Gutenberg EBook of Don Quixote, by Miguel de Cervantes This eBook is for the use of anyone anywhere at no cost and with almost no restrictions whatsoever. You may copy it, give it away or re-use it under the terms of the Project Gutenberg License included with this eBook or online at our website. Title: Don Quixote Author: Miguel de Cervantes Saavedra Release Date: July 27, 2004 EBook 996 Last Updated: March 4,2015 Language: English START OF THIS PROJECT GUTENBERG EBOOK DON QUIXOTE '"
     },
     "execution_count": 10,
     "metadata": {},
     "output_type": "execute_result"
    }
   ],
   "source": [
    "clean_books[3][:500]"
   ],
   "metadata": {
    "collapsed": false,
    "pycharm": {
     "name": "#%%\n"
    }
   }
  },
  {
   "cell_type": "markdown",
   "source": [
    "### We'll need a dictionary to convert character <---> integers"
   ],
   "metadata": {
    "collapsed": false,
    "pycharm": {
     "name": "#%% md\n"
    }
   }
  },
  {
   "cell_type": "code",
   "execution_count": 11,
   "outputs": [],
   "source": [
    "vocab_to_int = {}\n",
    "count = 0\n",
    "for book in clean_books:\n",
    "    for character in book:\n",
    "        if character not in vocab_to_int:\n",
    "            vocab_to_int[character] = count\n",
    "            count += 1\n",
    "\n",
    "tokens = ['<PAD>', '<EOS>', '<SOS>']\n",
    "for token in tokens:\n",
    "    vocab_to_int[token] = count\n",
    "    count += 1\n",
    "\n",
    "int_to_vocab = {}\n",
    "for character, value in vocab_to_int.items():\n",
    "    int_to_vocab[value] = character"
   ],
   "metadata": {
    "collapsed": false,
    "pycharm": {
     "name": "#%%\n"
    }
   }
  },
  {
   "cell_type": "code",
   "execution_count": 12,
   "outputs": [
    {
     "name": "stdout",
     "output_type": "stream",
     "text": [
      "The vocabulary contains 77 characters.\n",
      "[' ', '!', '$', '&', \"'\", ',', '-', '.', '/', '0', '1', '2', '3', '4', '5', '6', '7', '8', '9', ':', ';', '<EOS>', '<PAD>', '<SOS>', '?', 'A', 'B', 'C', 'D', 'E', 'F', 'G', 'H', 'I', 'J', 'K', 'L', 'M', 'N', 'O', 'P', 'Q', 'R', 'S', 'T', 'U', 'V', 'W', 'X', 'Y', 'Z', 'a', 'b', 'c', 'd', 'e', 'f', 'g', 'h', 'i', 'j', 'k', 'l', 'm', 'n', 'o', 'p', 'q', 'r', 's', 't', 'u', 'v', 'w', 'x', 'y', 'z']\n"
     ]
    }
   ],
   "source": [
    "vocab_size = len(vocab_to_int)\n",
    "print(\"The vocabulary contains {} characters.\".format(vocab_size))\n",
    "print(sorted(vocab_to_int))"
   ],
   "metadata": {
    "collapsed": false,
    "pycharm": {
     "name": "#%%\n"
    }
   }
  },
  {
   "cell_type": "markdown",
   "source": [
    "### Now let's split text into sentences"
   ],
   "metadata": {
    "collapsed": false,
    "pycharm": {
     "name": "#%% md\n"
    }
   }
  },
  {
   "cell_type": "code",
   "execution_count": 13,
   "outputs": [
    {
     "name": "stdout",
     "output_type": "stream",
     "text": [
      "There are 161985 sentences.\n"
     ]
    }
   ],
   "source": [
    "sentences = []\n",
    "splited = []\n",
    "\n",
    "for book in clean_books:\n",
    "    raw_splited = book.split('. ')\n",
    "    for sent in raw_splited:\n",
    "        for first_splited in sent.split('! '):\n",
    "            for second_splited in first_splited.split('? '):\n",
    "                splited.append(second_splited+'.')   # So, model won't know about '!' and '?'. Bad..\n",
    "\n",
    "# for book in clean_books:\n",
    "#     for sentence in book.split('. '):\n",
    "#     # for sentence in re.split('. |! |\\? ', book):\n",
    "#         sentences.append(sentence + '.')\n",
    "sentences = splited\n",
    "print(\"There are {} sentences.\".format(len(sentences)))"
   ],
   "metadata": {
    "collapsed": false,
    "pycharm": {
     "name": "#%%\n"
    }
   }
  },
  {
   "cell_type": "code",
   "execution_count": 14,
   "outputs": [
    {
     "data": {
      "text/plain": "['In another moment down went Alice after it, never once considering how in the world she was to get out again.',\n 'The rabbit-hole went straight on like a tunnel for some way, and then dipped suddenly down, so suddenly that Alice had not a moment to think about stopping herself before she found herself falling down a very deep well.',\n 'Either the well was very deep, or she fell very slowly, for she had plenty of time as she went down to look about her and to wonder what was going to happen next.',\n 'First, she tried to look down and make out what she was coming to, but it was too dark to see anything; then she looked at the sides of the well, and noticed that they were filled with cupboards and book-shelves; here and there she saw maps and pictures hung upon pegs.',\n 'She took down a jar from one of the shelves as she passed; it was labelled ORANGE MARMALADE, but to her great disappointment it was empty: she did not like to drop the jar for fear of killing somebody, so managed to put it into one of the cupboards as she fell past it.']"
     },
     "execution_count": 14,
     "metadata": {},
     "output_type": "execute_result"
    }
   ],
   "source": [
    "sentences[10:15]"
   ],
   "metadata": {
    "collapsed": false,
    "pycharm": {
     "name": "#%%\n"
    }
   }
  },
  {
   "cell_type": "code",
   "execution_count": 15,
   "outputs": [],
   "source": [
    "int_sentences = []\n",
    "\n",
    "for sentence in sentences:\n",
    "    int_sentence = [vocab_to_int[character] for character in sentence]\n",
    "    int_sentences.append(int_sentence)"
   ],
   "metadata": {
    "collapsed": false,
    "pycharm": {
     "name": "#%%\n"
    }
   }
  },
  {
   "cell_type": "code",
   "execution_count": 16,
   "outputs": [],
   "source": [
    "# int_sentences[10:15]"
   ],
   "metadata": {
    "collapsed": false,
    "pycharm": {
     "name": "#%%\n"
    }
   }
  },
  {
   "cell_type": "code",
   "execution_count": 17,
   "outputs": [],
   "source": [
    "lengths = []\n",
    "for sentence in int_sentences:\n",
    "    lengths.append(len(sentence))\n",
    "lengths = pd.DataFrame(lengths, columns=[\"counts\"])"
   ],
   "metadata": {
    "collapsed": false,
    "pycharm": {
     "name": "#%%\n"
    }
   }
  },
  {
   "cell_type": "code",
   "execution_count": 18,
   "outputs": [
    {
     "data": {
      "text/plain": "              counts\ncount  161985.000000\nmean       99.069222\nstd       103.371173\nmin         1.000000\n25%        31.000000\n50%        70.000000\n75%       135.000000\nmax      8906.000000",
      "text/html": "<div>\n<style scoped>\n    .dataframe tbody tr th:only-of-type {\n        vertical-align: middle;\n    }\n\n    .dataframe tbody tr th {\n        vertical-align: top;\n    }\n\n    .dataframe thead th {\n        text-align: right;\n    }\n</style>\n<table border=\"1\" class=\"dataframe\">\n  <thead>\n    <tr style=\"text-align: right;\">\n      <th></th>\n      <th>counts</th>\n    </tr>\n  </thead>\n  <tbody>\n    <tr>\n      <th>count</th>\n      <td>161985.000000</td>\n    </tr>\n    <tr>\n      <th>mean</th>\n      <td>99.069222</td>\n    </tr>\n    <tr>\n      <th>std</th>\n      <td>103.371173</td>\n    </tr>\n    <tr>\n      <th>min</th>\n      <td>1.000000</td>\n    </tr>\n    <tr>\n      <th>25%</th>\n      <td>31.000000</td>\n    </tr>\n    <tr>\n      <th>50%</th>\n      <td>70.000000</td>\n    </tr>\n    <tr>\n      <th>75%</th>\n      <td>135.000000</td>\n    </tr>\n    <tr>\n      <th>max</th>\n      <td>8906.000000</td>\n    </tr>\n  </tbody>\n</table>\n</div>"
     },
     "execution_count": 18,
     "metadata": {},
     "output_type": "execute_result"
    }
   ],
   "source": [
    "lengths.describe()"
   ],
   "metadata": {
    "collapsed": false,
    "pycharm": {
     "name": "#%%\n"
    }
   }
  },
  {
   "cell_type": "code",
   "execution_count": 19,
   "outputs": [
    {
     "name": "stdout",
     "output_type": "stream",
     "text": [
      "We will use 90733 sentences. \n"
     ]
    }
   ],
   "source": [
    "max_length = 100\n",
    "min_length = 10\n",
    "\n",
    "good_sentences = []\n",
    "\n",
    "for sentence in int_sentences:\n",
    "    if max_length >= len(sentence) >= min_length:\n",
    "        good_sentences.append(sentence)\n",
    "\n",
    "print(\"We will use {} sentences. \".format(len(good_sentences)))"
   ],
   "metadata": {
    "collapsed": false,
    "pycharm": {
     "name": "#%%\n"
    }
   }
  },
  {
   "cell_type": "code",
   "execution_count": 20,
   "outputs": [
    {
     "name": "stdout",
     "output_type": "stream",
     "text": [
      "Number of training sentences: 65327\n",
      "Number of testing sentences: 9074\n",
      "Number of validation sentences: 16332\n"
     ]
    }
   ],
   "source": [
    "# good_sentences = good_sentences[:10000]\n",
    "train_data, test_data = train_test_split(good_sentences, test_size = 0.1, random_state = SEED)\n",
    "train_data, val_data = train_test_split(train_data, test_size = 0.2, random_state = SEED)\n",
    "\n",
    "print(\"Number of training sentences:\", len(train_data))\n",
    "print(\"Number of testing sentences:\", len(test_data))\n",
    "print(\"Number of validation sentences:\", len(val_data))"
   ],
   "metadata": {
    "collapsed": false,
    "pycharm": {
     "name": "#%%\n"
    }
   }
  },
  {
   "cell_type": "code",
   "execution_count": 21,
   "outputs": [
    {
     "name": "stdout",
     "output_type": "stream",
     "text": [
      "   Yes, there's something of a sophistry about that,  Veslovsky agreed.\n",
      "I think you hailed me, Mademoiselle Julie.\n",
      "no, I could not endure William Coxe--a pert young lawyer.\n",
      "Weston, and had half a mind to take it up; but she struggled, and let it pass.\n",
      "Only it's no good your talking to her.\n"
     ]
    }
   ],
   "source": [
    "for i in range(105, 110):\n",
    "    sentence = ''\n",
    "    for j in train_data[i]:\n",
    "        sentence+=int_to_vocab[j]\n",
    "    # sentence = [int_to_vocab[j] for j in training_sorted[i]]\n",
    "    print(str(sentence))\n"
   ],
   "metadata": {
    "collapsed": false,
    "pycharm": {
     "name": "#%%\n"
    }
   }
  },
  {
   "cell_type": "code",
   "execution_count": 22,
   "outputs": [],
   "source": [
    "alphabet = [chr(i) for i in range(97, 123)]\n",
    "# print(alphabet)\n",
    "\n",
    "def noise_maker(sentence, threshold):\n",
    "    '''Relocate, remove, or add characters to create spelling mistakes'''\n",
    "\n",
    "    noisy_sentence = []\n",
    "    i = 0\n",
    "    while i < len(sentence):\n",
    "        random = np.random.uniform()\n",
    "        if random < threshold:\n",
    "            noisy_sentence.append(sentence[i])\n",
    "        else:\n",
    "            random = np.random.uniform()\n",
    "            # 25% chance to swap locations\n",
    "            if random >= 0.75:\n",
    "                if i == (len(sentence) - 1):\n",
    "                    # Last character will not be typed\n",
    "                    continue\n",
    "                else:\n",
    "                    noisy_sentence.append(sentence[i+1])\n",
    "                    noisy_sentence.append(sentence[i])\n",
    "                    i += 1\n",
    "            # 25% chance to add an extra lower case letter\n",
    "            elif random > 0.5:\n",
    "                random_letter = np.random.choice(alphabet, 1)[0]\n",
    "                noisy_sentence.append(vocab_to_int[random_letter])\n",
    "                noisy_sentence.append(sentence[i])\n",
    "            # 25% chance of typos\n",
    "            elif random >= 0.25:\n",
    "                random_letter = np.random.choice(alphabet, 1)[0]\n",
    "                noisy_sentence.append(vocab_to_int[random_letter])\n",
    "            else:\n",
    "                pass\n",
    "        i += 1\n",
    "    return noisy_sentence"
   ],
   "metadata": {
    "collapsed": false,
    "pycharm": {
     "name": "#%%\n"
    }
   }
  },
  {
   "cell_type": "code",
   "execution_count": 23,
   "outputs": [
    {
     "name": "stdout",
     "output_type": "stream",
     "text": [
      "and it's high time I did, and go to the devil with you.\n",
      "and it'sh igh time I didt, and o to thme devil with oy.u\n",
      "\n",
      "I will give him the good one, said he; I am sure he deserves it.\n",
      "I will gve him the goyodj one, yaid hI  a msurle hhe destrves it.\n",
      "\n",
      "We were longer this bout, and enjoyed it more.\n",
      "W weer longerj this bouto,a nd denjoyed it morae.\n",
      "\n",
      "' 'If that ain't mine.\n",
      "' 'If that ian'ht mine.\n",
      "\n",
      "No, father, stammered Villefort; at least, I hope not.\n",
      "No, fathue,r stammeree Villefort qgt leastm, I hope not.\n",
      "\n"
     ]
    }
   ],
   "source": [
    "\n",
    "threshold = 0.9\n",
    "for i in range(6100, 6105):\n",
    "    sentence = ''\n",
    "    noizy_sentence = ''\n",
    "    for j in train_data[i]:\n",
    "        sentence+=int_to_vocab[j]\n",
    "    for j in noise_maker(train_data[i], threshold):\n",
    "        noizy_sentence+=int_to_vocab[j]\n",
    "\n",
    "    print(sentence)\n",
    "    print(noizy_sentence)\n",
    "    print()"
   ],
   "metadata": {
    "collapsed": false,
    "pycharm": {
     "name": "#%%\n"
    }
   }
  },
  {
   "cell_type": "markdown",
   "source": [
    "## Building the Model"
   ],
   "metadata": {
    "collapsed": false,
    "pycharm": {
     "name": "#%% md\n"
    }
   }
  },
  {
   "cell_type": "code",
   "execution_count": 24,
   "outputs": [],
   "source": [
    "def pad_sentences(sentences):\n",
    "    \"\"\" Pad sentences with <PAD> \"\"\"\n",
    "    max_sentence = max([len(sentence) for sentence in sentences])\n",
    "    return [sentence + [vocab_to_int['<PAD>']] * (max_sentence - len(sentence)) for sentence in sentences]"
   ],
   "metadata": {
    "collapsed": false,
    "pycharm": {
     "name": "#%%\n"
    }
   }
  },
  {
   "cell_type": "code",
   "execution_count": 25,
   "outputs": [],
   "source": [
    "class Generator(Dataset):\n",
    "    def __init__(self, data):\n",
    "        self.data = data\n",
    "        self.pad_sentences_noisy = np.array([])\n",
    "        self.pad_sentences = np.array([])\n",
    "\n",
    "    def generate_dataset(self):\n",
    "        noisy_sentences = []\n",
    "        for sentence in self.data:\n",
    "            noisy_sent = [vocab_to_int['<SOS>']]\n",
    "            noisy_sent+=noise_maker(sentence, threshold)\n",
    "            noisy_sentences.append(noisy_sent)\n",
    "\n",
    "\n",
    "        eos_sentences = []\n",
    "        for sentence in self.data:\n",
    "            eos_sentence = [vocab_to_int['<SOS>']]\n",
    "            eos_sentence+=sentence\n",
    "            eos_sentence.append(vocab_to_int['<EOS>'])\n",
    "            eos_sentences.append(eos_sentence)\n",
    "\n",
    "        self.pad_sentences = np.array(pad_sentences(eos_sentences))\n",
    "        self.pad_sentences_noisy = np.array(pad_sentences(noisy_sentences))\n",
    "\n",
    "        # So source is like '<SOS>Xyz<PAD><PAD><PAD>'\n",
    "        # And target is like '<SOS>Xyz<EOS><PAD><PAD><PAD><PAD><PAD>'\n",
    "        # Lengths could be different\n",
    "\n",
    "    def __len__(self):\n",
    "        return len(self.data)\n",
    "\n",
    "    def __getitem__(self, index):\n",
    "        return torch.tensor(self.pad_sentences_noisy[index]), \\\n",
    "               torch.tensor(self.pad_sentences[index])"
   ],
   "metadata": {
    "collapsed": false,
    "pycharm": {
     "name": "#%%\n"
    }
   }
  },
  {
   "cell_type": "code",
   "execution_count": 26,
   "outputs": [],
   "source": [
    "class Encoder(nn.Module):\n",
    "    def __init__(self, input_dim, emb_dim, hid_dim, n_layers, dropout):\n",
    "        super().__init__()\n",
    "\n",
    "        self.hid_dim = hid_dim\n",
    "        self.n_layers = n_layers\n",
    "\n",
    "        self.embedding = nn.Embedding(input_dim, emb_dim)\n",
    "        self.rnn = nn.LSTM(emb_dim, hid_dim, n_layers, dropout = dropout)\n",
    "        self.dropout = nn.Dropout(dropout)\n",
    "\n",
    "    def forward(self, src):\n",
    "        # src = [src len, batch size]\n",
    "\n",
    "        embedded = self.dropout(self.embedding(src))\n",
    "        # embedded = [src len, batch size, emb dim]\n",
    "\n",
    "        outputs, (hidden, cell) = self.rnn(embedded)\n",
    "        # outputs = [src len, batch size, hid dim * n directions]\n",
    "        # hidden = [n layers * n directions, batch size, hid dim]\n",
    "        # cell = [n layers * n directions, batch size, hid dim]\n",
    "\n",
    "        return hidden, cell"
   ],
   "metadata": {
    "collapsed": false,
    "pycharm": {
     "name": "#%%\n"
    }
   }
  },
  {
   "cell_type": "code",
   "execution_count": 27,
   "outputs": [],
   "source": [
    "class Decoder(nn.Module):   # Is for one step => seq len == 1\n",
    "    def __init__(self, output_dim, emb_dim, hid_dim, n_layers, dropout):\n",
    "        super().__init__()\n",
    "\n",
    "        self.output_dim = output_dim\n",
    "        self.hid_dim = hid_dim\n",
    "        self.n_layers = n_layers\n",
    "\n",
    "        self.embedding = nn.Embedding(output_dim, emb_dim)\n",
    "        self.rnn = nn.LSTM(emb_dim, hid_dim, n_layers, dropout = dropout)\n",
    "        self.fc_out = nn.Linear(hid_dim, output_dim)\n",
    "        self.dropout = nn.Dropout(dropout)\n",
    "\n",
    "    def forward(self, input, hidden, cell):\n",
    "        # input = [batch size]\n",
    "        # n directions == 1\n",
    "        # hidden = [n layers * n directions, batch size, hid dim]\n",
    "        # cell = [n layers * n directions, batch size, hid dim]\n",
    "\n",
    "        input = input.unsqueeze(0)\n",
    "        # input = [1, batch size]\n",
    "\n",
    "        embedded = self.dropout(self.embedding(input))\n",
    "        # embedded = [1, batch size, emb dim]\n",
    "\n",
    "        output, (hidden, cell) = self.rnn(embedded, (hidden, cell))\n",
    "        prediction = self.fc_out(output.squeeze(0))\n",
    "        # output = [seq len, batch size, hid dim * n directions]\n",
    "        # hidden = [n layers * n directions, batch size, hid dim]\n",
    "        # cell = [n layers * n directions, batch size, hid dim]\n",
    "        # prediction = [batch size, output dim]\n",
    "\n",
    "        return prediction, hidden, cell"
   ],
   "metadata": {
    "collapsed": false,
    "pycharm": {
     "name": "#%%\n"
    }
   }
  },
  {
   "cell_type": "code",
   "execution_count": 28,
   "outputs": [],
   "source": [
    "class Seq2Seq(nn.Module):\n",
    "    def __init__(self, encoder, decoder, device):\n",
    "        super().__init__()\n",
    "\n",
    "        self.encoder = encoder\n",
    "        self.decoder = decoder\n",
    "        self.device = device\n",
    "\n",
    "        assert encoder.hid_dim == decoder.hid_dim, \\\n",
    "            \"Hidden dimensions of encoder and decoder must be equal!\"\n",
    "        assert encoder.n_layers == decoder.n_layers, \\\n",
    "            \"Encoder and decoder must have equal number of layers!\"\n",
    "\n",
    "    def forward(self, src, trg, teacher_forcing_ratio = 0.5):\n",
    "        # src = [src len, batch size]\n",
    "        # trg = [trg len, batch size]\n",
    "        # teacher_forcing_ratio is probability to use teacher forcing\n",
    "\n",
    "        batch_size = trg.shape[1]\n",
    "        trg_len = trg.shape[0]\n",
    "        trg_vocab_size = self.decoder.output_dim\n",
    "\n",
    "        hidden, cell = self.encoder(src)\n",
    "\n",
    "        # decoder outputs\n",
    "        outputs = torch.zeros(trg_len, batch_size, trg_vocab_size).to(self.device)\n",
    "\n",
    "        # first decoder input is <sos>\n",
    "        input = trg[0,:]\n",
    "\n",
    "        for t in range(1, trg_len):\n",
    "            output, hidden, cell = self.decoder(input, hidden, cell)\n",
    "            outputs[t] = output\n",
    "\n",
    "            # decide if we are going to use teacher forcing or not\n",
    "            teacher_force = random.random() < teacher_forcing_ratio\n",
    "            top1 = output.argmax(1)\n",
    "            input = trg[t] if teacher_force else top1\n",
    "\n",
    "        return outputs"
   ],
   "metadata": {
    "collapsed": false,
    "pycharm": {
     "name": "#%%\n"
    }
   }
  },
  {
   "cell_type": "code",
   "execution_count": 29,
   "outputs": [],
   "source": [
    "INPUT_DIM = vocab_size\n",
    "OUTPUT_DIM = vocab_size\n",
    "ENC_EMB_DIM = 256\n",
    "DEC_EMB_DIM = 256\n",
    "HID_DIM = 512\n",
    "N_LAYERS = 2\n",
    "ENC_DROPOUT = 0.5\n",
    "DEC_DROPOUT = 0.5\n",
    "\n",
    "\n",
    "# learning_rate = 0.0005\n",
    "# direction = 2\n",
    "# threshold = 0.95\n",
    "# embedding_size = 128\n",
    "# batch_size = 128\n",
    "\n",
    "\n",
    "enc = Encoder(INPUT_DIM, ENC_EMB_DIM, HID_DIM, N_LAYERS, ENC_DROPOUT)\n",
    "dec = Decoder(OUTPUT_DIM, DEC_EMB_DIM, HID_DIM, N_LAYERS, DEC_DROPOUT)\n",
    "\n",
    "model = Seq2Seq(enc, dec, device).to(device)"
   ],
   "metadata": {
    "collapsed": false,
    "pycharm": {
     "name": "#%%\n"
    }
   }
  },
  {
   "cell_type": "code",
   "execution_count": 30,
   "outputs": [
    {
     "data": {
      "text/plain": "Seq2Seq(\n  (encoder): Encoder(\n    (embedding): Embedding(77, 256)\n    (rnn): LSTM(256, 512, num_layers=2, dropout=0.5)\n    (dropout): Dropout(p=0.5, inplace=False)\n  )\n  (decoder): Decoder(\n    (embedding): Embedding(77, 256)\n    (rnn): LSTM(256, 512, num_layers=2, dropout=0.5)\n    (fc_out): Linear(in_features=512, out_features=77, bias=True)\n    (dropout): Dropout(p=0.5, inplace=False)\n  )\n)"
     },
     "execution_count": 30,
     "metadata": {},
     "output_type": "execute_result"
    }
   ],
   "source": [
    "def init_weights(m):\n",
    "    for name, param in m.named_parameters():\n",
    "        nn.init.uniform_(param.data, -0.08, 0.08)\n",
    "\n",
    "model.apply(init_weights)"
   ],
   "metadata": {
    "collapsed": false,
    "pycharm": {
     "name": "#%%\n"
    }
   }
  },
  {
   "cell_type": "code",
   "execution_count": 31,
   "outputs": [
    {
     "name": "stdout",
     "output_type": "stream",
     "text": [
      "The model has 7,435,341 trainable parameters\n"
     ]
    }
   ],
   "source": [
    "def count_parameters(model):\n",
    "    return sum(p.numel() for p in model.parameters() if p.requires_grad)\n",
    "\n",
    "print(f'The model has {count_parameters(model):,} trainable parameters')"
   ],
   "metadata": {
    "collapsed": false,
    "pycharm": {
     "name": "#%%\n"
    }
   }
  },
  {
   "cell_type": "code",
   "execution_count": 32,
   "outputs": [],
   "source": [
    "def train(model, iterator, optimizer, criterion, clip):\n",
    "    model.train()\n",
    "\n",
    "    loss_hstr = []\n",
    "    acc_hstr = []\n",
    "\n",
    "    for i, (src, trg) in enumerate(tqdm(iterator)):\n",
    "        optimizer.zero_grad()\n",
    "\n",
    "        src = src.clone().detach().to(device).transpose(0,1)\n",
    "        trg = trg.clone().detach().to(device).transpose(0,1)\n",
    "\n",
    "        output = model(src, trg)\n",
    "\n",
    "        _, idx = torch.max(output, -1)\n",
    "        correct = torch.sum(trg == idx)\n",
    "        acc = correct/(idx.shape[0]*idx.shape[1])\n",
    "        acc_hstr.append(acc.cpu())\n",
    "\n",
    "        output_dim = output.shape[-1]\n",
    "        output = output[1:].view(-1, output_dim)\n",
    "        trg = trg[1:].reshape(-1)\n",
    "        loss = criterion(output, trg)\n",
    "        loss.backward()\n",
    "        loss_hstr.append(loss.item())\n",
    "\n",
    "        torch.nn.utils.clip_grad_norm_(model.parameters(), clip)\n",
    "        optimizer.step()\n",
    "\n",
    "\n",
    "\n",
    "    return loss_hstr, acc_hstr"
   ],
   "metadata": {
    "collapsed": false,
    "pycharm": {
     "name": "#%%\n"
    }
   }
  },
  {
   "cell_type": "code",
   "execution_count": 33,
   "outputs": [],
   "source": [
    "def evaluate(model, iterator, criterion):\n",
    "\n",
    "    model.eval()\n",
    "\n",
    "    loss_hstr = []\n",
    "    acc_hstr = []\n",
    "\n",
    "    with torch.no_grad():\n",
    "\n",
    "        for i, (src, trg) in enumerate(iterator):\n",
    "            src = src.clone().detach().to(device).transpose(0,1)\n",
    "            trg = trg.clone().detach().to(device).transpose(0,1)\n",
    "\n",
    "            output = model(src, trg, 0) #turn off teacher forcing\n",
    "\n",
    "            _, idx = torch.max(output, -1)\n",
    "            correct = torch.sum(trg == idx)\n",
    "            acc = correct/(idx.shape[0]*idx.shape[1])\n",
    "            acc_hstr.append(acc.cpu())\n",
    "\n",
    "            output_dim = output.shape[-1]\n",
    "            output = output[1:].view(-1, output_dim)\n",
    "            trg = trg[1:].reshape(-1)\n",
    "            loss = criterion(output, trg)\n",
    "\n",
    "            loss_hstr.append(loss.item())\n",
    "\n",
    "    return loss_hstr, acc_hstr"
   ],
   "metadata": {
    "collapsed": false,
    "pycharm": {
     "name": "#%%\n"
    }
   }
  },
  {
   "cell_type": "code",
   "execution_count": 34,
   "outputs": [],
   "source": [
    "def epoch_time(start_time, end_time):\n",
    "    elapsed_time = end_time - start_time\n",
    "    elapsed_mins = int(elapsed_time / 60)\n",
    "    elapsed_secs = int(elapsed_time - (elapsed_mins * 60))\n",
    "    return elapsed_mins, elapsed_secs"
   ],
   "metadata": {
    "collapsed": false,
    "pycharm": {
     "name": "#%%\n"
    }
   }
  },
  {
   "cell_type": "code",
   "execution_count": 35,
   "outputs": [
    {
     "data": {
      "text/plain": "  0%|          | 0/20 [00:00<?, ?it/s]",
      "application/vnd.jupyter.widget-view+json": {
       "version_major": 2,
       "version_minor": 0,
       "model_id": "debd2fbe5f364ff6802f04aca7293948"
      }
     },
     "metadata": {},
     "output_type": "display_data"
    },
    {
     "data": {
      "text/plain": "  0%|          | 0/1307 [00:00<?, ?it/s]",
      "application/vnd.jupyter.widget-view+json": {
       "version_major": 2,
       "version_minor": 0,
       "model_id": "7d9bdf35621d4c8da083a19b7cca058b"
      }
     },
     "metadata": {},
     "output_type": "display_data"
    },
    {
     "name": "stdout",
     "output_type": "stream",
     "text": [
      "Epoch: 01 | Time: 2m 42s\n",
      "\tTrain Loss: 2.629, Train acc: 0.131\n",
      "\t Val. Loss: 3.086, Val acc: 0.087\n"
     ]
    },
    {
     "data": {
      "text/plain": "  0%|          | 0/1307 [00:00<?, ?it/s]",
      "application/vnd.jupyter.widget-view+json": {
       "version_major": 2,
       "version_minor": 0,
       "model_id": "e872a1cb019346ce971783380af2dd37"
      }
     },
     "metadata": {},
     "output_type": "display_data"
    },
    {
     "name": "stdout",
     "output_type": "stream",
     "text": [
      "Epoch: 02 | Time: 2m 49s\n",
      "\tTrain Loss: 2.407, Train acc: 0.158\n",
      "\t Val. Loss: 2.979, Val acc: 0.097\n"
     ]
    },
    {
     "data": {
      "text/plain": "  0%|          | 0/1307 [00:00<?, ?it/s]",
      "application/vnd.jupyter.widget-view+json": {
       "version_major": 2,
       "version_minor": 0,
       "model_id": "de8eeb4774cb45288da7e787fec1704f"
      }
     },
     "metadata": {},
     "output_type": "display_data"
    },
    {
     "name": "stdout",
     "output_type": "stream",
     "text": [
      "Epoch: 03 | Time: 2m 43s\n",
      "\tTrain Loss: 2.285, Train acc: 0.175\n",
      "\t Val. Loss: 2.921, Val acc: 0.108\n"
     ]
    },
    {
     "data": {
      "text/plain": "  0%|          | 0/1307 [00:00<?, ?it/s]",
      "application/vnd.jupyter.widget-view+json": {
       "version_major": 2,
       "version_minor": 0,
       "model_id": "9a806114777d463dbe328b033f264fd5"
      }
     },
     "metadata": {},
     "output_type": "display_data"
    },
    {
     "name": "stdout",
     "output_type": "stream",
     "text": [
      "Epoch: 04 | Time: 2m 48s\n",
      "\tTrain Loss: 2.191, Train acc: 0.188\n",
      "\t Val. Loss: 2.866, Val acc: 0.117\n"
     ]
    },
    {
     "data": {
      "text/plain": "  0%|          | 0/1307 [00:00<?, ?it/s]",
      "application/vnd.jupyter.widget-view+json": {
       "version_major": 2,
       "version_minor": 0,
       "model_id": "90875bd7451140088382a7a6a57ae5c5"
      }
     },
     "metadata": {},
     "output_type": "display_data"
    },
    {
     "name": "stdout",
     "output_type": "stream",
     "text": [
      "Epoch: 05 | Time: 2m 43s\n",
      "\tTrain Loss: 2.130, Train acc: 0.196\n",
      "\t Val. Loss: 2.832, Val acc: 0.122\n"
     ]
    },
    {
     "data": {
      "text/plain": "  0%|          | 0/1307 [00:00<?, ?it/s]",
      "application/vnd.jupyter.widget-view+json": {
       "version_major": 2,
       "version_minor": 0,
       "model_id": "41aa635f6c0e4d8f885a5d1ea429de33"
      }
     },
     "metadata": {},
     "output_type": "display_data"
    },
    {
     "name": "stdout",
     "output_type": "stream",
     "text": [
      "Epoch: 06 | Time: 2m 49s\n",
      "\tTrain Loss: 2.073, Train acc: 0.204\n",
      "\t Val. Loss: 2.808, Val acc: 0.124\n"
     ]
    },
    {
     "data": {
      "text/plain": "  0%|          | 0/1307 [00:00<?, ?it/s]",
      "application/vnd.jupyter.widget-view+json": {
       "version_major": 2,
       "version_minor": 0,
       "model_id": "488fe3342e424de29dbbc3d87a554697"
      }
     },
     "metadata": {},
     "output_type": "display_data"
    },
    {
     "name": "stdout",
     "output_type": "stream",
     "text": [
      "Epoch: 07 | Time: 2m 46s\n",
      "\tTrain Loss: 2.019, Train acc: 0.210\n",
      "\t Val. Loss: 2.724, Val acc: 0.134\n"
     ]
    },
    {
     "data": {
      "text/plain": "  0%|          | 0/1307 [00:00<?, ?it/s]",
      "application/vnd.jupyter.widget-view+json": {
       "version_major": 2,
       "version_minor": 0,
       "model_id": "9d6b6893625249309fe5118b2bed4b50"
      }
     },
     "metadata": {},
     "output_type": "display_data"
    },
    {
     "name": "stdout",
     "output_type": "stream",
     "text": [
      "Epoch: 08 | Time: 2m 39s\n",
      "\tTrain Loss: 1.970, Train acc: 0.217\n",
      "\t Val. Loss: 2.679, Val acc: 0.138\n"
     ]
    },
    {
     "data": {
      "text/plain": "  0%|          | 0/1307 [00:00<?, ?it/s]",
      "application/vnd.jupyter.widget-view+json": {
       "version_major": 2,
       "version_minor": 0,
       "model_id": "6350e81df78b497884c471e3ebb2fea9"
      }
     },
     "metadata": {},
     "output_type": "display_data"
    },
    {
     "name": "stdout",
     "output_type": "stream",
     "text": [
      "Epoch: 09 | Time: 2m 48s\n",
      "\tTrain Loss: 1.929, Train acc: 0.223\n",
      "\t Val. Loss: 2.720, Val acc: 0.134\n"
     ]
    },
    {
     "data": {
      "text/plain": "  0%|          | 0/1307 [00:00<?, ?it/s]",
      "application/vnd.jupyter.widget-view+json": {
       "version_major": 2,
       "version_minor": 0,
       "model_id": "9ebaf0094e474d6fa3fb1eb51b49c9b5"
      }
     },
     "metadata": {},
     "output_type": "display_data"
    },
    {
     "name": "stdout",
     "output_type": "stream",
     "text": [
      "Epoch: 10 | Time: 2m 44s\n",
      "\tTrain Loss: 1.882, Train acc: 0.229\n",
      "\t Val. Loss: 2.745, Val acc: 0.134\n"
     ]
    },
    {
     "data": {
      "text/plain": "  0%|          | 0/1307 [00:00<?, ?it/s]",
      "application/vnd.jupyter.widget-view+json": {
       "version_major": 2,
       "version_minor": 0,
       "model_id": "1b69031c828b4d099a945b2894b7fbd2"
      }
     },
     "metadata": {},
     "output_type": "display_data"
    },
    {
     "name": "stdout",
     "output_type": "stream",
     "text": [
      "Epoch: 11 | Time: 2m 50s\n",
      "\tTrain Loss: 1.839, Train acc: 0.235\n",
      "\t Val. Loss: 2.834, Val acc: 0.126\n"
     ]
    },
    {
     "data": {
      "text/plain": "  0%|          | 0/1307 [00:00<?, ?it/s]",
      "application/vnd.jupyter.widget-view+json": {
       "version_major": 2,
       "version_minor": 0,
       "model_id": "d95da84cf9b4475abb104260654cfbb9"
      }
     },
     "metadata": {},
     "output_type": "display_data"
    },
    {
     "name": "stdout",
     "output_type": "stream",
     "text": [
      "Epoch: 12 | Time: 2m 48s\n",
      "\tTrain Loss: 1.801, Train acc: 0.240\n",
      "\t Val. Loss: 2.676, Val acc: 0.138\n"
     ]
    },
    {
     "data": {
      "text/plain": "  0%|          | 0/1307 [00:00<?, ?it/s]",
      "application/vnd.jupyter.widget-view+json": {
       "version_major": 2,
       "version_minor": 0,
       "model_id": "37a850fb022b4a019638fccc168c75f0"
      }
     },
     "metadata": {},
     "output_type": "display_data"
    },
    {
     "name": "stdout",
     "output_type": "stream",
     "text": [
      "Epoch: 13 | Time: 2m 45s\n",
      "\tTrain Loss: 1.766, Train acc: 0.244\n",
      "\t Val. Loss: 2.717, Val acc: 0.140\n"
     ]
    },
    {
     "data": {
      "text/plain": "  0%|          | 0/1307 [00:00<?, ?it/s]",
      "application/vnd.jupyter.widget-view+json": {
       "version_major": 2,
       "version_minor": 0,
       "model_id": "95074e744f5c4f19841b790801116a1c"
      }
     },
     "metadata": {},
     "output_type": "display_data"
    },
    {
     "name": "stdout",
     "output_type": "stream",
     "text": [
      "Epoch: 14 | Time: 2m 42s\n",
      "\tTrain Loss: 1.744, Train acc: 0.247\n",
      "\t Val. Loss: 2.659, Val acc: 0.142\n"
     ]
    },
    {
     "data": {
      "text/plain": "  0%|          | 0/1307 [00:00<?, ?it/s]",
      "application/vnd.jupyter.widget-view+json": {
       "version_major": 2,
       "version_minor": 0,
       "model_id": "48505f63312e4f699d03f74782b9ef76"
      }
     },
     "metadata": {},
     "output_type": "display_data"
    },
    {
     "name": "stdout",
     "output_type": "stream",
     "text": [
      "Epoch: 15 | Time: 2m 42s\n",
      "\tTrain Loss: 1.727, Train acc: 0.249\n",
      "\t Val. Loss: 2.694, Val acc: 0.142\n"
     ]
    },
    {
     "data": {
      "text/plain": "  0%|          | 0/1307 [00:00<?, ?it/s]",
      "application/vnd.jupyter.widget-view+json": {
       "version_major": 2,
       "version_minor": 0,
       "model_id": "171f14ad859c470fa04c64866d8fba6d"
      }
     },
     "metadata": {},
     "output_type": "display_data"
    },
    {
     "name": "stdout",
     "output_type": "stream",
     "text": [
      "Epoch: 16 | Time: 2m 42s\n",
      "\tTrain Loss: 1.694, Train acc: 0.253\n",
      "\t Val. Loss: 2.681, Val acc: 0.145\n"
     ]
    },
    {
     "data": {
      "text/plain": "  0%|          | 0/1307 [00:00<?, ?it/s]",
      "application/vnd.jupyter.widget-view+json": {
       "version_major": 2,
       "version_minor": 0,
       "model_id": "a8afaf57dd65421ebeae6452da14d39c"
      }
     },
     "metadata": {},
     "output_type": "display_data"
    },
    {
     "name": "stdout",
     "output_type": "stream",
     "text": [
      "Epoch: 17 | Time: 2m 42s\n",
      "\tTrain Loss: 1.660, Train acc: 0.258\n",
      "\t Val. Loss: 2.654, Val acc: 0.148\n"
     ]
    },
    {
     "data": {
      "text/plain": "  0%|          | 0/1307 [00:00<?, ?it/s]",
      "application/vnd.jupyter.widget-view+json": {
       "version_major": 2,
       "version_minor": 0,
       "model_id": "a43197b716fb42fb84fd7aa81e87fa41"
      }
     },
     "metadata": {},
     "output_type": "display_data"
    },
    {
     "name": "stdout",
     "output_type": "stream",
     "text": [
      "Epoch: 18 | Time: 2m 41s\n",
      "\tTrain Loss: 1.630, Train acc: 0.262\n",
      "\t Val. Loss: 2.602, Val acc: 0.151\n"
     ]
    },
    {
     "data": {
      "text/plain": "  0%|          | 0/1307 [00:00<?, ?it/s]",
      "application/vnd.jupyter.widget-view+json": {
       "version_major": 2,
       "version_minor": 0,
       "model_id": "62d3bbff595547bd922e2fe55db0ae2c"
      }
     },
     "metadata": {},
     "output_type": "display_data"
    },
    {
     "name": "stdout",
     "output_type": "stream",
     "text": [
      "Epoch: 19 | Time: 2m 42s\n",
      "\tTrain Loss: 1.613, Train acc: 0.264\n",
      "\t Val. Loss: 2.676, Val acc: 0.148\n"
     ]
    },
    {
     "data": {
      "text/plain": "  0%|          | 0/1307 [00:00<?, ?it/s]",
      "application/vnd.jupyter.widget-view+json": {
       "version_major": 2,
       "version_minor": 0,
       "model_id": "275d4e2097994d71bc3e93ff4f703e8d"
      }
     },
     "metadata": {},
     "output_type": "display_data"
    },
    {
     "name": "stdout",
     "output_type": "stream",
     "text": [
      "Epoch: 20 | Time: 2m 43s\n",
      "\tTrain Loss: 1.593, Train acc: 0.267\n",
      "\t Val. Loss: 2.645, Val acc: 0.152\n"
     ]
    }
   ],
   "source": [
    "N_EPOCHS = 20\n",
    "CLIP = 1\n",
    "\n",
    "best_valid_loss = float('inf')\n",
    "\n",
    "optimizer = optim.Adam(model.parameters())\n",
    "criterion = nn.CrossEntropyLoss(ignore_index = vocab_to_int['<PAD>'])\n",
    "\n",
    "train_ds = Generator(train_data)\n",
    "train_ds.generate_dataset()\n",
    "train_loader = torch.utils.data.DataLoader(train_ds, batch_size=50)\n",
    "\n",
    "val_ds = Generator(val_data)\n",
    "val_ds.generate_dataset()\n",
    "val_loader = torch.utils.data.DataLoader(val_ds, batch_size=50)\n",
    "\n",
    "train_loss_history = []\n",
    "train_loss_avgs = []\n",
    "train_acc_history = []\n",
    "train_acc_avgs =[]\n",
    "\n",
    "val_loss_history = []\n",
    "val_loss_avgs = []\n",
    "val_acc_history = []\n",
    "val_acc_avgs =[]\n",
    "\n",
    "for epoch in tqdm(range(N_EPOCHS)):\n",
    "    start_time = time.time()\n",
    "\n",
    "    train_loss, train_acc = train(model, train_loader, optimizer, criterion, CLIP)\n",
    "    val_loss, val_acc = evaluate(model, val_loader, criterion)\n",
    "\n",
    "    end_time = time.time()\n",
    "    epoch_mins, epoch_secs = epoch_time(start_time, end_time)\n",
    "\n",
    "    train_loss_history+=train_loss\n",
    "    train_loss_avgs.append(np.mean(train_loss))\n",
    "    train_acc_history+=train_acc\n",
    "    train_acc_avgs.append(np.mean(train_acc))\n",
    "\n",
    "    val_loss_history+=val_loss\n",
    "    val_loss_avgs.append(np.mean(val_loss))\n",
    "    val_acc_history+=val_acc\n",
    "    val_acc_avgs.append(np.mean(val_acc))\n",
    "\n",
    "\n",
    "\n",
    "    if val_loss_avgs[-1] < best_valid_loss:\n",
    "        best_valid_loss = val_loss_avgs[-1]\n",
    "        torch.save(model.state_dict(), 'model_clip_1.pt')\n",
    "\n",
    "    print(f'Epoch: {epoch+1:02} | Time: {epoch_mins}m {epoch_secs}s')\n",
    "    print(f'\\tTrain Loss: {train_loss_avgs[-1]:.3f}, Train acc: {train_acc_avgs[-1]:.3f}')\n",
    "    print(f'\\t Val. Loss: {val_loss_avgs[-1]:.3f}, Val acc: {val_acc_avgs[-1]:.3f}')"
   ],
   "metadata": {
    "collapsed": false,
    "pycharm": {
     "name": "#%%\n"
    }
   }
  },
  {
   "cell_type": "code",
   "execution_count": 36,
   "outputs": [
    {
     "data": {
      "text/plain": "<Figure size 432x288 with 1 Axes>",
      "image/png": "[encoded data removed]"
     },
     "metadata": {
      "needs_background": "light"
     },
     "output_type": "display_data"
    }
   ],
   "source": [
    "plt.plot(train_acc_avgs)\n",
    "plt.plot(val_acc_avgs)\n",
    "plt.gca().legend(('train_acc_hstr', 'val_acc_hstr'))\n",
    "plt.show()\n"
   ],
   "metadata": {
    "collapsed": false,
    "pycharm": {
     "name": "#%%\n"
    }
   }
  },
  {
   "cell_type": "code",
   "execution_count": 37,
   "outputs": [
    {
     "name": "stdout",
     "output_type": "stream",
     "text": [
      "\tTest Loss: 2.646, Test Acc: 0.151\n"
     ]
    }
   ],
   "source": [
    "best_valid_loss = float('inf')\n",
    "\n",
    "test_ds = Generator(test_data)\n",
    "test_ds.generate_dataset()\n",
    "test_loader = torch.utils.data.DataLoader(test_ds, batch_size=50)\n",
    "\n",
    "loss_hstr, acc_hstr = evaluate(model, test_loader, criterion)\n",
    "print(f'\\tTest Loss: {np.mean(loss_hstr):.3f}, Test Acc: {np.mean(acc_hstr):.3f}')\n"
   ],
   "metadata": {
    "collapsed": false,
    "pycharm": {
     "name": "#%%\n"
    }
   }
  },
  {
   "cell_type": "markdown",
   "source": [
    "# Need to train better.."
   ],
   "metadata": {
    "collapsed": false,
    "pycharm": {
     "name": "#%% md\n"
    }
   }
  },
  {
   "cell_type": "code",
   "execution_count": 40,
   "outputs": [],
   "source": [
    "def predict(input):\n",
    "    double_len = len(input)*2\n",
    "    tgt = [vocab_to_int['<SOS>']]\n",
    "    tgt += [vocab_to_int['<PAD>']] * double_len\n",
    "    tgt = torch.tensor(tgt).to(device)\n",
    "    tgt = torch.reshape(tgt, (-1,1))\n",
    "\n",
    "\n",
    "    inted_sent = [[vocab_to_int['<SOS>']]]\n",
    "    for letter in input:\n",
    "        inted_sent.append([vocab_to_int[letter]])\n",
    "\n",
    "    inted_sent = torch.tensor(np.array(inted_sent)).to(device)\n",
    "\n",
    "    sent = None\n",
    "    with torch.no_grad():\n",
    "            output = model(inted_sent, tgt, 0)\n",
    "            val, idx = torch.max(output, 2)\n",
    "\n",
    "            #trg = [trg len, batch size]\n",
    "            #output = [trg len, batch size, output dim]\n",
    "\n",
    "            output_dim = output.shape[-1]\n",
    "\n",
    "\n",
    "            output = output[1:].view(-1, output_dim)\n",
    "            sent = idx.reshape((idx.shape[0]))\n",
    "\n",
    "    sentence = ''\n",
    "    for j in sent:\n",
    "        if int_to_vocab[j.item()] == '<EOS>':\n",
    "            return sentence\n",
    "        sentence+=int_to_vocab[j.item()]\n",
    "\n",
    "    return sentence"
   ],
   "metadata": {
    "collapsed": false,
    "pycharm": {
     "name": "#%%\n"
    }
   }
  },
  {
   "cell_type": "code",
   "execution_count": 41,
   "outputs": [
    {
     "name": "stdout",
     "output_type": "stream",
     "text": [
      " ro you was  enting in Mr.\n"
     ]
    }
   ],
   "source": [
    "sent = 'Let me show uyo something'\n",
    "print(predict(sent))"
   ],
   "metadata": {
    "collapsed": false,
    "pycharm": {
     "name": "#%%\n"
    }
   }
  },
  {
   "cell_type": "code",
   "execution_count": 39,
   "outputs": [],
   "source": [],
   "metadata": {
    "collapsed": false,
    "pycharm": {
     "name": "#%%\n"
    }
   }
  }
 ],
 "metadata": {
  "kernelspec": {
   "display_name": "Python 3",
   "language": "python",
   "name": "python3"
  },
  "language_info": {
   "codemirror_mode": {
    "name": "ipython",
    "version": 2
   },
   "file_extension": ".py",
   "mimetype": "text/x-python",
   "name": "python",
   "nbconvert_exporter": "python",
   "pygments_lexer": "ipython2",
   "version": "2.7.6"
  }
 },
 "nbformat": 4,
 "nbformat_minor": 0
}