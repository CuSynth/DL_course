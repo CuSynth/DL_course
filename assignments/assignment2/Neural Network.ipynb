{
 "cells": [
  {
   "cell_type": "markdown",
   "metadata": {},
   "source": [
    "# Задание 2.1 - Нейронные сети\n",
    "\n",
    "В этом задании вы реализуете и натренируете настоящую нейроную сеть своими руками!\n",
    "\n",
    "В некотором смысле это будет расширением прошлого задания - нам нужно просто составить несколько линейных классификаторов вместе!\n",
    "\n",
    "<img src=\"https://i.redd.it/n9fgba8b0qr01.png\" alt=\"Stack_more_layers\" width=\"400px\"/>"
   ]
  },
  {
   "cell_type": "code",
   "execution_count": 2,
   "metadata": {},
   "outputs": [],
   "source": [
    "import numpy as np\n",
    "import matplotlib.pyplot as plt\n",
    "\n",
    "%matplotlib inline\n",
    "\n",
    "%load_ext autoreload\n",
    "%autoreload 2"
   ]
  },
  {
   "cell_type": "code",
   "execution_count": 3,
   "metadata": {},
   "outputs": [],
   "source": [
    "from dataset import load_svhn, random_split_train_val\n",
    "from gradient_check import check_layer_gradient, check_layer_param_gradient, check_model_gradient\n",
    "from layers import FullyConnectedLayer, ReLULayer\n",
    "from model import TwoLayerNet\n",
    "from trainer import Trainer, Dataset\n",
    "from optim import SGD, MomentumSGD\n",
    "from metrics import multiclass_accuracy"
   ]
  },
  {
   "cell_type": "markdown",
   "metadata": {},
   "source": [
    "# Загружаем данные\n",
    "\n",
    "И разделяем их на training и validation."
   ]
  },
  {
   "cell_type": "code",
   "execution_count": 4,
   "metadata": {},
   "outputs": [],
   "source": [
    "def prepare_for_neural_network(train_X, test_X):\n",
    "    train_flat = train_X.reshape(train_X.shape[0], -1).astype(float) / 255.0\n",
    "    test_flat = test_X.reshape(test_X.shape[0], -1).astype(float) / 255.0\n",
    "    \n",
    "    # Subtract mean\n",
    "    mean_image = np.mean(train_flat, axis = 0)\n",
    "    train_flat -= mean_image\n",
    "    test_flat -= mean_image\n",
    "    \n",
    "    return train_flat, test_flat\n",
    "    \n",
    "train_X, train_y, test_X, test_y = load_svhn(\"data\", max_train=10000, max_test=1000)    \n",
    "train_X, test_X = prepare_for_neural_network(train_X, test_X)\n",
    "# Split train into train and val\n",
    "train_X, train_y, val_X, val_y = random_split_train_val(train_X, train_y, num_val = 1000)"
   ]
  },
  {
   "cell_type": "markdown",
   "metadata": {},
   "source": [
    "# Как всегда, начинаем с кирпичиков\n",
    "\n",
    "Мы будем реализовывать необходимые нам слои по очереди. Каждый слой должен реализовать:\n",
    "- прямой проход (forward pass), который генерирует выход слоя по входу и запоминает необходимые данные\n",
    "- обратный проход (backward pass), который получает градиент по выходу слоя и вычисляет градиент по входу и по параметрам\n",
    "\n",
    "Начнем с ReLU, у которого параметров нет."
   ]
  },
  {
   "cell_type": "code",
   "execution_count": 5,
   "metadata": {
    "scrolled": false
   },
   "outputs": [
    {
     "name": "stdout",
     "output_type": "stream",
     "text": [
      "Gradient check passed!\n"
     ]
    }
   ],
   "source": [
    "# TODO: Implement ReLULayer layer in layers.py\n",
    "# Note: you'll need to copy implementation of the gradient_check function from the previous assignment\n",
    "\n",
    "X = np.array([[1,-2,3],\n",
    "              [-1, 2, 0.1]\n",
    "              ])\n",
    "\n",
    "assert check_layer_gradient(ReLULayer(), X)"
   ]
  },
  {
   "cell_type": "markdown",
   "metadata": {},
   "source": [
    "А теперь реализуем полносвязный слой (fully connected layer), у которого будет два массива параметров: W (weights) и B (bias).\n",
    "\n",
    "Все параметры наши слои будут использовать для параметров специальный класс `Param`, в котором будут храниться значения параметров и градиенты этих параметров, вычисляемые во время обратного прохода.\n",
    "\n",
    "Это даст возможность аккумулировать (суммировать) градиенты из разных частей функции потерь, например, из cross-entropy loss и regularization loss."
   ]
  },
  {
   "cell_type": "code",
   "execution_count": 6,
   "metadata": {},
   "outputs": [
    {
     "name": "stdout",
     "output_type": "stream",
     "text": [
      "Gradient check passed!\n",
      "Gradient check passed!\n",
      "Gradient check passed!\n"
     ]
    }
   ],
   "source": [
    "# TODO: Implement FullyConnected layer forward and backward methods\n",
    "assert check_layer_gradient(FullyConnectedLayer(3, 4), X)\n",
    "# TODO: Implement storing gradients for W and B\n",
    "assert check_layer_param_gradient(FullyConnectedLayer(3, 4), X, 'W')\n",
    "assert check_layer_param_gradient(FullyConnectedLayer(3, 4), X, 'B')"
   ]
  },
  {
   "cell_type": "markdown",
   "metadata": {},
   "source": [
    "## Создаем нейронную сеть\n",
    "\n",
    "Теперь мы реализуем простейшую нейронную сеть с двумя полносвязным слоями и нелинейностью ReLU. Реализуйте функцию `compute_loss_and_gradients`, она должна запустить прямой и обратный проход через оба слоя для вычисления градиентов.\n",
    "\n",
    "Не забудьте реализовать очистку градиентов в начале функции."
   ]
  },
  {
   "cell_type": "code",
   "execution_count": 7,
   "metadata": {},
   "outputs": [
    {
     "name": "stdout",
     "output_type": "stream",
     "text": [
      "Checking gradient for W_1\n",
      "Gradients are different at (538, 1). Analytic: 0.00000, Numeric: 0.00001\n"
     ]
    },
    {
     "data": {
      "text/plain": [
       "False"
      ]
     },
     "execution_count": 7,
     "metadata": {},
     "output_type": "execute_result"
    }
   ],
   "source": [
    "# TODO: In model.py, implement compute_loss_and_gradients function\n",
    "model = TwoLayerNet(n_input = train_X.shape[1], n_output = 10, hidden_layer_size = 3, reg = 0)\n",
    "loss = model.compute_loss_and_gradients(train_X[:2], train_y[:2])\n",
    "\n",
    "# TODO Now implement backward pass and aggregate all of the params\n",
    "check_model_gradient(model, train_X[:2], train_y[:2])"
   ]
  },
  {
   "cell_type": "markdown",
   "metadata": {},
   "source": [
    "Теперь добавьте к модели регуляризацию - она должна прибавляться к loss и делать свой вклад в градиенты."
   ]
  },
  {
   "cell_type": "code",
   "execution_count": 8,
   "metadata": {},
   "outputs": [
    {
     "name": "stdout",
     "output_type": "stream",
     "text": [
      "Checking gradient for W_1\n",
      "Gradient check passed!\n",
      "Checking gradient for B_1\n",
      "Gradient check passed!\n",
      "Checking gradient for W_2\n",
      "Gradient check passed!\n",
      "Checking gradient for B_2\n",
      "Gradient check passed!\n"
     ]
    },
    {
     "data": {
      "text/plain": [
       "True"
      ]
     },
     "execution_count": 8,
     "metadata": {},
     "output_type": "execute_result"
    }
   ],
   "source": [
    "# TODO Now implement l2 regularization in the forward and backward pass\n",
    "model_with_reg = TwoLayerNet(n_input = train_X.shape[1], n_output = 10, hidden_layer_size = 3, reg = 1e1)\n",
    "loss_with_reg = model_with_reg.compute_loss_and_gradients(train_X[:2], train_y[:2])\n",
    "assert loss_with_reg > loss and not np.isclose(loss_with_reg, loss), \\\n",
    "    \"Loss with regularization (%2.4f) should be higher than without it (%2.4f)!\" % (loss, loss_with_reg)\n",
    "\n",
    "check_model_gradient(model_with_reg, train_X[:2], train_y[:2])"
   ]
  },
  {
   "cell_type": "markdown",
   "metadata": {},
   "source": [
    "Также реализуем функцию предсказания (вычисления значения) модели на новых данных.\n",
    "\n",
    "Какое значение точности мы ожидаем увидеть до начала тренировки?"
   ]
  },
  {
   "cell_type": "code",
   "execution_count": 9,
   "metadata": {},
   "outputs": [
    {
     "data": {
      "text/plain": [
       "0.1"
      ]
     },
     "execution_count": 9,
     "metadata": {},
     "output_type": "execute_result"
    }
   ],
   "source": [
    "# Finally, implement predict function!\n",
    "\n",
    "# TODO: Implement predict function\n",
    "# What would be the value we expect?\n",
    "multiclass_accuracy(model_with_reg.predict(train_X[:30]), train_y[:30]) "
   ]
  },
  {
   "cell_type": "markdown",
   "metadata": {},
   "source": [
    "# Допишем код для процесса тренировки\n",
    "\n",
    "Если все реализовано корректно, значение функции ошибки должно уменьшаться с каждой эпохой, пусть и медленно. Не беспокойтесь пока про validation accuracy."
   ]
  },
  {
   "cell_type": "code",
   "execution_count": 21,
   "metadata": {},
   "outputs": [
    {
     "name": "stdout",
     "output_type": "stream",
     "text": [
      "Loss: 2.236578, Train accuracy: 0.196667, val accuracy: 0.206000\n",
      "Loss: 2.200731, Train accuracy: 0.196667, val accuracy: 0.206000\n",
      "Loss: 2.373339, Train accuracy: 0.196667, val accuracy: 0.206000\n",
      "Loss: 2.243615, Train accuracy: 0.196667, val accuracy: 0.206000\n",
      "Loss: 2.199005, Train accuracy: 0.196667, val accuracy: 0.206000\n",
      "Loss: 2.224350, Train accuracy: 0.196667, val accuracy: 0.206000\n",
      "Loss: 2.189453, Train accuracy: 0.196667, val accuracy: 0.206000\n",
      "Loss: 2.079634, Train accuracy: 0.196667, val accuracy: 0.206000\n",
      "Loss: 2.315894, Train accuracy: 0.196667, val accuracy: 0.206000\n",
      "Loss: 1.888670, Train accuracy: 0.203333, val accuracy: 0.208000\n",
      "Loss: 2.087026, Train accuracy: 0.217889, val accuracy: 0.223000\n",
      "Loss: 1.923451, Train accuracy: 0.234556, val accuracy: 0.234000\n",
      "Loss: 2.209656, Train accuracy: 0.250556, val accuracy: 0.250000\n",
      "Loss: 2.248846, Train accuracy: 0.264778, val accuracy: 0.262000\n",
      "Loss: 2.141485, Train accuracy: 0.262556, val accuracy: 0.261000\n",
      "Loss: 2.171981, Train accuracy: 0.276222, val accuracy: 0.276000\n",
      "Loss: 2.229507, Train accuracy: 0.284778, val accuracy: 0.294000\n",
      "Loss: 1.870416, Train accuracy: 0.296889, val accuracy: 0.298000\n",
      "Loss: 2.067550, Train accuracy: 0.325222, val accuracy: 0.330000\n",
      "Loss: 2.192293, Train accuracy: 0.355444, val accuracy: 0.356000\n"
     ]
    }
   ],
   "source": [
    "model = TwoLayerNet(n_input = train_X.shape[1], n_output = 10, hidden_layer_size = 100, reg = 1e-2)\n",
    "dataset = Dataset(train_X, train_y, val_X, val_y)\n",
    "trainer = Trainer(model, dataset, SGD(), learning_rate = 1e-2)\n",
    "\n",
    "# TODO Implement missing pieces in Trainer.fit function\n",
    "# You should expect loss to go down every epoch, even if it's slow\n",
    "loss_history, train_history, val_history = trainer.fit()"
   ]
  },
  {
   "cell_type": "code",
   "execution_count": 22,
   "metadata": {},
   "outputs": [
    {
     "data": {
      "image/png": "[encoded data removed]",
      "text/plain": [
       "<Figure size 432x288 with 1 Axes>"
      ]
     },
     "metadata": {
      "needs_background": "light"
     },
     "output_type": "display_data"
    },
    {
     "data": {
      "image/png": "[encoded data removed]",
      "text/plain": [
       "<Figure size 432x288 with 1 Axes>"
      ]
     },
     "metadata": {
      "needs_background": "light"
     },
     "output_type": "display_data"
    }
   ],
   "source": [
    "plt.plot(loss_history)\n",
    "plt.show()\n",
    "\n",
    "plt.plot(train_history)\n",
    "plt.plot(val_history)\n",
    "plt.show()"
   ]
  },
  {
   "cell_type": "markdown",
   "metadata": {},
   "source": [
    "# Улучшаем процесс тренировки\n",
    "\n",
    "Мы реализуем несколько ключевых оптимизаций, необходимых для тренировки современных нейросетей."
   ]
  },
  {
   "cell_type": "markdown",
   "metadata": {},
   "source": [
    "## Уменьшение скорости обучения (learning rate decay)\n",
    "\n",
    "Одна из необходимых оптимизаций во время тренировки нейронных сетей - постепенное уменьшение скорости обучения по мере тренировки.\n",
    "\n",
    "Один из стандартных методов - уменьшение скорости обучения (learning rate) каждые N эпох на коэффициент d (часто называемый decay). Значения N и d, как всегда, являются гиперпараметрами и должны подбираться на основе эффективности на проверочных данных (validation data). \n",
    "\n",
    "В нашем случае N будет равным 1."
   ]
  },
  {
   "cell_type": "code",
   "execution_count": 35,
   "metadata": {},
   "outputs": [
    {
     "name": "stdout",
     "output_type": "stream",
     "text": [
      "Loss: 2.304383, Train accuracy: 0.196667, val accuracy: 0.206000\n",
      "Loss: 2.265730, Train accuracy: 0.196667, val accuracy: 0.206000\n",
      "Loss: 2.187751, Train accuracy: 0.196667, val accuracy: 0.206000\n",
      "Loss: 2.298083, Train accuracy: 0.196667, val accuracy: 0.206000\n",
      "Loss: 2.201331, Train accuracy: 0.196667, val accuracy: 0.206000\n",
      "Loss: 2.181506, Train accuracy: 0.196667, val accuracy: 0.206000\n",
      "Loss: 2.297584, Train accuracy: 0.196667, val accuracy: 0.206000\n",
      "Loss: 2.203270, Train accuracy: 0.196667, val accuracy: 0.206000\n",
      "Loss: 2.138639, Train accuracy: 0.196667, val accuracy: 0.206000\n",
      "Loss: 1.883369, Train accuracy: 0.197778, val accuracy: 0.205000\n",
      "Loss: 1.928133, Train accuracy: 0.213111, val accuracy: 0.217000\n",
      "Loss: 2.084763, Train accuracy: 0.228222, val accuracy: 0.235000\n",
      "Loss: 2.164852, Train accuracy: 0.245000, val accuracy: 0.248000\n",
      "Loss: 2.290525, Train accuracy: 0.254778, val accuracy: 0.251000\n",
      "Loss: 2.097281, Train accuracy: 0.264778, val accuracy: 0.261000\n",
      "Loss: 2.165448, Train accuracy: 0.271111, val accuracy: 0.269000\n",
      "Loss: 2.055480, Train accuracy: 0.272889, val accuracy: 0.275000\n",
      "Loss: 2.057931, Train accuracy: 0.287333, val accuracy: 0.294000\n",
      "Loss: 1.982097, Train accuracy: 0.300778, val accuracy: 0.300000\n",
      "Loss: 1.926928, Train accuracy: 0.334111, val accuracy: 0.341000\n"
     ]
    }
   ],
   "source": [
    "# TODO Implement learning rate decay inside Trainer.fit method\n",
    "# Decay should happen once per epoch\n",
    "\n",
    "model = TwoLayerNet(n_input = train_X.shape[1], n_output = 10, hidden_layer_size = 100, reg = 1e-2)\n",
    "dataset = Dataset(train_X, train_y, val_X, val_y)\n",
    "trainer = Trainer(model, dataset, SGD(), learning_rate_decay=0.99, learning_rate = 1e-2)\n",
    "\n",
    "initial_learning_rate = trainer.learning_rate\n",
    "loss_history, train_history, val_history = trainer.fit()\n",
    "\n",
    "assert trainer.learning_rate < initial_learning_rate, \"Learning rate should've been reduced\"\n",
    "assert trainer.learning_rate > 0.5*initial_learning_rate, \"Learning rate shouldn'tve been reduced that much!\""
   ]
  },
  {
   "cell_type": "code",
   "execution_count": 36,
   "metadata": {},
   "outputs": [
    {
     "data": {
      "image/png": "[encoded data removed]",
      "text/plain": [
       "<Figure size 432x288 with 1 Axes>"
      ]
     },
     "metadata": {
      "needs_background": "light"
     },
     "output_type": "display_data"
    },
    {
     "data": {
      "image/png": "[encoded data removed]",
      "text/plain": [
       "<Figure size 432x288 with 1 Axes>"
      ]
     },
     "metadata": {
      "needs_background": "light"
     },
     "output_type": "display_data"
    }
   ],
   "source": [
    "plt.plot(loss_history)\n",
    "plt.show()\n",
    "\n",
    "plt.plot(train_history)\n",
    "plt.plot(val_history)\n",
    "plt.show()"
   ]
  },
  {
   "cell_type": "markdown",
   "metadata": {},
   "source": [
    "# Накопление импульса (Momentum SGD)\n",
    "\n",
    "Другой большой класс оптимизаций - использование более эффективных методов градиентного спуска. Мы реализуем один из них - накопление импульса (Momentum SGD).\n",
    "\n",
    "Этот метод хранит скорость движения, использует градиент для ее изменения на каждом шаге, и изменяет веса пропорционально значению скорости.\n",
    "(Физическая аналогия: Вместо скорости градиенты теперь будут задавать ускорение, но будет присутствовать сила трения.)\n",
    "\n",
    "```\n",
    "velocity = momentum * velocity - learning_rate * gradient \n",
    "w = w + velocity\n",
    "```\n",
    "\n",
    "`momentum` здесь коэффициент затухания, который тоже является гиперпараметром (к счастью, для него часто есть хорошее значение по умолчанию, типичный диапазон -- 0.8-0.99).\n",
    "\n",
    "Несколько полезных ссылок, где метод разбирается более подробно:  \n",
    "http://cs231n.github.io/neural-networks-3/#sgd  \n",
    "https://distill.pub/2017/momentum/"
   ]
  },
  {
   "cell_type": "code",
   "execution_count": 37,
   "metadata": {},
   "outputs": [
    {
     "name": "stdout",
     "output_type": "stream",
     "text": [
      "Loss: 2.174623, Train accuracy: 0.196667, val accuracy: 0.206000\n",
      "Loss: 2.382159, Train accuracy: 0.317111, val accuracy: 0.313000\n",
      "Loss: 1.785812, Train accuracy: 0.419000, val accuracy: 0.420000\n",
      "Loss: 1.937279, Train accuracy: 0.486333, val accuracy: 0.470000\n",
      "Loss: 1.916761, Train accuracy: 0.523444, val accuracy: 0.520000\n",
      "Loss: 1.747250, Train accuracy: 0.528444, val accuracy: 0.552000\n",
      "Loss: 1.887827, Train accuracy: 0.581333, val accuracy: 0.579000\n",
      "Loss: 1.675332, Train accuracy: 0.552111, val accuracy: 0.552000\n",
      "Loss: 1.743425, Train accuracy: 0.583556, val accuracy: 0.576000\n",
      "Loss: 1.384647, Train accuracy: 0.594889, val accuracy: 0.599000\n",
      "Loss: 1.887524, Train accuracy: 0.598111, val accuracy: 0.605000\n",
      "Loss: 1.693649, Train accuracy: 0.570444, val accuracy: 0.578000\n",
      "Loss: 2.186511, Train accuracy: 0.585667, val accuracy: 0.580000\n",
      "Loss: 1.680001, Train accuracy: 0.614889, val accuracy: 0.598000\n",
      "Loss: 2.047940, Train accuracy: 0.610444, val accuracy: 0.603000\n",
      "Loss: 1.857347, Train accuracy: 0.604889, val accuracy: 0.600000\n",
      "Loss: 1.546247, Train accuracy: 0.606667, val accuracy: 0.567000\n",
      "Loss: 1.850518, Train accuracy: 0.617000, val accuracy: 0.619000\n",
      "Loss: 2.090091, Train accuracy: 0.612778, val accuracy: 0.618000\n",
      "Loss: 1.746556, Train accuracy: 0.577444, val accuracy: 0.593000\n"
     ]
    }
   ],
   "source": [
    "# TODO: Implement MomentumSGD.update function in optim.py\n",
    "\n",
    "model = TwoLayerNet(n_input = train_X.shape[1], n_output = 10, hidden_layer_size = 100, reg = 1e-2)\n",
    "dataset = Dataset(train_X, train_y, val_X, val_y)\n",
    "trainer = Trainer(model, dataset, MomentumSGD(), learning_rate=1e-2, learning_rate_decay=0.99)\n",
    "\n",
    "# You should see even better results than before!\n",
    "loss_history, train_history, val_history = trainer.fit()"
   ]
  },
  {
   "cell_type": "code",
   "execution_count": 38,
   "metadata": {},
   "outputs": [
    {
     "data": {
      "image/png": "[encoded data removed]",
      "text/plain": [
       "<Figure size 432x288 with 1 Axes>"
      ]
     },
     "metadata": {
      "needs_background": "light"
     },
     "output_type": "display_data"
    },
    {
     "data": {
      "image/png": "[encoded data removed]",
      "text/plain": [
       "<Figure size 432x288 with 1 Axes>"
      ]
     },
     "metadata": {
      "needs_background": "light"
     },
     "output_type": "display_data"
    }
   ],
   "source": [
    "plt.plot(loss_history)\n",
    "plt.show()\n",
    "\n",
    "plt.plot(train_history)\n",
    "plt.plot(val_history)\n",
    "plt.show()"
   ]
  },
  {
   "cell_type": "markdown",
   "metadata": {},
   "source": [
    "# Ну что, давайте уже тренировать сеть!"
   ]
  },
  {
   "cell_type": "markdown",
   "metadata": {},
   "source": [
    "## Последний тест - переобучимся (overfit) на маленьком наборе данных\n",
    "\n",
    "Хороший способ проверить, все ли реализовано корректно - переобучить сеть на маленьком наборе данных.  \n",
    "Наша модель обладает достаточной мощностью, чтобы приблизить маленький набор данных идеально, поэтому мы ожидаем, что на нем мы быстро дойдем до 100% точности на тренировочном наборе. \n",
    "\n",
    "Если этого не происходит, то где-то была допущена ошибка!"
   ]
  },
  {
   "cell_type": "code",
   "execution_count": 45,
   "metadata": {},
   "outputs": [
    {
     "name": "stdout",
     "output_type": "stream",
     "text": [
      "Loss: 2.306361, Train accuracy: 0.200000, val accuracy: 0.133333\n",
      "Loss: 2.296428, Train accuracy: 0.200000, val accuracy: 0.133333\n",
      "Loss: 2.268830, Train accuracy: 0.200000, val accuracy: 0.133333\n",
      "Loss: 2.287500, Train accuracy: 0.266667, val accuracy: 0.000000\n",
      "Loss: 2.238646, Train accuracy: 0.200000, val accuracy: 0.133333\n",
      "Loss: 2.257516, Train accuracy: 0.200000, val accuracy: 0.133333\n",
      "Loss: 2.202832, Train accuracy: 0.266667, val accuracy: 0.000000\n",
      "Loss: 2.176420, Train accuracy: 0.333333, val accuracy: 0.000000\n",
      "Loss: 2.179951, Train accuracy: 0.400000, val accuracy: 0.000000\n",
      "Loss: 2.290675, Train accuracy: 0.400000, val accuracy: 0.000000\n",
      "Loss: 2.082170, Train accuracy: 0.400000, val accuracy: 0.000000\n",
      "Loss: 2.289752, Train accuracy: 0.400000, val accuracy: 0.000000\n",
      "Loss: 1.530483, Train accuracy: 0.400000, val accuracy: 0.000000\n",
      "Loss: 1.633904, Train accuracy: 0.333333, val accuracy: 0.000000\n",
      "Loss: 2.114697, Train accuracy: 0.400000, val accuracy: 0.000000\n",
      "Loss: 2.195749, Train accuracy: 0.466667, val accuracy: 0.000000\n",
      "Loss: 1.106184, Train accuracy: 0.400000, val accuracy: 0.000000\n",
      "Loss: 1.343457, Train accuracy: 0.400000, val accuracy: 0.000000\n",
      "Loss: 1.478185, Train accuracy: 0.466667, val accuracy: 0.000000\n",
      "Loss: 1.526133, Train accuracy: 0.466667, val accuracy: 0.000000\n",
      "Loss: 1.572543, Train accuracy: 0.466667, val accuracy: 0.000000\n",
      "Loss: 0.806382, Train accuracy: 0.466667, val accuracy: 0.000000\n",
      "Loss: 0.916299, Train accuracy: 0.533333, val accuracy: 0.066667\n",
      "Loss: 1.638163, Train accuracy: 0.533333, val accuracy: 0.066667\n",
      "Loss: 1.395671, Train accuracy: 0.600000, val accuracy: 0.066667\n",
      "Loss: 1.297470, Train accuracy: 0.600000, val accuracy: 0.066667\n",
      "Loss: 1.609329, Train accuracy: 0.666667, val accuracy: 0.066667\n",
      "Loss: 1.175162, Train accuracy: 0.733333, val accuracy: 0.066667\n",
      "Loss: 1.515809, Train accuracy: 0.666667, val accuracy: 0.066667\n",
      "Loss: 0.366825, Train accuracy: 0.666667, val accuracy: 0.066667\n",
      "Loss: 0.911867, Train accuracy: 0.733333, val accuracy: 0.066667\n",
      "Loss: 1.090727, Train accuracy: 0.800000, val accuracy: 0.066667\n",
      "Loss: 0.677666, Train accuracy: 0.800000, val accuracy: 0.133333\n",
      "Loss: 0.353448, Train accuracy: 0.800000, val accuracy: 0.066667\n",
      "Loss: 1.360329, Train accuracy: 0.800000, val accuracy: 0.066667\n",
      "Loss: 0.609468, Train accuracy: 0.800000, val accuracy: 0.066667\n",
      "Loss: 0.349791, Train accuracy: 0.800000, val accuracy: 0.066667\n",
      "Loss: 0.895280, Train accuracy: 0.800000, val accuracy: 0.066667\n",
      "Loss: 0.341628, Train accuracy: 0.866667, val accuracy: 0.066667\n",
      "Loss: 0.423631, Train accuracy: 0.866667, val accuracy: 0.066667\n",
      "Loss: 1.218639, Train accuracy: 0.866667, val accuracy: 0.066667\n",
      "Loss: 0.889222, Train accuracy: 0.866667, val accuracy: 0.066667\n",
      "Loss: 0.470591, Train accuracy: 0.866667, val accuracy: 0.066667\n",
      "Loss: 0.211683, Train accuracy: 0.933333, val accuracy: 0.066667\n",
      "Loss: 0.779282, Train accuracy: 0.933333, val accuracy: 0.066667\n",
      "Loss: 0.217617, Train accuracy: 0.933333, val accuracy: 0.066667\n",
      "Loss: 0.967920, Train accuracy: 0.933333, val accuracy: 0.066667\n",
      "Loss: 0.832813, Train accuracy: 0.933333, val accuracy: 0.066667\n",
      "Loss: 0.597163, Train accuracy: 0.933333, val accuracy: 0.066667\n",
      "Loss: 0.446990, Train accuracy: 0.933333, val accuracy: 0.066667\n",
      "Loss: 0.503267, Train accuracy: 1.000000, val accuracy: 0.000000\n",
      "Loss: 0.661033, Train accuracy: 1.000000, val accuracy: 0.000000\n",
      "Loss: 0.465790, Train accuracy: 1.000000, val accuracy: 0.000000\n",
      "Loss: 0.253981, Train accuracy: 1.000000, val accuracy: 0.000000\n",
      "Loss: 0.548757, Train accuracy: 1.000000, val accuracy: 0.000000\n",
      "Loss: 0.414048, Train accuracy: 1.000000, val accuracy: 0.000000\n",
      "Loss: 0.460991, Train accuracy: 1.000000, val accuracy: 0.000000\n",
      "Loss: 0.294523, Train accuracy: 1.000000, val accuracy: 0.000000\n",
      "Loss: 0.343479, Train accuracy: 1.000000, val accuracy: 0.000000\n",
      "Loss: 0.236650, Train accuracy: 1.000000, val accuracy: 0.000000\n",
      "Loss: 0.225669, Train accuracy: 1.000000, val accuracy: 0.000000\n",
      "Loss: 0.424401, Train accuracy: 1.000000, val accuracy: 0.000000\n",
      "Loss: 0.224675, Train accuracy: 1.000000, val accuracy: 0.000000\n",
      "Loss: 0.214224, Train accuracy: 1.000000, val accuracy: 0.000000\n",
      "Loss: 0.246403, Train accuracy: 1.000000, val accuracy: 0.000000\n",
      "Loss: 0.318721, Train accuracy: 1.000000, val accuracy: 0.000000\n",
      "Loss: 0.278560, Train accuracy: 1.000000, val accuracy: 0.000000\n",
      "Loss: 0.269835, Train accuracy: 1.000000, val accuracy: 0.000000\n",
      "Loss: 0.236408, Train accuracy: 1.000000, val accuracy: 0.000000\n",
      "Loss: 0.217194, Train accuracy: 1.000000, val accuracy: 0.000000\n",
      "Loss: 0.225977, Train accuracy: 1.000000, val accuracy: 0.000000\n",
      "Loss: 0.269182, Train accuracy: 1.000000, val accuracy: 0.000000\n",
      "Loss: 0.261377, Train accuracy: 1.000000, val accuracy: 0.000000\n",
      "Loss: 0.269457, Train accuracy: 1.000000, val accuracy: 0.000000\n",
      "Loss: 0.280136, Train accuracy: 1.000000, val accuracy: 0.000000\n",
      "Loss: 0.233194, Train accuracy: 1.000000, val accuracy: 0.000000\n",
      "Loss: 0.226416, Train accuracy: 1.000000, val accuracy: 0.000000\n",
      "Loss: 0.288712, Train accuracy: 1.000000, val accuracy: 0.000000\n",
      "Loss: 0.245394, Train accuracy: 1.000000, val accuracy: 0.000000\n",
      "Loss: 0.242065, Train accuracy: 1.000000, val accuracy: 0.000000\n",
      "Loss: 0.246174, Train accuracy: 1.000000, val accuracy: 0.000000\n",
      "Loss: 0.234932, Train accuracy: 1.000000, val accuracy: 0.000000\n",
      "Loss: 0.255008, Train accuracy: 1.000000, val accuracy: 0.000000\n",
      "Loss: 0.231619, Train accuracy: 1.000000, val accuracy: 0.000000\n",
      "Loss: 0.220493, Train accuracy: 1.000000, val accuracy: 0.000000\n",
      "Loss: 0.214150, Train accuracy: 1.000000, val accuracy: 0.000000\n",
      "Loss: 0.258518, Train accuracy: 1.000000, val accuracy: 0.000000\n",
      "Loss: 0.236682, Train accuracy: 1.000000, val accuracy: 0.000000\n",
      "Loss: 0.215557, Train accuracy: 1.000000, val accuracy: 0.000000\n",
      "Loss: 0.226697, Train accuracy: 1.000000, val accuracy: 0.000000\n",
      "Loss: 0.247115, Train accuracy: 1.000000, val accuracy: 0.000000\n",
      "Loss: 0.254888, Train accuracy: 1.000000, val accuracy: 0.000000\n",
      "Loss: 0.237176, Train accuracy: 1.000000, val accuracy: 0.000000\n",
      "Loss: 0.226977, Train accuracy: 1.000000, val accuracy: 0.000000\n",
      "Loss: 0.214008, Train accuracy: 1.000000, val accuracy: 0.000000\n",
      "Loss: 0.232567, Train accuracy: 1.000000, val accuracy: 0.000000\n",
      "Loss: 0.228056, Train accuracy: 1.000000, val accuracy: 0.000000\n",
      "Loss: 0.202970, Train accuracy: 1.000000, val accuracy: 0.000000\n",
      "Loss: 0.237822, Train accuracy: 1.000000, val accuracy: 0.000000\n",
      "Loss: 0.213184, Train accuracy: 1.000000, val accuracy: 0.000000\n",
      "Loss: 0.217506, Train accuracy: 1.000000, val accuracy: 0.000000\n",
      "Loss: 0.256925, Train accuracy: 1.000000, val accuracy: 0.000000\n",
      "Loss: 0.223669, Train accuracy: 1.000000, val accuracy: 0.000000\n",
      "Loss: 0.209482, Train accuracy: 1.000000, val accuracy: 0.000000\n",
      "Loss: 0.234938, Train accuracy: 1.000000, val accuracy: 0.000000\n",
      "Loss: 0.225124, Train accuracy: 1.000000, val accuracy: 0.000000\n",
      "Loss: 0.233510, Train accuracy: 1.000000, val accuracy: 0.000000\n",
      "Loss: 0.230846, Train accuracy: 1.000000, val accuracy: 0.000000\n",
      "Loss: 0.210698, Train accuracy: 1.000000, val accuracy: 0.000000\n",
      "Loss: 0.223630, Train accuracy: 1.000000, val accuracy: 0.000000\n",
      "Loss: 0.218230, Train accuracy: 1.000000, val accuracy: 0.000000\n",
      "Loss: 0.239860, Train accuracy: 1.000000, val accuracy: 0.000000\n",
      "Loss: 0.228138, Train accuracy: 1.000000, val accuracy: 0.000000\n",
      "Loss: 0.228620, Train accuracy: 1.000000, val accuracy: 0.000000\n",
      "Loss: 0.214235, Train accuracy: 1.000000, val accuracy: 0.000000\n",
      "Loss: 0.211387, Train accuracy: 1.000000, val accuracy: 0.000000\n",
      "Loss: 0.229792, Train accuracy: 1.000000, val accuracy: 0.000000\n",
      "Loss: 0.231290, Train accuracy: 1.000000, val accuracy: 0.000000\n",
      "Loss: 0.206243, Train accuracy: 1.000000, val accuracy: 0.000000\n",
      "Loss: 0.221269, Train accuracy: 1.000000, val accuracy: 0.000000\n",
      "Loss: 0.226871, Train accuracy: 1.000000, val accuracy: 0.000000\n",
      "Loss: 0.206977, Train accuracy: 1.000000, val accuracy: 0.000000\n",
      "Loss: 0.234697, Train accuracy: 1.000000, val accuracy: 0.000000\n",
      "Loss: 0.203567, Train accuracy: 1.000000, val accuracy: 0.000000\n",
      "Loss: 0.221281, Train accuracy: 1.000000, val accuracy: 0.000000\n",
      "Loss: 0.212633, Train accuracy: 1.000000, val accuracy: 0.000000\n",
      "Loss: 0.202529, Train accuracy: 1.000000, val accuracy: 0.000000\n",
      "Loss: 0.220663, Train accuracy: 1.000000, val accuracy: 0.000000\n",
      "Loss: 0.214623, Train accuracy: 1.000000, val accuracy: 0.000000\n",
      "Loss: 0.229187, Train accuracy: 1.000000, val accuracy: 0.000000\n",
      "Loss: 0.210442, Train accuracy: 1.000000, val accuracy: 0.000000\n",
      "Loss: 0.210464, Train accuracy: 1.000000, val accuracy: 0.000000\n",
      "Loss: 0.210184, Train accuracy: 1.000000, val accuracy: 0.000000\n",
      "Loss: 0.228390, Train accuracy: 1.000000, val accuracy: 0.000000\n",
      "Loss: 0.232762, Train accuracy: 1.000000, val accuracy: 0.000000\n",
      "Loss: 0.228682, Train accuracy: 1.000000, val accuracy: 0.000000\n",
      "Loss: 0.204905, Train accuracy: 1.000000, val accuracy: 0.000000\n",
      "Loss: 0.208301, Train accuracy: 1.000000, val accuracy: 0.000000\n",
      "Loss: 0.224349, Train accuracy: 1.000000, val accuracy: 0.000000\n",
      "Loss: 0.221795, Train accuracy: 1.000000, val accuracy: 0.000000\n",
      "Loss: 0.207298, Train accuracy: 1.000000, val accuracy: 0.000000\n",
      "Loss: 0.217753, Train accuracy: 1.000000, val accuracy: 0.000000\n",
      "Loss: 0.212304, Train accuracy: 1.000000, val accuracy: 0.000000\n",
      "Loss: 0.216271, Train accuracy: 1.000000, val accuracy: 0.000000\n",
      "Loss: 0.227365, Train accuracy: 1.000000, val accuracy: 0.000000\n",
      "Loss: 0.214480, Train accuracy: 1.000000, val accuracy: 0.000000\n",
      "Loss: 0.236310, Train accuracy: 1.000000, val accuracy: 0.000000\n",
      "Loss: 0.223940, Train accuracy: 1.000000, val accuracy: 0.000000\n",
      "Loss: 0.221938, Train accuracy: 1.000000, val accuracy: 0.000000\n",
      "Loss: 0.198352, Train accuracy: 1.000000, val accuracy: 0.000000\n"
     ]
    }
   ],
   "source": [
    "data_size = 15\n",
    "model = TwoLayerNet(n_input = train_X.shape[1], n_output = 10, hidden_layer_size = 100, reg = 1e-2)\n",
    "dataset = Dataset(train_X[:data_size], train_y[:data_size], val_X[:data_size], val_y[:data_size])\n",
    "trainer = Trainer(model, dataset, SGD(), learning_rate=1e-1, num_epochs=150, batch_size=5)\n",
    "\n",
    "# You should expect this to reach 1.0 training accuracy \n",
    "loss_history, train_history, val_history = trainer.fit()"
   ]
  },
  {
   "cell_type": "code",
   "execution_count": 46,
   "metadata": {},
   "outputs": [
    {
     "data": {
      "image/png": "[encoded data removed]",
      "text/plain": [
       "<Figure size 432x288 with 1 Axes>"
      ]
     },
     "metadata": {
      "needs_background": "light"
     },
     "output_type": "display_data"
    },
    {
     "data": {
      "image/png": "[encoded data removed]",
      "text/plain": [
       "<Figure size 432x288 with 1 Axes>"
      ]
     },
     "metadata": {
      "needs_background": "light"
     },
     "output_type": "display_data"
    }
   ],
   "source": [
    "plt.plot(loss_history)\n",
    "plt.show()\n",
    "\n",
    "plt.plot(train_history)\n",
    "plt.plot(val_history)\n",
    "plt.show()"
   ]
  },
  {
   "cell_type": "markdown",
   "metadata": {},
   "source": [
    "`Теперь найдем гипепараметры, для которых этот процесс сходится быстрее.\n",
    "Если все реализовано корректно, то существуют параметры, при которых процесс сходится в **20** эпох или еще быстрее.\n",
    "Найдите их!"
   ]
  },
  {
   "cell_type": "code",
   "execution_count": 118,
   "metadata": {},
   "outputs": [
    {
     "name": "stdout",
     "output_type": "stream",
     "text": [
      "Loss: 2.327392, Train accuracy: 0.133333, val accuracy: 0.200000\n",
      "Loss: 2.196088, Train accuracy: 0.333333, val accuracy: 0.066667\n",
      "Loss: 2.077443, Train accuracy: 0.400000, val accuracy: 0.066667\n",
      "Loss: 2.332148, Train accuracy: 0.333333, val accuracy: 0.133333\n",
      "Loss: 1.271869, Train accuracy: 0.333333, val accuracy: 0.133333\n",
      "Loss: 1.755637, Train accuracy: 0.466667, val accuracy: 0.000000\n",
      "Loss: 2.472866, Train accuracy: 0.466667, val accuracy: 0.000000\n",
      "Loss: 2.381446, Train accuracy: 0.466667, val accuracy: 0.000000\n",
      "Loss: 0.001029, Train accuracy: 0.400000, val accuracy: 0.066667\n",
      "Loss: 2.979343, Train accuracy: 0.533333, val accuracy: 0.066667\n",
      "Loss: 1.531141, Train accuracy: 0.733333, val accuracy: 0.000000\n",
      "Loss: 1.440467, Train accuracy: 0.733333, val accuracy: 0.000000\n",
      "Loss: 2.235392, Train accuracy: 0.733333, val accuracy: 0.066667\n",
      "Loss: 0.194271, Train accuracy: 0.933333, val accuracy: 0.000000\n",
      "Loss: 0.003424, Train accuracy: 1.000000, val accuracy: 0.000000\n",
      "Loss: 0.012251, Train accuracy: 1.000000, val accuracy: 0.000000\n",
      "Loss: 0.760883, Train accuracy: 1.000000, val accuracy: 0.000000\n",
      "Loss: 0.477374, Train accuracy: 1.000000, val accuracy: 0.000000\n",
      "Loss: 0.386250, Train accuracy: 1.000000, val accuracy: 0.000000\n",
      "Loss: 0.002722, Train accuracy: 1.000000, val accuracy: 0.000000\n"
     ]
    }
   ],
   "source": [
    "# Now, tweak some hyper parameters and make it train to 1.0 accuracy in 20 epochs or less\n",
    "\n",
    "model = TwoLayerNet(n_input = train_X.shape[1], n_output = 10, hidden_layer_size = 200, reg = 1e-4)\n",
    "dataset = Dataset(train_X[:data_size], train_y[:data_size], val_X[:data_size], val_y[:data_size])\n",
    "# TODO: Change any hyperparamers or optimizators to reach training accuracy in 20 epochs\n",
    "trainer = Trainer(model, dataset, SGD(), learning_rate=1.3e-1, num_epochs=20, batch_size=2)\n",
    "\n",
    "loss_history, train_history, val_history = trainer.fit()"
   ]
  },
  {
   "cell_type": "code",
   "execution_count": 119,
   "metadata": {},
   "outputs": [
    {
     "data": {
      "image/png": "[encoded data removed]",
      "text/plain": [
       "<Figure size 432x288 with 1 Axes>"
      ]
     },
     "metadata": {
      "needs_background": "light"
     },
     "output_type": "display_data"
    },
    {
     "data": {
      "image/png": "[encoded data removed]",
      "text/plain": [
       "<Figure size 432x288 with 1 Axes>"
      ]
     },
     "metadata": {
      "needs_background": "light"
     },
     "output_type": "display_data"
    }
   ],
   "source": [
    "plt.plot(loss_history)\n",
    "plt.show()\n",
    "\n",
    "plt.plot(train_history)\n",
    "plt.plot(val_history)\n",
    "plt.show()"
   ]
  },
  {
   "cell_type": "markdown",
   "metadata": {},
   "source": [
    "# Итак, основное мероприятие!\n",
    "\n",
    "Натренируйте лучшую нейросеть! Можно добавлять и изменять параметры, менять количество нейронов в слоях сети и как угодно экспериментировать. \n",
    "\n",
    "Добейтесь точности лучше **60%** на validation set."
   ]
  },
  {
   "cell_type": "code",
   "execution_count": 124,
   "metadata": {
    "scrolled": true
   },
   "outputs": [
    {
     "name": "stdout",
     "output_type": "stream",
     "text": [
      "Loss: 2.287844, Train accuracy: 0.196667, val accuracy: 0.206000\n",
      "Loss: 2.211101, Train accuracy: 0.196667, val accuracy: 0.206000\n",
      "Loss: 2.171281, Train accuracy: 0.196667, val accuracy: 0.206000\n",
      "Loss: 2.035652, Train accuracy: 0.262889, val accuracy: 0.260000\n",
      "Loss: 1.891446, Train accuracy: 0.308111, val accuracy: 0.309000\n",
      "Loss: 1.801684, Train accuracy: 0.410778, val accuracy: 0.406000\n",
      "Loss: 1.884686, Train accuracy: 0.466000, val accuracy: 0.466000\n",
      "Loss: 1.583442, Train accuracy: 0.529778, val accuracy: 0.524000\n",
      "Loss: 1.261934, Train accuracy: 0.590222, val accuracy: 0.571000\n",
      "Loss: 1.594232, Train accuracy: 0.613889, val accuracy: 0.592000\n",
      "Loss: 1.399512, Train accuracy: 0.649000, val accuracy: 0.634000\n",
      "Loss: 1.218371, Train accuracy: 0.672333, val accuracy: 0.665000\n",
      "Loss: 1.263789, Train accuracy: 0.692667, val accuracy: 0.686000\n",
      "Loss: 0.951730, Train accuracy: 0.704889, val accuracy: 0.678000\n",
      "Loss: 1.069061, Train accuracy: 0.705556, val accuracy: 0.693000\n",
      "Loss: 0.762312, Train accuracy: 0.730111, val accuracy: 0.697000\n",
      "Loss: 0.983673, Train accuracy: 0.718000, val accuracy: 0.695000\n",
      "Loss: 1.056708, Train accuracy: 0.743222, val accuracy: 0.719000\n",
      "Loss: 1.007280, Train accuracy: 0.744111, val accuracy: 0.700000\n",
      "Loss: 0.997272, Train accuracy: 0.743889, val accuracy: 0.717000\n",
      "Loss: 1.132697, Train accuracy: 0.766667, val accuracy: 0.732000\n",
      "Loss: 1.111074, Train accuracy: 0.758222, val accuracy: 0.718000\n",
      "Loss: 0.865437, Train accuracy: 0.775222, val accuracy: 0.735000\n",
      "Loss: 0.953853, Train accuracy: 0.787556, val accuracy: 0.727000\n",
      "Loss: 0.957692, Train accuracy: 0.780222, val accuracy: 0.725000\n",
      "Loss: 0.793503, Train accuracy: 0.796000, val accuracy: 0.745000\n",
      "Loss: 1.019455, Train accuracy: 0.784000, val accuracy: 0.722000\n",
      "Loss: 1.056592, Train accuracy: 0.801889, val accuracy: 0.731000\n",
      "Loss: 0.904344, Train accuracy: 0.812333, val accuracy: 0.730000\n",
      "Loss: 0.812436, Train accuracy: 0.811333, val accuracy: 0.734000\n",
      "Loss: 0.909745, Train accuracy: 0.820000, val accuracy: 0.733000\n",
      "Loss: 1.014905, Train accuracy: 0.823222, val accuracy: 0.740000\n",
      "Loss: 1.056703, Train accuracy: 0.831333, val accuracy: 0.740000\n",
      "Loss: 0.736824, Train accuracy: 0.819444, val accuracy: 0.735000\n",
      "Loss: 0.825307, Train accuracy: 0.822889, val accuracy: 0.730000\n",
      "Loss: 0.839614, Train accuracy: 0.831889, val accuracy: 0.740000\n",
      "Loss: 0.976781, Train accuracy: 0.842778, val accuracy: 0.749000\n",
      "Loss: 0.885697, Train accuracy: 0.839222, val accuracy: 0.742000\n",
      "Loss: 0.869907, Train accuracy: 0.845000, val accuracy: 0.741000\n",
      "Loss: 0.895144, Train accuracy: 0.846667, val accuracy: 0.752000\n",
      "Loss: 1.019379, Train accuracy: 0.854333, val accuracy: 0.753000\n",
      "Loss: 0.706259, Train accuracy: 0.853556, val accuracy: 0.753000\n",
      "Loss: 1.129890, Train accuracy: 0.855222, val accuracy: 0.731000\n",
      "Loss: 0.702735, Train accuracy: 0.857778, val accuracy: 0.754000\n",
      "Loss: 0.981713, Train accuracy: 0.867889, val accuracy: 0.756000\n",
      "Loss: 0.800321, Train accuracy: 0.870778, val accuracy: 0.748000\n",
      "Loss: 0.906850, Train accuracy: 0.865111, val accuracy: 0.753000\n",
      "Loss: 0.638210, Train accuracy: 0.857556, val accuracy: 0.734000\n",
      "Loss: 0.500330, Train accuracy: 0.862333, val accuracy: 0.745000\n",
      "Loss: 0.959304, Train accuracy: 0.873444, val accuracy: 0.760000\n",
      "Loss: 0.731007, Train accuracy: 0.878889, val accuracy: 0.755000\n",
      "Loss: 0.822999, Train accuracy: 0.869556, val accuracy: 0.752000\n",
      "Loss: 0.871517, Train accuracy: 0.880111, val accuracy: 0.762000\n",
      "Loss: 0.891273, Train accuracy: 0.866333, val accuracy: 0.745000\n",
      "Loss: 0.756272, Train accuracy: 0.881222, val accuracy: 0.748000\n",
      "Loss: 0.676843, Train accuracy: 0.882111, val accuracy: 0.745000\n",
      "Loss: 0.694379, Train accuracy: 0.880889, val accuracy: 0.758000\n",
      "Loss: 0.803139, Train accuracy: 0.874556, val accuracy: 0.737000\n",
      "Loss: 0.768841, Train accuracy: 0.884667, val accuracy: 0.767000\n",
      "Loss: 1.048553, Train accuracy: 0.892444, val accuracy: 0.755000\n",
      "Loss: 0.708100, Train accuracy: 0.884667, val accuracy: 0.745000\n",
      "Loss: 0.815762, Train accuracy: 0.897333, val accuracy: 0.764000\n",
      "Loss: 0.902188, Train accuracy: 0.895222, val accuracy: 0.757000\n",
      "Loss: 0.823038, Train accuracy: 0.886000, val accuracy: 0.743000\n",
      "Loss: 0.649390, Train accuracy: 0.896667, val accuracy: 0.756000\n",
      "Loss: 0.735308, Train accuracy: 0.892889, val accuracy: 0.766000\n",
      "Loss: 0.991090, Train accuracy: 0.899444, val accuracy: 0.771000\n",
      "Loss: 0.896473, Train accuracy: 0.907111, val accuracy: 0.763000\n",
      "Loss: 0.742371, Train accuracy: 0.881889, val accuracy: 0.752000\n",
      "Loss: 0.743466, Train accuracy: 0.907000, val accuracy: 0.765000\n",
      "Loss: 0.798624, Train accuracy: 0.898778, val accuracy: 0.759000\n",
      "Loss: 0.636070, Train accuracy: 0.902667, val accuracy: 0.767000\n",
      "Loss: 0.577626, Train accuracy: 0.894111, val accuracy: 0.754000\n",
      "Loss: 0.748552, Train accuracy: 0.902222, val accuracy: 0.751000\n",
      "Loss: 0.655328, Train accuracy: 0.907778, val accuracy: 0.773000\n",
      "Loss: 0.908663, Train accuracy: 0.906111, val accuracy: 0.759000\n",
      "Loss: 0.727215, Train accuracy: 0.894889, val accuracy: 0.751000\n",
      "Loss: 0.684666, Train accuracy: 0.917222, val accuracy: 0.767000\n",
      "Loss: 0.816523, Train accuracy: 0.909778, val accuracy: 0.768000\n",
      "Loss: 0.706711, Train accuracy: 0.916889, val accuracy: 0.774000\n",
      "Loss: 0.682006, Train accuracy: 0.917667, val accuracy: 0.770000\n",
      "Loss: 0.796148, Train accuracy: 0.910556, val accuracy: 0.762000\n",
      "Loss: 0.754977, Train accuracy: 0.908444, val accuracy: 0.773000\n",
      "Loss: 0.896707, Train accuracy: 0.915333, val accuracy: 0.764000\n",
      "Loss: 0.783266, Train accuracy: 0.912444, val accuracy: 0.769000\n",
      "Loss: 0.849806, Train accuracy: 0.912333, val accuracy: 0.769000\n",
      "Loss: 0.595035, Train accuracy: 0.914889, val accuracy: 0.777000\n",
      "Loss: 0.500660, Train accuracy: 0.917889, val accuracy: 0.771000\n",
      "Loss: 0.515638, Train accuracy: 0.924111, val accuracy: 0.777000\n",
      "Loss: 0.642312, Train accuracy: 0.919778, val accuracy: 0.784000\n",
      "Loss: 0.814862, Train accuracy: 0.916667, val accuracy: 0.777000\n",
      "Loss: 0.970202, Train accuracy: 0.921667, val accuracy: 0.775000\n",
      "Loss: 0.707478, Train accuracy: 0.878667, val accuracy: 0.753000\n",
      "Loss: 0.989666, Train accuracy: 0.915889, val accuracy: 0.771000\n",
      "Loss: 0.649225, Train accuracy: 0.921889, val accuracy: 0.779000\n",
      "Loss: 0.884575, Train accuracy: 0.913778, val accuracy: 0.770000\n",
      "Loss: 0.617551, Train accuracy: 0.906111, val accuracy: 0.766000\n",
      "Loss: 0.615500, Train accuracy: 0.925667, val accuracy: 0.774000\n",
      "Loss: 0.618803, Train accuracy: 0.923889, val accuracy: 0.777000\n",
      "Loss: 0.680542, Train accuracy: 0.928333, val accuracy: 0.774000\n",
      "Loss: 0.668183, Train accuracy: 0.924333, val accuracy: 0.776000\n",
      "Loss: 0.759752, Train accuracy: 0.925444, val accuracy: 0.776000\n",
      "Loss: 0.743015, Train accuracy: 0.927444, val accuracy: 0.784000\n",
      "Loss: 0.933745, Train accuracy: 0.931556, val accuracy: 0.775000\n",
      "Loss: 0.693545, Train accuracy: 0.924222, val accuracy: 0.777000\n",
      "Loss: 0.673302, Train accuracy: 0.924556, val accuracy: 0.771000\n",
      "Loss: 0.825970, Train accuracy: 0.935444, val accuracy: 0.776000\n",
      "Loss: 0.670805, Train accuracy: 0.920222, val accuracy: 0.765000\n",
      "Loss: 0.861182, Train accuracy: 0.928444, val accuracy: 0.772000\n",
      "Loss: 0.867938, Train accuracy: 0.933444, val accuracy: 0.779000\n",
      "Loss: 0.778205, Train accuracy: 0.938889, val accuracy: 0.785000\n",
      "Loss: 1.048181, Train accuracy: 0.925889, val accuracy: 0.774000\n",
      "Loss: 0.751727, Train accuracy: 0.939222, val accuracy: 0.779000\n",
      "Loss: 0.821768, Train accuracy: 0.931333, val accuracy: 0.772000\n",
      "Loss: 0.620535, Train accuracy: 0.912889, val accuracy: 0.768000\n",
      "Loss: 0.653939, Train accuracy: 0.917111, val accuracy: 0.770000\n",
      "Loss: 0.836766, Train accuracy: 0.920444, val accuracy: 0.767000\n",
      "Loss: 0.753978, Train accuracy: 0.932778, val accuracy: 0.777000\n",
      "Loss: 0.624772, Train accuracy: 0.937444, val accuracy: 0.779000\n",
      "Loss: 0.746335, Train accuracy: 0.921556, val accuracy: 0.772000\n",
      "Loss: 0.747256, Train accuracy: 0.921667, val accuracy: 0.778000\n",
      "Loss: 0.641495, Train accuracy: 0.928333, val accuracy: 0.778000\n",
      "Loss: 0.751680, Train accuracy: 0.931333, val accuracy: 0.778000\n",
      "Loss: 0.712127, Train accuracy: 0.928556, val accuracy: 0.774000\n",
      "Loss: 0.710843, Train accuracy: 0.931556, val accuracy: 0.777000\n",
      "Loss: 0.824834, Train accuracy: 0.919444, val accuracy: 0.772000\n",
      "Loss: 0.803560, Train accuracy: 0.935556, val accuracy: 0.777000\n",
      "Loss: 0.695022, Train accuracy: 0.935333, val accuracy: 0.776000\n",
      "Loss: 0.639870, Train accuracy: 0.930222, val accuracy: 0.780000\n",
      "Loss: 0.774051, Train accuracy: 0.939222, val accuracy: 0.775000\n",
      "Loss: 0.917850, Train accuracy: 0.932000, val accuracy: 0.772000\n",
      "Loss: 0.750339, Train accuracy: 0.925111, val accuracy: 0.768000\n",
      "Loss: 0.769226, Train accuracy: 0.937778, val accuracy: 0.791000\n",
      "Loss: 0.864002, Train accuracy: 0.941556, val accuracy: 0.781000\n",
      "Loss: 0.803838, Train accuracy: 0.933222, val accuracy: 0.786000\n",
      "Loss: 0.732151, Train accuracy: 0.925556, val accuracy: 0.770000\n",
      "Loss: 0.588960, Train accuracy: 0.934667, val accuracy: 0.775000\n",
      "Loss: 0.777384, Train accuracy: 0.937778, val accuracy: 0.790000\n",
      "Loss: 0.623893, Train accuracy: 0.920222, val accuracy: 0.774000\n",
      "Loss: 0.683472, Train accuracy: 0.946444, val accuracy: 0.771000\n",
      "Loss: 0.816786, Train accuracy: 0.937556, val accuracy: 0.782000\n",
      "Loss: 0.707925, Train accuracy: 0.944000, val accuracy: 0.783000\n",
      "Loss: 0.783898, Train accuracy: 0.940444, val accuracy: 0.790000\n",
      "Loss: 0.796314, Train accuracy: 0.941444, val accuracy: 0.786000\n",
      "Loss: 0.745726, Train accuracy: 0.942000, val accuracy: 0.785000\n",
      "Loss: 0.693897, Train accuracy: 0.936889, val accuracy: 0.776000\n",
      "Loss: 0.588399, Train accuracy: 0.938667, val accuracy: 0.790000\n",
      "Loss: 0.665501, Train accuracy: 0.930889, val accuracy: 0.790000\n",
      "Loss: 0.782835, Train accuracy: 0.901333, val accuracy: 0.749000\n",
      "Loss: 0.835063, Train accuracy: 0.917111, val accuracy: 0.767000\n",
      "Loss: 0.721795, Train accuracy: 0.926333, val accuracy: 0.765000\n",
      "Loss: 0.579353, Train accuracy: 0.938889, val accuracy: 0.788000\n",
      "Loss: 0.697256, Train accuracy: 0.946667, val accuracy: 0.779000\n",
      "Loss: 0.766098, Train accuracy: 0.944778, val accuracy: 0.791000\n",
      "Loss: 0.810738, Train accuracy: 0.916333, val accuracy: 0.773000\n",
      "Loss: 0.725383, Train accuracy: 0.938111, val accuracy: 0.783000\n",
      "Loss: 0.787262, Train accuracy: 0.921333, val accuracy: 0.784000\n",
      "Loss: 0.735927, Train accuracy: 0.940222, val accuracy: 0.782000\n",
      "Loss: 0.639854, Train accuracy: 0.940000, val accuracy: 0.781000\n",
      "Loss: 0.705785, Train accuracy: 0.944556, val accuracy: 0.785000\n",
      "Loss: 0.646124, Train accuracy: 0.943111, val accuracy: 0.790000\n",
      "Loss: 0.660970, Train accuracy: 0.925222, val accuracy: 0.770000\n",
      "Loss: 0.792609, Train accuracy: 0.935111, val accuracy: 0.783000\n",
      "Loss: 0.799407, Train accuracy: 0.937778, val accuracy: 0.781000\n",
      "Loss: 0.692494, Train accuracy: 0.946333, val accuracy: 0.787000\n",
      "Loss: 0.669333, Train accuracy: 0.945667, val accuracy: 0.792000\n",
      "Loss: 0.788027, Train accuracy: 0.942000, val accuracy: 0.794000\n",
      "Loss: 0.660297, Train accuracy: 0.942778, val accuracy: 0.781000\n",
      "Loss: 0.724252, Train accuracy: 0.943667, val accuracy: 0.785000\n",
      "Loss: 0.638584, Train accuracy: 0.928667, val accuracy: 0.764000\n",
      "Loss: 0.734085, Train accuracy: 0.933444, val accuracy: 0.777000\n",
      "Loss: 0.828966, Train accuracy: 0.922556, val accuracy: 0.768000\n",
      "Loss: 0.592266, Train accuracy: 0.939778, val accuracy: 0.788000\n",
      "Loss: 0.820529, Train accuracy: 0.942333, val accuracy: 0.790000\n",
      "Loss: 0.797735, Train accuracy: 0.929222, val accuracy: 0.778000\n",
      "Loss: 0.727733, Train accuracy: 0.945333, val accuracy: 0.793000\n",
      "Loss: 0.697479, Train accuracy: 0.947444, val accuracy: 0.790000\n",
      "Loss: 0.561795, Train accuracy: 0.945444, val accuracy: 0.786000\n",
      "Loss: 0.546020, Train accuracy: 0.941667, val accuracy: 0.784000\n",
      "Loss: 0.743972, Train accuracy: 0.945778, val accuracy: 0.795000\n",
      "Loss: 0.768104, Train accuracy: 0.945667, val accuracy: 0.783000\n",
      "Loss: 0.799742, Train accuracy: 0.946667, val accuracy: 0.789000\n",
      "Loss: 0.826896, Train accuracy: 0.934889, val accuracy: 0.777000\n",
      "Loss: 0.659615, Train accuracy: 0.934667, val accuracy: 0.772000\n",
      "Loss: 0.614428, Train accuracy: 0.945444, val accuracy: 0.790000\n",
      "Loss: 0.759447, Train accuracy: 0.945778, val accuracy: 0.786000\n",
      "Loss: 0.833934, Train accuracy: 0.927444, val accuracy: 0.771000\n",
      "Loss: 0.807372, Train accuracy: 0.944222, val accuracy: 0.793000\n",
      "Loss: 0.692095, Train accuracy: 0.929556, val accuracy: 0.772000\n",
      "Loss: 0.701510, Train accuracy: 0.935333, val accuracy: 0.779000\n",
      "Loss: 0.755865, Train accuracy: 0.946667, val accuracy: 0.784000\n",
      "Loss: 0.756986, Train accuracy: 0.941222, val accuracy: 0.785000\n",
      "Loss: 0.808690, Train accuracy: 0.950667, val accuracy: 0.789000\n",
      "Loss: 0.816970, Train accuracy: 0.939889, val accuracy: 0.785000\n",
      "Loss: 0.836550, Train accuracy: 0.947000, val accuracy: 0.791000\n",
      "Loss: 0.688602, Train accuracy: 0.947889, val accuracy: 0.784000\n",
      "Loss: 0.685122, Train accuracy: 0.936333, val accuracy: 0.783000\n",
      "Loss: 0.643140, Train accuracy: 0.945556, val accuracy: 0.793000\n",
      "Loss: 0.778766, Train accuracy: 0.948111, val accuracy: 0.781000\n",
      "Loss: 0.638409, Train accuracy: 0.939000, val accuracy: 0.782000\n",
      "best validation accuracy achieved: 0.795000\n"
     ]
    }
   ],
   "source": [
    "# Let's train the best one-hidden-layer network we can\n",
    "\n",
    "learning_rate = 1e-2\n",
    "reg_strength = 1e-3\n",
    "learning_rate_decay = 0.999\n",
    "hidden_layer_size = 128\n",
    "num_epochs = 200\n",
    "batch_size = 64\n",
    "\n",
    "best_classifier = None\n",
    "best_val_accuracy = None\n",
    "\n",
    "loss_history = []\n",
    "train_history = []\n",
    "val_history = []\n",
    "\n",
    "# TODO find the best hyperparameters to train the network\n",
    "# Don't hesitate to add new values to the arrays above, perform experiments, use any tricks you want\n",
    "# You should expect to get to at least 40% of valudation accuracy\n",
    "# Save loss/train/history of the best classifier to the variables above\n",
    "\n",
    "dataset = Dataset(train_X, train_y, val_X, val_y)\n",
    "\n",
    "model = TwoLayerNet(n_input = train_X.shape[1], n_output = 10,\n",
    "                     hidden_layer_size = hidden_layer_size, reg = reg_strength)\n",
    "trainer = Trainer(model, dataset, MomentumSGD(), learning_rate=learning_rate,\n",
    "                     num_epochs=num_epochs, batch_size=batch_size, learning_rate_decay=learning_rate_decay)\n",
    "\n",
    "loss_history, train_history, val_history = trainer.fit()\n",
    "\n",
    "best_val_accuracy = max(val_history)\n",
    "best_classifier = model\n",
    "\n",
    "print('best validation accuracy achieved: %f' % best_val_accuracy)"
   ]
  },
  {
   "cell_type": "code",
   "execution_count": 125,
   "metadata": {},
   "outputs": [
    {
     "data": {
      "text/plain": [
       "[<matplotlib.lines.Line2D at 0x7f00cee7e2b0>]"
      ]
     },
     "execution_count": 125,
     "metadata": {},
     "output_type": "execute_result"
    },
    {
     "data": {
      "image/png": "[encoded data removed]",
      "text/plain": [
       "<Figure size 1080x504 with 2 Axes>"
      ]
     },
     "metadata": {
      "needs_background": "light"
     },
     "output_type": "display_data"
    }
   ],
   "source": [
    "plt.figure(figsize=(15, 7))\n",
    "plt.subplot(211)\n",
    "plt.title(\"Loss\")\n",
    "plt.plot(loss_history)\n",
    "plt.subplot(212)\n",
    "plt.title(\"Train/validation accuracy\")\n",
    "plt.plot(train_history)\n",
    "plt.plot(val_history)"
   ]
  },
  {
   "cell_type": "markdown",
   "metadata": {},
   "source": [
    "# Как обычно, посмотрим, как наша лучшая модель работает на тестовых данных"
   ]
  },
  {
   "cell_type": "code",
   "execution_count": 126,
   "metadata": {},
   "outputs": [
    {
     "name": "stdout",
     "output_type": "stream",
     "text": [
      "Neural net test set accuracy: 0.765000\n"
     ]
    }
   ],
   "source": [
    "test_pred = best_classifier.predict(test_X)\n",
    "test_accuracy = multiclass_accuracy(test_pred, test_y)\n",
    "print('Neural net test set accuracy: %f' % (test_accuracy, ))"
   ]
  }
 ],
 "metadata": {
  "kernelspec": {
   "display_name": "Python 3 (ipykernel)",
   "language": "python",
   "name": "python3"
  },
  "language_info": {
   "codemirror_mode": {
    "name": "ipython",
    "version": 3
   },
   "file_extension": ".py",
   "mimetype": "text/x-python",
   "name": "python",
   "nbconvert_exporter": "python",
   "pygments_lexer": "ipython3",
   "version": "3.9.7"
  }
 },
 "nbformat": 4,
 "nbformat_minor": 2
}
